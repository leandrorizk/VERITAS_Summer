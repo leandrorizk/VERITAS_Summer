{
 "cells": [
  {
   "cell_type": "code",
   "execution_count": 1,
   "id": "fb681279",
   "metadata": {},
   "outputs": [],
   "source": [
    "%matplotlib inline"
   ]
  },
  {
   "cell_type": "code",
   "execution_count": 2,
   "id": "f60bd7ea",
   "metadata": {},
   "outputs": [],
   "source": [
    "import numpy as np\n",
    "import matplotlib.pyplot as plt\n",
    "from astropy import units as u\n",
    "from astropy import constants as c\n",
    "from astropy.coordinates import SkyCoord"
   ]
  },
  {
   "cell_type": "code",
   "execution_count": 3,
   "id": "3d6de295",
   "metadata": {},
   "outputs": [],
   "source": [
    "from gammapy.data import DataStore\n",
    "from gammapy.analysis import Analysis, AnalysisConfig\n",
    "from gammapy.maps import MapAxis, RegionGeom, WcsGeom\n",
    "from gammapy.makers import ReflectedRegionsBackgroundMaker\n",
    "from gammapy.datasets import Datasets"
   ]
  },
  {
   "cell_type": "code",
   "execution_count": 4,
   "id": "a29f59a5",
   "metadata": {},
   "outputs": [],
   "source": [
    "from regions import CircleSkyRegion"
   ]
  },
  {
   "cell_type": "code",
   "execution_count": 5,
   "id": "6f4e7264",
   "metadata": {},
   "outputs": [],
   "source": [
    "path = '/Users/Leo/Documents/McGill/Summer Intro to VERITAS/BL Lacertae/data/'"
   ]
  },
  {
   "cell_type": "code",
   "execution_count": 6,
   "id": "d080a9cd",
   "metadata": {},
   "outputs": [
    {
     "name": "stdout",
     "output_type": "stream",
     "text": [
      "Data store:\n",
      "HDU index table:\n",
      "BASE_DIR: /Users/Leo/Documents/McGill/Summer Intro to VERITAS/BL Lacertae/data\n",
      "Rows: 65\n",
      "OBS_ID: 83016 -- 83768\n",
      "HDU_TYPE: ['aeff', 'edisp', 'events', 'gti', 'psf']\n",
      "HDU_CLASS: ['aeff_2d', 'edisp_2d', 'events', 'gti', 'psf_table']\n",
      "\n",
      "\n",
      "Observation table:\n",
      "Observatory name: 'N/A'\n",
      "Number of observations: 13\n",
      "\n"
     ]
    }
   ],
   "source": [
    "datastore = DataStore.from_dir(path)\n",
    "datastore.info()"
   ]
  },
  {
   "cell_type": "code",
   "execution_count": 7,
   "id": "3c460fb2",
   "metadata": {},
   "outputs": [],
   "source": [
    "conf_1d = AnalysisConfig()"
   ]
  },
  {
   "cell_type": "code",
   "execution_count": 9,
   "id": "b16dca8c",
   "metadata": {},
   "outputs": [],
   "source": [
    "conf_1d.observations.obs_ids = [83016, 83017, 83018, 83019, 83020, 83021]"
   ]
  },
  {
   "cell_type": "code",
   "execution_count": null,
   "id": "2ec96873",
   "metadata": {},
   "outputs": [],
   "source": []
  },
  {
   "cell_type": "code",
   "execution_count": null,
   "id": "06b18c83",
   "metadata": {},
   "outputs": [],
   "source": []
  },
  {
   "cell_type": "code",
   "execution_count": 10,
   "id": "b1fd4851",
   "metadata": {},
   "outputs": [],
   "source": [
    "bllacertae_ra = (22 * u.deg + 2 * u.arcmin + 43.2913536816 * u.arcsec).to(u.deg)\n",
    "bllacertae_dec = (42 * u.deg + 16 * u.arcmin + 39.979416792 * u.arcsec).to(u.deg)"
   ]
  },
  {
   "cell_type": "code",
   "execution_count": null,
   "id": "e11422b7",
   "metadata": {},
   "outputs": [],
   "source": []
  },
  {
   "cell_type": "code",
   "execution_count": 11,
   "id": "c2116fcc",
   "metadata": {},
   "outputs": [],
   "source": [
    "conf_1d.datasets.stack = False\n",
    "\n",
    "conf_1d.datasets.on_region = dict(\n",
    "    frame=\"icrs\",\n",
    "    lon=bllacertae_ra,\n",
    "    lat=bllacertae_dec,\n",
    "    radius=0.1 * u.deg,\n",
    ")\n",
    "\n",
    "conf_1d.datasets.containment_correction = True\n",
    "\n",
    "conf_1d.datasets.geom.axes.energy = dict(min=0.7 * u.TeV, max=10 * u.TeV, nbins=5)\n",
    "conf_1d.datasets.geom.axes.energy_true = dict(min=0.3 * u.TeV, max=20 * u.TeV, nbins=20)"
   ]
  },
  {
   "cell_type": "code",
   "execution_count": 12,
   "id": "c08da590",
   "metadata": {},
   "outputs": [
    {
     "name": "stderr",
     "output_type": "stream",
     "text": [
      "Setting logging config: {'level': 'INFO', 'filename': None, 'filemode': None, 'format': None, 'datefmt': None}\n"
     ]
    }
   ],
   "source": [
    "analysis_1d = Analysis(conf_1d)"
   ]
  },
  {
   "cell_type": "code",
   "execution_count": 13,
   "id": "6f41549a",
   "metadata": {},
   "outputs": [],
   "source": [
    "analysis_1d.config.observations.datastore = path"
   ]
  },
  {
   "cell_type": "code",
   "execution_count": 14,
   "id": "90d4fca5",
   "metadata": {},
   "outputs": [
    {
     "name": "stderr",
     "output_type": "stream",
     "text": [
      "Fetching observations.\n",
      "Skipping run with missing HDUs; Required HDUs ['bkg'] not found in observation 83016\n",
      "Skipping run with missing HDUs; Required HDUs ['bkg'] not found in observation 83017\n",
      "Skipping run with missing HDUs; Required HDUs ['bkg'] not found in observation 83018\n",
      "Skipping run with missing HDUs; Required HDUs ['bkg'] not found in observation 83019\n",
      "Skipping run with missing HDUs; Required HDUs ['bkg'] not found in observation 83020\n",
      "Skipping run with missing HDUs; Required HDUs ['bkg'] not found in observation 83021\n",
      "Observations selected: 0 out of 6.\n",
      "Number of selected observations: 0\n"
     ]
    }
   ],
   "source": [
    "analysis_1d.get_observations()"
   ]
  },
  {
   "cell_type": "code",
   "execution_count": null,
   "id": "9b97cdff",
   "metadata": {},
   "outputs": [],
   "source": []
  },
  {
   "cell_type": "code",
   "execution_count": null,
   "id": "76a1b110",
   "metadata": {},
   "outputs": [],
   "source": []
  },
  {
   "cell_type": "code",
   "execution_count": null,
   "id": "930692a6",
   "metadata": {},
   "outputs": [],
   "source": []
  },
  {
   "cell_type": "code",
   "execution_count": null,
   "id": "fa50dc90",
   "metadata": {},
   "outputs": [],
   "source": []
  },
  {
   "cell_type": "code",
   "execution_count": null,
   "id": "70336cd1",
   "metadata": {},
   "outputs": [],
   "source": []
  },
  {
   "cell_type": "code",
   "execution_count": null,
   "id": "914e85e2",
   "metadata": {},
   "outputs": [],
   "source": []
  },
  {
   "cell_type": "code",
   "execution_count": null,
   "id": "9111bf5e",
   "metadata": {},
   "outputs": [],
   "source": []
  },
  {
   "cell_type": "code",
   "execution_count": 23,
   "id": "6445de26",
   "metadata": {},
   "outputs": [],
   "source": [
    "exclusion_region = CircleSkyRegion(\n",
    "    center=SkyCoord(bllacertae_ra, bllacertae_dec, frame=\"icrs\"),\n",
    "    radius=0.5 * u.deg,\n",
    ")\n",
    "\n",
    "target_position = SkyCoord(bllacertae_ra, bllacertae_dec, frame=\"icrs\")\n",
    "\n",
    "skydir = target_position.galactic\n",
    "geom = WcsGeom.create(\n",
    "    npix=(150, 150), binsz=0.05, skydir=skydir, proj=\"TAN\", frame=\"icrs\"\n",
    ")\n",
    "\n",
    "exclusion_mask = ~geom.region_mask([exclusion_region])"
   ]
  },
  {
   "cell_type": "code",
   "execution_count": 24,
   "id": "eb9c8cbf",
   "metadata": {},
   "outputs": [],
   "source": [
    "bkg_maker = ReflectedRegionsBackgroundMaker(exclusion_mask=exclusion_mask)"
   ]
  },
  {
   "cell_type": "code",
   "execution_count": null,
   "id": "81256bf3",
   "metadata": {},
   "outputs": [],
   "source": []
  },
  {
   "cell_type": "code",
   "execution_count": 1,
   "id": "1f998c48",
   "metadata": {},
   "outputs": [
    {
     "ename": "NameError",
     "evalue": "name 'datastore' is not defined",
     "output_type": "error",
     "traceback": [
      "\u001b[0;31m---------------------------------------------------------------------------\u001b[0m",
      "\u001b[0;31mNameError\u001b[0m                                 Traceback (most recent call last)",
      "Input \u001b[0;32mIn [1]\u001b[0m, in \u001b[0;36m<cell line: 2>\u001b[0;34m()\u001b[0m\n\u001b[1;32m      1\u001b[0m obs_ids \u001b[38;5;241m=\u001b[39m [\u001b[38;5;241m83016\u001b[39m, \u001b[38;5;241m83017\u001b[39m, \u001b[38;5;241m83018\u001b[39m, \u001b[38;5;241m83019\u001b[39m, \u001b[38;5;241m83020\u001b[39m, \u001b[38;5;241m83021\u001b[39m]\n\u001b[0;32m----> 2\u001b[0m observations \u001b[38;5;241m=\u001b[39m \u001b[43mdatastore\u001b[49m\u001b[38;5;241m.\u001b[39mget_observations(obs_ids)\n",
      "\u001b[0;31mNameError\u001b[0m: name 'datastore' is not defined"
     ]
    }
   ],
   "source": [
    "obs_ids = [83016, 83017, 83018, 83019, 83020, 83021]\n",
    "observations = datastore.get_observations(obs_ids)"
   ]
  },
  {
   "cell_type": "code",
   "execution_count": 22,
   "id": "506c1d45",
   "metadata": {},
   "outputs": [],
   "source": [
    "datasets = Datasets()\n",
    "\n",
    "for obs_id, observation in zip(obs_ids, observations):\n",
    "    dataset = dataset_maker.run(dataset_empty.copy(name=str(obs_id)), observation)\n",
    "    dataset_on_off = bkg_maker.run(dataset, observation)\n",
    "    dataset_on_off = safe_mask_masker.run(dataset_on_off, observation)\n",
    "    datasets.append(dataset_on_off)"
   ]
  },
  {
   "cell_type": "code",
   "execution_count": null,
   "id": "3e2fef9a",
   "metadata": {},
   "outputs": [],
   "source": []
  },
  {
   "cell_type": "code",
   "execution_count": null,
   "id": "9646c03d",
   "metadata": {},
   "outputs": [],
   "source": []
  },
  {
   "cell_type": "code",
   "execution_count": null,
   "id": "48a669b9",
   "metadata": {},
   "outputs": [],
   "source": []
  },
  {
   "cell_type": "code",
   "execution_count": 16,
   "id": "45cd4624",
   "metadata": {},
   "outputs": [
    {
     "name": "stdout",
     "output_type": "stream",
     "text": [
      "SIMPLE  =                    T / conforms to FITS standard                      BITPIX  =                    8 / array data type                                NAXIS   =                    0 / number of array dimensions                     EXTEND  =                    T                                                  SOURCE  = 'BL Lac  '                                                            MODEL   = 'Power Law'                                                           NORM    = 1.15294722427777E-11 / cm^-2 s^-1 TeV^-1                              NORMERR = 9.57144680090104E-13 / cm^-2 s^-1 TeV^-1                              GAMMA   =   -3.414036385297607                                                  GAMMAERR=   0.1125493662640403                                                  ENORM   =                  1.0 / TeV                                            END                                                                                                                                                                                                                                                                                                                                                                                                                                                                                                                                                                                                                                                                                                                                                                                                                                                                                                                                                                                                                                                                                                                                                                                                                                                                                                                                                                                                                                                                                                                                                                                                                                                                                                                                                                                                                                                                                                                                                                                                                                                                             \n"
     ]
    }
   ],
   "source": [
    "from astropy.io import fits\n",
    "from astropy.table import Table\n",
    "\n",
    "hdul = fits.open(path + 'bl_combine.fits')\n",
    "\n",
    "# Print out details for the fit\n",
    "print (hdul[0].header)"
   ]
  },
  {
   "cell_type": "code",
   "execution_count": 18,
   "id": "5d1d69a7",
   "metadata": {},
   "outputs": [
    {
     "data": {
      "text/html": [
       "<div><i>Table length=5</i>\n",
       "<table id=\"table140581072283776\" class=\"table-striped table-bordered table-condensed\">\n",
       "<thead><tr><th>E</th><th>dNdE</th><th>dNdE_errl</th><th>dNdE_erru</th><th>dNdE_ul</th><th>Hz</th><th>nuFnu</th><th>nuFnu_errl</th><th>nuFnu_erru</th><th>nuFnu_ul</th><th>Sigma</th></tr></thead>\n",
       "<thead><tr><th>TeV</th><th>1 / (cm2 s TeV)</th><th>1 / (cm2 s TeV)</th><th>1 / (cm2 s TeV)</th><th>1 / (cm2 s TeV)</th><th>Hz</th><th>erg / (cm2 s)</th><th>erg / (cm2 s)</th><th>erg / (cm2 s)</th><th>erg / (cm2 s)</th><th></th></tr></thead>\n",
       "<thead><tr><th>float64</th><th>float64</th><th>float64</th><th>float64</th><th>float64</th><th>float64</th><th>float64</th><th>float64</th><th>float64</th><th>float64</th><th>float64</th></tr></thead>\n",
       "<tr><td>0.39810717055349704</td><td>2.594568396658546e-10</td><td>1.7531998788451783e-11</td><td>1.8328744267171375e-11</td><td>0.0</td><td>9.626188555952215e+25</td><td>6.588332629467718e-11</td><td>4.451863355250235e-12</td><td>4.654179248775704e-12</td><td>0.0</td><td>0.0</td></tr>\n",
       "<tr><td>0.6309573444801928</td><td>6.225869491350621e-11</td><td>5.176365952855205e-12</td><td>5.47399791560092e-12</td><td>0.0</td><td>1.5256480711675739e+26</td><td>3.9710961850216795e-11</td><td>3.3016829402249626e-12</td><td>3.4915239180099986e-12</td><td>0.0</td><td>0.0</td></tr>\n",
       "<tr><td>0.9999999999999992</td><td>1.2755113059947644e-11</td><td>1.6137508116126233e-12</td><td>1.7578911604462704e-12</td><td>0.0</td><td>2.417989242084916e+26</td><td>2.043594410867632e-11</td><td>2.5855138434642765e-12</td><td>2.8164521423821543e-12</td><td>0.0</td><td>0.0</td></tr>\n",
       "<tr><td>1.584893192461112</td><td>1.7159468830440653e-12</td><td>4.112787859663585e-13</td><td>4.882137739821135e-13</td><td>0.0</td><td>3.83225468922459e+26</td><td>6.905803774837774e-12</td><td>1.655185612504906e-12</td><td>1.9648093752834976e-12</td><td>0.0</td><td>0.0</td></tr>\n",
       "<tr><td>2.5118864315095766</td><td>0.0</td><td>0.0</td><td>0.0</td><td>5.61924080180172e-13</td><td>6.0737143687292305e+26</td><td>0.0</td><td>0.0</td><td>0.0</td><td>5.680519265456438e-12</td><td>0.0</td></tr>\n",
       "</table></div>"
      ],
      "text/plain": [
       "<Table length=5>\n",
       "         E                   dNdE          ...        nuFnu_ul        Sigma \n",
       "        TeV            1 / (cm2 s TeV)     ...     erg / (cm2 s)            \n",
       "      float64              float64         ...        float64        float64\n",
       "------------------- ---------------------- ... --------------------- -------\n",
       "0.39810717055349704  2.594568396658546e-10 ...                   0.0     0.0\n",
       " 0.6309573444801928  6.225869491350621e-11 ...                   0.0     0.0\n",
       " 0.9999999999999992 1.2755113059947644e-11 ...                   0.0     0.0\n",
       "  1.584893192461112 1.7159468830440653e-12 ...                   0.0     0.0\n",
       " 2.5118864315095766                    0.0 ... 5.680519265456438e-12     0.0"
      ]
     },
     "execution_count": 18,
     "metadata": {},
     "output_type": "execute_result"
    }
   ],
   "source": [
    "# Access the spectral points\n",
    "spectrum = Table.read(hdul[1])\n",
    "spectrum"
   ]
  },
  {
   "cell_type": "code",
   "execution_count": 19,
   "id": "89cb205e",
   "metadata": {},
   "outputs": [
    {
     "data": {
      "text/html": [
       "<div><i>Table length=2306</i>\n",
       "<table id=\"table140581071730624\" class=\"table-striped table-bordered table-condensed\">\n",
       "<thead><tr><th>E</th><th>dNdE</th><th>dNdE_err</th><th>Hz</th><th>nuFnu</th><th>nuFnu_err</th></tr></thead>\n",
       "<thead><tr><th>TeV</th><th>1 / (cm2 s TeV)</th><th>1 / (cm2 s TeV)</th><th>Hz</th><th>erg / (cm2 s)</th><th>erg / (cm2 s)</th></tr></thead>\n",
       "<thead><tr><th>float64</th><th>float64</th><th>float64</th><th>float64</th><th>float64</th><th>float64</th></tr></thead>\n",
       "<tr><td>0.1</td><td>2.991202488009961e-08</td><td>5.899913095496186e-09</td><td>2.4179892420849182e+25</td><td>4.792434733852224e-10</td><td>9.4527029042346e-11</td></tr>\n",
       "<tr><td>0.10023052380778996</td><td>2.9677805003696204e-08</td><td>5.846304457815454e-09</td><td>2.4235632829577234e+25</td><td>4.776856233296789e-10</td><td>9.410047639166174e-11</td></tr>\n",
       "<tr><td>0.10046157902783952</td><td>2.9445419137217628e-08</td><td>5.7931742259271874e-09</td><td>2.4291501733217976e+25</td><td>4.761328372905075e-10</td><td>9.367570786664617e-11</td></tr>\n",
       "<tr><td>0.10069316688518042</td><td>2.9214852919831455e-08</td><td>5.740518195123388e-09</td><td>2.4347499427982753e+25</td><td>4.745850988063927e-10</td><td>9.325271642847093e-11</td></tr>\n",
       "<tr><td>0.10092528860766845</td><td>2.8986092103154698e-08</td><td>5.688332191612814e-09</td><td>2.4403626210765784e+25</td><td>4.730423914695283e-10</td><td>9.283149497412842e-11</td></tr>\n",
       "<tr><td>0.10115794542598985</td><td>2.8759122550373417e-08</td><td>5.636612082037972e-09</td><td>2.445988237914567e+25</td><td>4.715046989254446e-10</td><td>9.241203649540168e-11</td></tr>\n",
       "<tr><td>...</td><td>...</td><td>...</td><td>...</td><td>...</td><td>...</td></tr>\n",
       "<tr><td>19.952623149687348</td><td>4.2030264899862294e-16</td><td>1.7004974991278624e-16</td><td>4.8245228127318496e+27</td><td>2.6808500375914826e-13</td><td>1.0846419348825204e-13</td></tr>\n",
       "<tr><td>19.998618696325988</td><td>4.170115567073092e-16</td><td>1.6882489873670395e-16</td><td>4.8356444864274545e+27</td><td>2.6721355477509316e-13</td><td>1.0817997870894279e-13</td></tr>\n",
       "<tr><td>20.04472027365015</td><td>4.1374623462823614e-16</td><td>1.676088040768495e-16</td><td>4.846791798228751e+27</td><td>2.6634493856169356e-13</td><td>1.078964662104041e-13</td></tr>\n",
       "<tr><td>20.09092812608581</td><td>4.105064809731279e-16</td><td>1.664014039066581e-16</td><td>4.857964807237678e+27</td><td>2.654791459106197e-13</td><td>1.0761365443669928e-13</td></tr>\n",
       "<tr><td>20.137242498622403</td><td>4.072920955337696e-16</td><td>1.6520263662680885e-16</td><td>4.869163572692418e+27</td><td>2.6461616764347483e-13</td><td>1.0733154182993262e-13</td></tr>\n",
       "<tr><td>20.18366363681412</td><td>4.0410287966963523e-16</td><td>1.6401244105232633e-16</td><td>4.880388153967709e+27</td><td>2.6375599461169787e-13</td><td>1.0705012682368013e-13</td></tr>\n",
       "</table></div>"
      ],
      "text/plain": [
       "<Table length=2306>\n",
       "         E                   dNdE          ...       nuFnu_err       \n",
       "        TeV            1 / (cm2 s TeV)     ...     erg / (cm2 s)     \n",
       "      float64              float64         ...        float64        \n",
       "------------------- ---------------------- ... ----------------------\n",
       "                0.1  2.991202488009961e-08 ...    9.4527029042346e-11\n",
       "0.10023052380778996 2.9677805003696204e-08 ...  9.410047639166174e-11\n",
       "0.10046157902783952 2.9445419137217628e-08 ...  9.367570786664617e-11\n",
       "0.10069316688518042 2.9214852919831455e-08 ...  9.325271642847093e-11\n",
       "0.10092528860766845 2.8986092103154698e-08 ...  9.283149497412842e-11\n",
       "0.10115794542598985 2.8759122550373417e-08 ...  9.241203649540168e-11\n",
       "                ...                    ... ...                    ...\n",
       " 19.952623149687348 4.2030264899862294e-16 ... 1.0846419348825204e-13\n",
       " 19.998618696325988  4.170115567073092e-16 ... 1.0817997870894279e-13\n",
       "  20.04472027365015 4.1374623462823614e-16 ...  1.078964662104041e-13\n",
       "  20.09092812608581  4.105064809731279e-16 ... 1.0761365443669928e-13\n",
       " 20.137242498622403  4.072920955337696e-16 ... 1.0733154182993262e-13\n",
       "  20.18366363681412 4.0410287966963523e-16 ... 1.0705012682368013e-13"
      ]
     },
     "execution_count": 19,
     "metadata": {},
     "output_type": "execute_result"
    }
   ],
   "source": [
    "# Access the confidence interval\n",
    "model = Table.read(hdul[2])\n",
    "model"
   ]
  },
  {
   "cell_type": "code",
   "execution_count": null,
   "id": "340c1db4",
   "metadata": {},
   "outputs": [],
   "source": []
  },
  {
   "cell_type": "code",
   "execution_count": null,
   "id": "7a33c0a4",
   "metadata": {},
   "outputs": [],
   "source": []
  },
  {
   "cell_type": "code",
   "execution_count": null,
   "id": "904f7049",
   "metadata": {},
   "outputs": [],
   "source": []
  }
 ],
 "metadata": {
  "kernelspec": {
   "display_name": "Python 3 (ipykernel)",
   "language": "python",
   "name": "python3"
  },
  "language_info": {
   "codemirror_mode": {
    "name": "ipython",
    "version": 3
   },
   "file_extension": ".py",
   "mimetype": "text/x-python",
   "name": "python",
   "nbconvert_exporter": "python",
   "pygments_lexer": "ipython3",
   "version": "3.9.12"
  }
 },
 "nbformat": 4,
 "nbformat_minor": 5
}
