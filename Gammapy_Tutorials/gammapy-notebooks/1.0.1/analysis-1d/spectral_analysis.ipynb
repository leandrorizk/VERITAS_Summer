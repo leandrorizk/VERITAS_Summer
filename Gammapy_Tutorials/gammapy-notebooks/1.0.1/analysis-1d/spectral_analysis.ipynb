{
 "cells": [
  {
   "cell_type": "code",
   "execution_count": 1,
   "metadata": {},
   "outputs": [],
   "source": [
    "%matplotlib inline"
   ]
  },
  {
   "cell_type": "markdown",
   "metadata": {},
   "source": [
    "\n",
    "# Spectral analysis\n",
    "\n",
    "Perform a full region based on-off spectral analysis and fit the resulting datasets.\n",
    "\n",
    "## Prerequisites\n",
    "\n",
    "-  Understanding how spectral extraction is performed in Cherenkov\n",
    "   astronomy, in particular regarding OFF background measurements.\n",
    "-  Understanding the basics data reduction and modeling/fitting process\n",
    "   with the gammapy library API as shown in the :doc:`/tutorials/starting/analysis_2`\n",
    "   tutorial.\n",
    "\n",
    "## Context\n",
    "\n",
    "While 3D analyses allow in principle to consider complex field of views\n",
    "containing overlapping gamma-ray sources, in many cases we might have an\n",
    "observation with a single, strong, point-like source in the field of\n",
    "view. A spectral analysis, in that case, might consider all the events\n",
    "inside a source (or ON) region and bin them in energy only, obtaining 1D\n",
    "datasets.\n",
    "\n",
    "In classical Cherenkov astronomy, the background estimation technique\n",
    "associated with this method measures the number of events in OFF regions\n",
    "taken in regions of the field-of-view devoid of gamma-ray emitters,\n",
    "where the background rate is assumed to be equal to the one in the ON\n",
    "region.\n",
    "\n",
    "This allows to use a specific fit statistics for ON-OFF measurements,\n",
    "the wstat (see `~gammapy.stats.wstat`), where no background model is\n",
    "assumed. Background is treated as a set of nuisance parameters. This\n",
    "removes some systematic effects connected to the choice or the quality\n",
    "of the background model. But this comes at the expense of larger\n",
    "statistical uncertainties on the fitted model parameters.\n",
    "\n",
    "**Objective: perform a full region based spectral analysis of 4 Crab\n",
    "observations of H.E.S.S. data release 1 and fit the resulting\n",
    "datasets.**\n",
    "\n",
    "## Introduction\n",
    "\n",
    "Here, as usual, we use the `~gammapy.data.DataStore` to retrieve a\n",
    "list of selected observations (`~gammapy.data.Observations`). Then, we\n",
    "define the ON region containing the source and the geometry of the\n",
    "`~gammapy.datasets.SpectrumDataset` object we want to produce. We then\n",
    "create the corresponding dataset Maker.\n",
    "\n",
    "We have to define the Maker object that will extract the OFF counts from\n",
    "reflected regions in the field-of-view. To ensure we use data in an\n",
    "energy range where the quality of the IRFs is good enough we also create\n",
    "a safe range Maker.\n",
    "\n",
    "We can then proceed with data reduction with a loop over all selected\n",
    "observations to produce datasets in the relevant geometry.\n",
    "\n",
    "We can then explore the resulting datasets and look at the cumulative\n",
    "signal and significance of our source. We finally proceed with model\n",
    "fitting.\n",
    "\n",
    "In practice, we have to:\n",
    "\n",
    "- Create a `~gammapy.data.DataStore` pointing to the relevant data\n",
    "- Apply an observation selection to produce a list of observations,\n",
    "  a `~gammapy.data.Observations` object.\n",
    "- Define a geometry of the spectrum we want to produce:\n",
    "\n",
    "  - Create a `~regions.CircleSkyRegion` for the ON extraction region\n",
    "  - Create a `~gammapy.maps.MapAxis` for the energy binnings: one for the\n",
    "    reconstructed (i.e.measured) energy, the other for the true energy\n",
    "    (i.e.the one used by IRFs and models)\n",
    "\n",
    "- Create the necessary makers :\n",
    "\n",
    "  - the spectrum dataset maker : `~gammapy.makers.SpectrumDatasetMaker` -\n",
    "    the OFF background maker, here a `~gammapy.makers.ReflectedRegionsBackgroundMaker`\n",
    "  - and the safe range maker : `~gammapy.makers.SafeMaskMaker`\n",
    "\n",
    "- Perform the data reduction loop. And for every observation:\n",
    "\n",
    "  - Apply the makers sequentially to produce a `~gammapy.datasets.SpectrumDatasetOnOff`\n",
    "  - Append it to list of datasets\n",
    "\n",
    "- Define the `~gammapy.modeling.models.SkyModel` to apply to the dataset.\n",
    "- Create a `~gammapy.modeling.Fit` object and run it to fit the model parameters\n",
    "- Apply a `~gammapy.estimators.FluxPointsEstimator` to compute flux points for\n",
    "  the spectral part of the fit.\n"
   ]
  },
  {
   "cell_type": "code",
   "execution_count": 2,
   "metadata": {},
   "outputs": [],
   "source": [
    "from pathlib import Path\n",
    "\n",
    "# Check package versions\n",
    "import numpy as np\n",
    "import astropy.units as u\n",
    "from astropy.coordinates import Angle, SkyCoord\n",
    "from regions import CircleSkyRegion\n",
    "\n",
    "# %matplotlib inline\n",
    "import matplotlib.pyplot as plt"
   ]
  },
  {
   "cell_type": "markdown",
   "metadata": {},
   "source": [
    "## Setup\n",
    "\n",
    "As usual, we’ll start with some setup …\n",
    "\n",
    "\n"
   ]
  },
  {
   "cell_type": "code",
   "execution_count": 3,
   "metadata": {},
   "outputs": [],
   "source": [
    "from IPython.display import display\n",
    "from gammapy.data import DataStore\n",
    "from gammapy.datasets import (\n",
    "    Datasets,\n",
    "    FluxPointsDataset,\n",
    "    SpectrumDataset,\n",
    "    SpectrumDatasetOnOff,\n",
    ")\n",
    "from gammapy.estimators import FluxPointsEstimator\n",
    "from gammapy.makers import (\n",
    "    ReflectedRegionsBackgroundMaker,\n",
    "    SafeMaskMaker,\n",
    "    SpectrumDatasetMaker,\n",
    ")\n",
    "from gammapy.maps import MapAxis, RegionGeom, WcsGeom\n",
    "from gammapy.modeling import Fit\n",
    "from gammapy.modeling.models import (\n",
    "    ExpCutoffPowerLawSpectralModel,\n",
    "    SkyModel,\n",
    "    create_crab_spectral_model,\n",
    ")"
   ]
  },
  {
   "cell_type": "markdown",
   "metadata": {},
   "source": [
    "## Check setup\n",
    "\n"
   ]
  },
  {
   "cell_type": "code",
   "execution_count": 4,
   "metadata": {},
   "outputs": [
    {
     "name": "stderr",
     "output_type": "stream",
     "text": [
      "198MB [00:26, 7.93MB/s]                                                         \n"
     ]
    },
    {
     "name": "stdout",
     "output_type": "stream",
     "text": [
      "\n",
      "*** You might want to declare GAMMAPY_DATA env variable\n",
      "export GAMMAPY_DATA=gammapy-data/1.0.1\n",
      "\n",
      "\n",
      "System:\n",
      "\n",
      "\tpython_executable      : /Users/Leo/opt/anaconda3/bin/python \n",
      "\tpython_version         : 3.9.12     \n",
      "\tmachine                : x86_64     \n",
      "\tsystem                 : Darwin     \n",
      "\n",
      "\n",
      "Gammapy package:\n",
      "\n",
      "\tversion                : 1.0.1      \n",
      "\tpath                   : /Users/Leo/opt/anaconda3/lib/python3.9/site-packages/gammapy \n",
      "\n",
      "\n",
      "Other packages:\n",
      "\n",
      "\tnumpy                  : 1.21.5     \n",
      "\tscipy                  : 1.7.3      \n",
      "\tastropy                : 5.0.4      \n",
      "\tregions                : 0.7        \n",
      "\tclick                  : 8.0.4      \n",
      "\tyaml                   : 6.0        \n",
      "\tIPython                : 8.2.0      \n",
      "\tjupyterlab             : 3.3.2      \n",
      "\tmatplotlib             : 3.5.1      \n",
      "\tpandas                 : 1.4.2      \n",
      "\thealpy                 : not installed \n",
      "\timinuit                : 2.21.3     \n",
      "\tsherpa                 : not installed \n",
      "\tnaima                  : not installed \n",
      "\temcee                  : not installed \n",
      "\tcorner                 : not installed \n",
      "\n",
      "\n",
      "Gammapy environment variables:\n",
      "\n",
      "\tGAMMAPY_DATA           : ./gammapy-data \n",
      "\n"
     ]
    }
   ],
   "source": [
    "from gammapy.utils.check import check_tutorials_setup\n",
    "from gammapy.visualization import plot_spectrum_datasets_off_regions\n",
    "\n",
    "check_tutorials_setup()"
   ]
  },
  {
   "cell_type": "code",
   "execution_count": 12,
   "metadata": {},
   "outputs": [],
   "source": [
    "import os\n",
    "\n",
    "os.environ['GAMMAPY_DATA'] = './gammapy-data/1.0.1/'"
   ]
  },
  {
   "cell_type": "code",
   "execution_count": 13,
   "metadata": {},
   "outputs": [
    {
     "name": "stdout",
     "output_type": "stream",
     "text": [
      "./gammapy-data/1.0.1/\r\n"
     ]
    }
   ],
   "source": []
  },
  {
   "cell_type": "markdown",
   "metadata": {},
   "source": [
    "## Load Data\n",
    "\n",
    "First, we select and load some H.E.S.S. observations of the Crab nebula\n",
    "(simulated events for now).\n",
    "\n",
    "We will access the events, effective area, energy dispersion, livetime\n",
    "and PSF for containement correction.\n",
    "\n",
    "\n"
   ]
  },
  {
   "cell_type": "code",
   "execution_count": 14,
   "metadata": {},
   "outputs": [],
   "source": [
    "datastore = DataStore.from_dir(\"$GAMMAPY_DATA/hess-dl3-dr1/\")\n",
    "obs_ids = [23523, 23526, 23559, 23592]\n",
    "observations = datastore.get_observations(obs_ids)"
   ]
  },
  {
   "cell_type": "markdown",
   "metadata": {},
   "source": [
    "## Define Target Region\n",
    "\n",
    "The next step is to define a signal extraction region, also known as on\n",
    "region. In the simplest case this is just a\n",
    "[CircleSkyRegion](http://astropy-regions.readthedocs.io/en/latest/api/regions.CircleSkyRegion.html).\n",
    "\n",
    "\n"
   ]
  },
  {
   "cell_type": "code",
   "execution_count": 15,
   "metadata": {},
   "outputs": [],
   "source": [
    "target_position = SkyCoord(ra=83.63, dec=22.01, unit=\"deg\", frame=\"icrs\")\n",
    "on_region_radius = Angle(\"0.11 deg\")\n",
    "on_region = CircleSkyRegion(center=target_position, radius=on_region_radius)"
   ]
  },
  {
   "cell_type": "markdown",
   "metadata": {},
   "source": [
    "## Create exclusion mask\n",
    "\n",
    "We will use the reflected regions method to place off regions to\n",
    "estimate the background level in the on region. To make sure the off\n",
    "regions don’t contain gamma-ray emission, we create an exclusion mask.\n",
    "\n",
    "Using http://gamma-sky.net/ we find that there’s only one known\n",
    "gamma-ray source near the Crab nebula: the AGN called [RGB\n",
    "J0521+212](http://gamma-sky.net/#/cat/tev/23)_ at GLON = 183.604 deg\n",
    "and GLAT = -8.708 deg.\n",
    "\n",
    "\n"
   ]
  },
  {
   "cell_type": "code",
   "execution_count": 44,
   "metadata": {},
   "outputs": [
    {
     "data": {
      "text/plain": [
       "<SkyCoord (Galactic): (l, b) in deg\n",
       "    (184.55974014, -5.78918015)>"
      ]
     },
     "execution_count": 44,
     "metadata": {},
     "output_type": "execute_result"
    }
   ],
   "source": [
    "target_position.galactic"
   ]
  },
  {
   "cell_type": "code",
   "execution_count": null,
   "metadata": {},
   "outputs": [],
   "source": []
  },
  {
   "cell_type": "markdown",
   "metadata": {},
   "source": [
    "## Run data reduction chain\n",
    "\n",
    "We begin with the configuration of the maker classes:\n",
    "\n",
    "\n"
   ]
  },
  {
   "cell_type": "code",
   "execution_count": 18,
   "metadata": {},
   "outputs": [
    {
     "data": {
      "text/plain": [
       "<WCSAxesSubplot:xlabel='Right Ascension', ylabel='Declination'>"
      ]
     },
     "execution_count": 18,
     "metadata": {},
     "output_type": "execute_result"
    },
    {
     "data": {
      "image/png": "[encoded data removed]",
      "text/plain": [
       "<Figure size 432x288 with 1 Axes>"
      ]
     },
     "metadata": {
      "needs_background": "light"
     },
     "output_type": "display_data"
    }
   ],
   "source": [
    "exclusion_region = CircleSkyRegion(\n",
    "    center=SkyCoord(183.604, -8.708, unit=\"deg\", frame=\"galactic\"),\n",
    "    radius=0.5 * u.deg,\n",
    ")\n",
    "\n",
    "skydir = target_position.galactic\n",
    "geom = WcsGeom.create(\n",
    "    npix=(150, 150), binsz=0.05, skydir=skydir, proj=\"TAN\", frame=\"icrs\"\n",
    ")\n",
    "\n",
    "exclusion_mask = ~geom.region_mask([exclusion_region])\n",
    "exclusion_mask.plot()"
   ]
  },
  {
   "cell_type": "code",
   "execution_count": 19,
   "metadata": {},
   "outputs": [],
   "source": [
    "energy_axis = MapAxis.from_energy_bounds(\n",
    "    0.1, 40, nbin=10, per_decade=True, unit=\"TeV\", name=\"energy\"\n",
    ")\n",
    "energy_axis_true = MapAxis.from_energy_bounds(\n",
    "    0.05, 100, nbin=20, per_decade=True, unit=\"TeV\", name=\"energy_true\"\n",
    ")\n",
    "\n",
    "geom = RegionGeom.create(region=on_region, axes=[energy_axis])\n",
    "dataset_empty = SpectrumDataset.create(geom=geom, energy_axis_true=energy_axis_true)\n",
    "\n",
    "dataset_maker = SpectrumDatasetMaker(\n",
    "    containment_correction=True, selection=[\"counts\", \"exposure\", \"edisp\"]\n",
    ")\n",
    "bkg_maker = ReflectedRegionsBackgroundMaker(exclusion_mask=exclusion_mask)\n",
    "safe_mask_masker = SafeMaskMaker(methods=[\"aeff-max\"], aeff_percent=10)"
   ]
  },
  {
   "cell_type": "code",
   "execution_count": 20,
   "metadata": {},
   "outputs": [
    {
     "name": "stdout",
     "output_type": "stream",
     "text": [
      "Datasets\n",
      "--------\n",
      "\n",
      "Dataset 0: \n",
      "\n",
      "  Type       : SpectrumDatasetOnOff\n",
      "  Name       : 23523\n",
      "  Instrument : HESS\n",
      "  Models     : \n",
      "\n",
      "Dataset 1: \n",
      "\n",
      "  Type       : SpectrumDatasetOnOff\n",
      "  Name       : 23526\n",
      "  Instrument : HESS\n",
      "  Models     : \n",
      "\n",
      "Dataset 2: \n",
      "\n",
      "  Type       : SpectrumDatasetOnOff\n",
      "  Name       : 23559\n",
      "  Instrument : HESS\n",
      "  Models     : \n",
      "\n",
      "Dataset 3: \n",
      "\n",
      "  Type       : SpectrumDatasetOnOff\n",
      "  Name       : 23592\n",
      "  Instrument : HESS\n",
      "  Models     : \n",
      "\n",
      "\n"
     ]
    }
   ],
   "source": [
    "datasets = Datasets()\n",
    "\n",
    "for obs_id, observation in zip(obs_ids, observations):\n",
    "    dataset = dataset_maker.run(dataset_empty.copy(name=str(obs_id)), observation)\n",
    "    dataset_on_off = bkg_maker.run(dataset, observation)\n",
    "    dataset_on_off = safe_mask_masker.run(dataset_on_off, observation)\n",
    "    datasets.append(dataset_on_off)\n",
    "\n",
    "print(datasets)"
   ]
  },
  {
   "cell_type": "markdown",
   "metadata": {},
   "source": [
    "## Plot off regions\n",
    "\n",
    "\n"
   ]
  },
  {
   "cell_type": "code",
   "execution_count": 21,
   "metadata": {},
   "outputs": [
    {
     "data": {
      "text/plain": [
       "<WCSAxesSubplot:xlabel='Right Ascension', ylabel='Declination'>"
      ]
     },
     "execution_count": 21,
     "metadata": {},
     "output_type": "execute_result"
    },
    {
     "data": {
      "image/png": "[encoded data removed]",
      "text/plain": [
       "<Figure size 432x288 with 1 Axes>"
      ]
     },
     "metadata": {
      "needs_background": "light"
     },
     "output_type": "display_data"
    }
   ],
   "source": [
    "plt.figure()\n",
    "ax = exclusion_mask.plot()\n",
    "on_region.to_pixel(ax.wcs).plot(ax=ax, edgecolor=\"k\")\n",
    "plot_spectrum_datasets_off_regions(ax=ax, datasets=datasets)"
   ]
  },
  {
   "cell_type": "markdown",
   "metadata": {},
   "source": [
    "## Source statistic\n",
    "\n",
    "Next we’re going to look at the overall source statistics in our signal\n",
    "region.\n",
    "\n",
    "\n"
   ]
  },
  {
   "cell_type": "code",
   "execution_count": 22,
   "metadata": {},
   "outputs": [
    {
     "data": {
      "text/html": [
       "<div><i>Table length=4</i>\n",
       "<table id=\"table140205639565472\" class=\"table-striped table-bordered table-condensed\">\n",
       "<thead><tr><th>name</th><th>counts</th><th>excess</th><th>sqrt_ts</th><th>background</th><th>npred</th><th>npred_background</th><th>npred_signal</th><th>exposure_min</th><th>exposure_max</th><th>livetime</th><th>ontime</th><th>counts_rate</th><th>background_rate</th><th>excess_rate</th><th>n_bins</th><th>n_fit_bins</th><th>stat_type</th><th>stat_sum</th><th>counts_off</th><th>acceptance</th><th>acceptance_off</th><th>alpha</th></tr></thead>\n",
       "<thead><tr><th></th><th></th><th></th><th></th><th></th><th></th><th></th><th></th><th>m2 s</th><th>m2 s</th><th>s</th><th>s</th><th>1 / s</th><th>1 / s</th><th>1 / s</th><th></th><th></th><th></th><th></th><th></th><th></th><th></th><th></th></tr></thead>\n",
       "<thead><tr><th>str7</th><th>int64</th><th>float64</th><th>float64</th><th>float64</th><th>float64</th><th>float64</th><th>float64</th><th>float64</th><th>float64</th><th>float64</th><th>float64</th><th>float64</th><th>float64</th><th>float64</th><th>int64</th><th>int64</th><th>str5</th><th>float64</th><th>int64</th><th>float64</th><th>float64</th><th>float64</th></tr></thead>\n",
       "<tr><td>stacked</td><td>149</td><td>139.25</td><td>20.449683569684254</td><td>9.75</td><td>20.461539024432028</td><td>20.461539024432028</td><td>nan</td><td>2892003.25</td><td>841726208.0</td><td>1581.7367646954954</td><td>1687.0</td><td>0.09420025084179189</td><td>0.006164110373875643</td><td>0.08803614046791623</td><td>27</td><td>18</td><td>wstat</td><td>433.5372460592368</td><td>117</td><td>18.0</td><td>216.0</td><td>0.0833333358168602</td></tr>\n",
       "<tr><td>stacked</td><td>303</td><td>280.75</td><td>28.446255766130005</td><td>22.250001907348633</td><td>43.84615575068094</td><td>43.84615575068094</td><td>nan</td><td>13397219.0</td><td>1572412928.0</td><td>3154.4235137812793</td><td>3370.0</td><td>0.09605558628263806</td><td>0.007053587386139234</td><td>0.08900199950115721</td><td>27</td><td>19</td><td>wstat</td><td>823.6909484036685</td><td>267</td><td>19.0</td><td>227.99996948242188</td><td>0.0833333432674408</td></tr>\n",
       "<tr><td>stacked</td><td>439</td><td>408.7743835449219</td><td>36.17588855633591</td><td>30.225610733032227</td><td>50.88364346926001</td><td>50.88364346926001</td><td>nan</td><td>19239702.0</td><td>2077411712.0</td><td>4732.546993609518</td><td>5056.0</td><td>0.09276188923063906</td><td>0.006386753427667313</td><td>0.08637513459388795</td><td>27</td><td>19</td><td>wstat</td><td>1325.2637060766638</td><td>594</td><td>19.0</td><td>373.3919677734375</td><td>0.05088486522436142</td></tr>\n",
       "<tr><td>stacked</td><td>550</td><td>512.135498046875</td><td>40.90086300803346</td><td>37.864498138427734</td><td>59.674911682627844</td><td>59.674911682627844</td><td>nan</td><td>21017612.0</td><td>2635248128.0</td><td>6313.811659421773</td><td>6742.0</td><td>0.08711061236349418</td><td>0.0059970902175905914</td><td>0.08111352154172066</td><td>27</td><td>19</td><td>wstat</td><td>1701.2360965968023</td><td>869</td><td>19.0</td><td>436.05487060546875</td><td>0.04357249662280083</td></tr>\n",
       "</table></div>"
      ],
      "text/plain": [
       "<Table length=4>\n",
       "  name  counts       excess      ...   acceptance_off          alpha       \n",
       "                                 ...                                       \n",
       "  str7  int64       float64      ...      float64             float64      \n",
       "------- ------ ----------------- ... ------------------ -------------------\n",
       "stacked    149            139.25 ...              216.0  0.0833333358168602\n",
       "stacked    303            280.75 ... 227.99996948242188  0.0833333432674408\n",
       "stacked    439 408.7743835449219 ...  373.3919677734375 0.05088486522436142\n",
       "stacked    550  512.135498046875 ... 436.05487060546875 0.04357249662280083"
      ]
     },
     "metadata": {},
     "output_type": "display_data"
    }
   ],
   "source": [
    "info_table = datasets.info_table(cumulative=True)\n",
    "\n",
    "display(info_table)"
   ]
  },
  {
   "cell_type": "markdown",
   "metadata": {},
   "source": [
    "And make the correpsonding plots\n",
    "\n"
   ]
  },
  {
   "cell_type": "code",
   "execution_count": 23,
   "metadata": {},
   "outputs": [
    {
     "data": {
      "text/plain": [
       "Text(0, 0.5, 'Sqrt(TS)')"
      ]
     },
     "execution_count": 23,
     "metadata": {},
     "output_type": "execute_result"
    },
    {
     "data": {
      "image/png": "[encoded data removed]",
      "text/plain": [
       "<Figure size 720x288 with 2 Axes>"
      ]
     },
     "metadata": {
      "needs_background": "light"
     },
     "output_type": "display_data"
    }
   ],
   "source": [
    "fig, (ax_excess, ax_sqrt_ts) = plt.subplots(figsize=(10, 4), ncols=2, nrows=1)\n",
    "ax_excess.plot(\n",
    "    info_table[\"livetime\"].to(\"h\"),\n",
    "    info_table[\"excess\"],\n",
    "    marker=\"o\",\n",
    "    ls=\"none\",\n",
    ")\n",
    "\n",
    "ax_excess.set_title(\"Excess\")\n",
    "ax_excess.set_xlabel(\"Livetime [h]\")\n",
    "ax_excess.set_ylabel(\"Excess events\")\n",
    "\n",
    "ax_sqrt_ts.plot(\n",
    "    info_table[\"livetime\"].to(\"h\"),\n",
    "    info_table[\"sqrt_ts\"],\n",
    "    marker=\"o\",\n",
    "    ls=\"none\",\n",
    ")\n",
    "\n",
    "ax_sqrt_ts.set_title(\"Sqrt(TS)\")\n",
    "ax_sqrt_ts.set_xlabel(\"Livetime [h]\")\n",
    "ax_sqrt_ts.set_ylabel(\"Sqrt(TS)\")"
   ]
  },
  {
   "cell_type": "markdown",
   "metadata": {},
   "source": [
    "Finally you can write the extracted datasets to disk using the OGIP\n",
    "format (PHA, ARF, RMF, BKG, see\n",
    "[here](https://gamma-astro-data-formats.readthedocs.io/en/latest/spectra/ogip/index.html)_\n",
    "for details):\n",
    "\n",
    "\n"
   ]
  },
  {
   "cell_type": "code",
   "execution_count": 24,
   "metadata": {},
   "outputs": [],
   "source": [
    "path = Path(\"spectrum_analysis\")\n",
    "path.mkdir(exist_ok=True)\n",
    "\n",
    "for dataset in datasets:\n",
    "    dataset.write(filename=path / f\"obs_{dataset.name}.fits.gz\", overwrite=True)"
   ]
  },
  {
   "cell_type": "markdown",
   "metadata": {},
   "source": [
    "If you want to read back the datasets from disk you can use:\n",
    "\n",
    "\n"
   ]
  },
  {
   "cell_type": "code",
   "execution_count": 25,
   "metadata": {},
   "outputs": [],
   "source": [
    "datasets = Datasets()\n",
    "\n",
    "for obs_id in obs_ids:\n",
    "    filename = path / f\"obs_{obs_id}.fits.gz\"\n",
    "    datasets.append(SpectrumDatasetOnOff.read(filename))"
   ]
  },
  {
   "cell_type": "markdown",
   "metadata": {},
   "source": [
    "## Fit spectrum\n",
    "\n",
    "Now we’ll fit a global model to the spectrum. First we do a joint\n",
    "likelihood fit to all observations. If you want to stack the\n",
    "observations see below. We will also produce a debug plot in order to\n",
    "show how the global fit matches one of the individual observations.\n",
    "\n",
    "\n"
   ]
  },
  {
   "cell_type": "code",
   "execution_count": 31,
   "metadata": {},
   "outputs": [],
   "source": [
    "spectral_model = ExpCutoffPowerLawSpectralModel(\n",
    "    amplitude=1e-12 * u.Unit(\"cm-2 s-1 TeV-1\"),\n",
    "    index=2,\n",
    "    lambda_=0.1 * u.Unit(\"TeV-1\"),\n",
    "    reference=1 * u.TeV,\n",
    ")\n",
    "model = SkyModel(spectral_model=spectral_model, name=\"crab\")\n",
    "\n",
    "datasets.models = [model]\n",
    "\n",
    "fit_joint = Fit()\n",
    "result_joint = fit_joint.run(datasets=datasets)\n",
    "\n",
    "# we make a copy here to compare it later\n",
    "model_best_joint = model.copy()"
   ]
  },
  {
   "cell_type": "markdown",
   "metadata": {},
   "source": [
    "## Fit quality and model residuals\n",
    "\n",
    "\n"
   ]
  },
  {
   "cell_type": "markdown",
   "metadata": {},
   "source": [
    "We can access the results dictionary to see if the fit converged:\n",
    "\n",
    "\n"
   ]
  },
  {
   "cell_type": "code",
   "execution_count": 30,
   "metadata": {},
   "outputs": [
    {
     "data": {
      "text/latex": [
       "$\\mathrm{cm^{9}}$"
      ],
      "text/plain": [
       "Unit(\"cm9\")"
      ]
     },
     "execution_count": 30,
     "metadata": {},
     "output_type": "execute_result"
    }
   ],
   "source": [
    "u.Unit('cm') ** 9"
   ]
  },
  {
   "cell_type": "code",
   "execution_count": 32,
   "metadata": {},
   "outputs": [
    {
     "name": "stdout",
     "output_type": "stream",
     "text": [
      "OptimizeResult\n",
      "\n",
      "\tbackend    : minuit\n",
      "\tmethod     : migrad\n",
      "\tsuccess    : True\n",
      "\tmessage    : Optimization terminated successfully.\n",
      "\tnfev       : 244\n",
      "\ttotal stat : 86.12\n",
      "\n",
      "CovarianceResult\n",
      "\n",
      "\tbackend    : minuit\n",
      "\tmethod     : hesse\n",
      "\tsuccess    : True\n",
      "\tmessage    : Hesse terminated successfully.\n",
      "\n"
     ]
    }
   ],
   "source": [
    "print(result_joint)"
   ]
  },
  {
   "cell_type": "markdown",
   "metadata": {},
   "source": [
    "and check the best-fit parameters\n",
    "\n",
    "\n"
   ]
  },
  {
   "cell_type": "code",
   "execution_count": 33,
   "metadata": {},
   "outputs": [
    {
     "data": {
      "text/html": [
       "<div><i>Table length=5</i>\n",
       "<table id=\"table140205626366704\" class=\"table-striped table-bordered table-condensed\">\n",
       "<thead><tr><th>model</th><th>type</th><th>name</th><th>value</th><th>unit</th><th>error</th><th>min</th><th>max</th><th>frozen</th><th>is_norm</th><th>link</th></tr></thead>\n",
       "<thead><tr><th>str4</th><th>str8</th><th>str9</th><th>float64</th><th>str14</th><th>float64</th><th>float64</th><th>float64</th><th>bool</th><th>bool</th><th>str1</th></tr></thead>\n",
       "<tr><td>crab</td><td>spectral</td><td>index</td><td>2.2727e+00</td><td></td><td>1.566e-01</td><td>nan</td><td>nan</td><td>False</td><td>False</td><td></td></tr>\n",
       "<tr><td>crab</td><td>spectral</td><td>amplitude</td><td>4.7913e-11</td><td>cm-2 s-1 TeV-1</td><td>3.600e-12</td><td>nan</td><td>nan</td><td>False</td><td>True</td><td></td></tr>\n",
       "<tr><td>crab</td><td>spectral</td><td>reference</td><td>1.0000e+00</td><td>TeV</td><td>0.000e+00</td><td>nan</td><td>nan</td><td>True</td><td>False</td><td></td></tr>\n",
       "<tr><td>crab</td><td>spectral</td><td>lambda_</td><td>1.2097e-01</td><td>TeV-1</td><td>5.382e-02</td><td>nan</td><td>nan</td><td>False</td><td>False</td><td></td></tr>\n",
       "<tr><td>crab</td><td>spectral</td><td>alpha</td><td>1.0000e+00</td><td></td><td>0.000e+00</td><td>nan</td><td>nan</td><td>True</td><td>False</td><td></td></tr>\n",
       "</table></div>"
      ],
      "text/plain": [
       "<Table length=5>\n",
       "model   type      name     value    ...   max   frozen is_norm link\n",
       " str4   str8      str9    float64   ... float64  bool    bool  str1\n",
       "----- -------- --------- ---------- ... ------- ------ ------- ----\n",
       " crab spectral     index 2.2727e+00 ...     nan  False   False     \n",
       " crab spectral amplitude 4.7913e-11 ...     nan  False    True     \n",
       " crab spectral reference 1.0000e+00 ...     nan   True   False     \n",
       " crab spectral   lambda_ 1.2097e-01 ...     nan  False   False     \n",
       " crab spectral     alpha 1.0000e+00 ...     nan   True   False     "
      ]
     },
     "metadata": {},
     "output_type": "display_data"
    }
   ],
   "source": [
    "display(result_joint.models.to_parameters_table())"
   ]
  },
  {
   "cell_type": "markdown",
   "metadata": {},
   "source": [
    "A simple way to inspect the model residuals is using the function\n",
    "`~SpectrumDataset.plot_fit()`\n",
    "\n",
    "\n"
   ]
  },
  {
   "cell_type": "code",
   "execution_count": 34,
   "metadata": {},
   "outputs": [
    {
     "data": {
      "text/plain": [
       "<AxesSubplot:xlabel='Energy [TeV]', ylabel='$\\\\mathrm{}$'>"
      ]
     },
     "execution_count": 34,
     "metadata": {},
     "output_type": "execute_result"
    },
    {
     "data": {
      "image/png": "[encoded data removed]",
      "text/plain": [
       "<Figure size 432x288 with 2 Axes>"
      ]
     },
     "metadata": {
      "needs_background": "light"
     },
     "output_type": "display_data"
    }
   ],
   "source": [
    "plt.figure()\n",
    "ax_spectrum, ax_residuals = datasets[0].plot_fit()\n",
    "ax_spectrum.set_ylim(0.1, 40)\n",
    "datasets[0].plot_masks(ax=ax_spectrum)"
   ]
  },
  {
   "cell_type": "markdown",
   "metadata": {},
   "source": [
    "For more ways of assessing fit quality, please refer to the dedicated\n",
    ":doc:`/tutorials/api/fitting` tutorial.\n",
    "\n",
    "\n"
   ]
  },
  {
   "cell_type": "markdown",
   "metadata": {},
   "source": [
    "## Compute Flux Points\n",
    "\n",
    "To round up our analysis we can compute flux points by fitting the norm\n",
    "of the global model in energy bands. We’ll use a fixed energy binning\n",
    "for now:\n",
    "\n",
    "\n"
   ]
  },
  {
   "cell_type": "code",
   "execution_count": 35,
   "metadata": {},
   "outputs": [],
   "source": [
    "e_min, e_max = 0.7, 30\n",
    "energy_edges = np.geomspace(e_min, e_max, 11) * u.TeV"
   ]
  },
  {
   "cell_type": "markdown",
   "metadata": {},
   "source": [
    "Now we create an instance of the\n",
    "`~gammapy.estimators.FluxPointsEstimator`, by passing the dataset and\n",
    "the energy binning:\n",
    "\n",
    "\n"
   ]
  },
  {
   "cell_type": "code",
   "execution_count": 36,
   "metadata": {},
   "outputs": [],
   "source": [
    "fpe = FluxPointsEstimator(\n",
    "    energy_edges=energy_edges, source=\"crab\", selection_optional=\"all\"\n",
    ")\n",
    "flux_points = fpe.run(datasets=datasets)"
   ]
  },
  {
   "cell_type": "markdown",
   "metadata": {},
   "source": [
    "Here is a the table of the resulting flux points:\n",
    "\n",
    "\n"
   ]
  },
  {
   "cell_type": "code",
   "execution_count": 37,
   "metadata": {},
   "outputs": [
    {
     "data": {
      "text/html": [
       "<div><i>Table length=10</i>\n",
       "<table id=\"table140205666118528\" class=\"table-striped table-bordered table-condensed\">\n",
       "<thead><tr><th>e_ref</th><th>e_min</th><th>e_max</th><th>dnde</th><th>dnde_err</th><th>dnde_errp</th><th>dnde_errn</th><th>dnde_ul</th><th>ts</th><th>sqrt_ts</th><th>npred [4]</th><th>npred_excess [4]</th><th>stat</th><th>is_ul</th><th>counts [4]</th><th>success</th><th>norm_scan [11]</th><th>stat_scan [11]</th></tr></thead>\n",
       "<thead><tr><th>TeV</th><th>TeV</th><th>TeV</th><th>1 / (cm2 s TeV)</th><th>1 / (cm2 s TeV)</th><th>1 / (cm2 s TeV)</th><th>1 / (cm2 s TeV)</th><th>1 / (cm2 s TeV)</th><th></th><th></th><th></th><th></th><th></th><th></th><th></th><th></th><th></th><th></th></tr></thead>\n",
       "<thead><tr><th>float64</th><th>float64</th><th>float64</th><th>float64</th><th>float64</th><th>float64</th><th>float64</th><th>float64</th><th>float64</th><th>float64</th><th>float64</th><th>float32</th><th>float64</th><th>bool</th><th>float64</th><th>bool</th><th>float64</th><th>float64</th></tr></thead>\n",
       "<tr><td>0.823</td><td>0.737</td><td>0.920</td><td>6.950e-11</td><td>7.224e-12</td><td>7.462e-12</td><td>7.000e-12</td><td>8.496e-11</td><td>318.308</td><td>17.841</td><td>31.3664625808177 .. 23.889729207435984</td><td>28.875505 .. 21.720263</td><td>8.252</td><td>False</td><td>30.0 .. 25.0</td><td>True</td><td>0.200 .. 5.000</td><td>140.739 .. 451.124</td></tr>\n",
       "<tr><td>1.148</td><td>0.920</td><td>1.434</td><td>2.884e-11</td><td>2.581e-12</td><td>2.654e-12</td><td>2.510e-12</td><td>3.430e-11</td><td>449.770</td><td>21.208</td><td>40.721594294670815 .. 29.62744928688671</td><td>38.467556 .. 27.449282</td><td>12.649</td><td>False</td><td>43.0 .. 35.0</td><td>True</td><td>0.200 .. 5.000</td><td>182.603 .. 693.653</td></tr>\n",
       "<tr><td>1.790</td><td>1.434</td><td>2.235</td><td>1.104e-11</td><td>1.132e-12</td><td>1.168e-12</td><td>1.096e-12</td><td>1.345e-11</td><td>350.109</td><td>18.711</td><td>31.97373952693747 .. 21.124620512974154</td><td>29.863094 .. 19.905582</td><td>6.105</td><td>False</td><td>37.0 .. 21.0</td><td>True</td><td>0.200 .. 5.000</td><td>150.799 .. 424.855</td></tr>\n",
       "<tr><td>2.790</td><td>2.235</td><td>3.483</td><td>3.462e-12</td><td>4.450e-13</td><td>4.631e-13</td><td>4.273e-13</td><td>4.426e-12</td><td>219.114</td><td>14.802</td><td>20.868274717621567 .. 13.385553096545376</td><td>19.729824 .. 12.434938</td><td>12.915</td><td>False</td><td>13.0 .. 17.0</td><td>True</td><td>0.200 .. 5.000</td><td>102.546 .. 293.446</td></tr>\n",
       "<tr><td>3.892</td><td>3.483</td><td>4.348</td><td>8.756e-13</td><td>2.576e-13</td><td>2.800e-13</td><td>2.362e-13</td><td>1.482e-12</td><td>36.235</td><td>6.020</td><td>4.959042979986463 .. 2.702481330497579</td><td>4.168653 .. 2.5370095</td><td>4.035</td><td>False</td><td>8.0 .. 2.0</td><td>True</td><td>0.200 .. 5.000</td><td>13.594 .. 125.092</td></tr>\n",
       "<tr><td>5.429</td><td>4.348</td><td>6.778</td><td>5.335e-13</td><td>1.079e-13</td><td>1.149e-13</td><td>1.011e-13</td><td>7.776e-13</td><td>86.926</td><td>9.323</td><td>8.520678766884966 .. 5.173151593058684</td><td>8.258547 .. 4.9781284</td><td>11.815</td><td>False</td><td>12.0 .. 6.0</td><td>True</td><td>0.200 .. 5.000</td><td>47.101 .. 132.109</td></tr>\n",
       "<tr><td>8.462</td><td>6.778</td><td>10.564</td><td>1.623e-13</td><td>4.547e-14</td><td>4.941e-14</td><td>4.186e-14</td><td>2.695e-13</td><td>38.108</td><td>6.173</td><td>5.121380116253771 .. 3.1055485073843405</td><td>4.6203065 .. 2.731345</td><td>8.980</td><td>False</td><td>5.0 .. 5.0</td><td>True</td><td>0.200 .. 5.000</td><td>28.474 .. 55.783</td></tr>\n",
       "<tr><td>11.803</td><td>10.564</td><td>13.189</td><td>5.214e-14</td><td>3.008e-14</td><td>3.529e-14</td><td>2.546e-14</td><td>1.339e-13</td><td>7.911</td><td>2.813</td><td>1.213143660407686 .. 0.7323859566999426</td><td>1.1362206 .. 0.6783319</td><td>7.934</td><td>False</td><td>0.0 .. 0.0</td><td>True</td><td>0.200 .. 5.000</td><td>12.285 .. 18.679</td></tr>\n",
       "<tr><td>16.465</td><td>13.189</td><td>20.556</td><td>1.177e-14</td><td>7.816e-15</td><td>9.399e-15</td><td>6.393e-15</td><td>3.395e-14</td><td>5.269</td><td>2.295</td><td>0.9432263498109781 .. 0.6987575078844604</td><td>0.84752977 .. 0.50956833</td><td>6.611</td><td>False</td><td>1.0 .. 0.0</td><td>True</td><td>0.200 .. 5.000</td><td>9.622 .. 17.557</td></tr>\n",
       "<tr><td>25.663</td><td>20.556</td><td>32.040</td><td>1.589e-20</td><td>7.293e-18</td><td>1.094e-15</td><td>nan</td><td>4.378e-15</td><td>-0.000</td><td>0.000</td><td>0.076925443711435 .. 0.10810958214333963</td><td>2.3667883e-06 .. 1.4740352e-06</td><td>0.620</td><td>True</td><td>0.0 .. 0.0</td><td>True</td><td>0.200 .. 5.000</td><td>0.866 .. 6.774</td></tr>\n",
       "</table></div>"
      ],
      "text/plain": [
       "<Table length=10>\n",
       " e_ref   e_min   e_max  ... success norm_scan [11]   stat_scan [11]  \n",
       "  TeV     TeV     TeV   ...                                          \n",
       "float64 float64 float64 ...   bool     float64          float64      \n",
       "------- ------- ------- ... ------- -------------- ------------------\n",
       "  0.823   0.737   0.920 ...    True 0.200 .. 5.000 140.739 .. 451.124\n",
       "  1.148   0.920   1.434 ...    True 0.200 .. 5.000 182.603 .. 693.653\n",
       "  1.790   1.434   2.235 ...    True 0.200 .. 5.000 150.799 .. 424.855\n",
       "  2.790   2.235   3.483 ...    True 0.200 .. 5.000 102.546 .. 293.446\n",
       "  3.892   3.483   4.348 ...    True 0.200 .. 5.000  13.594 .. 125.092\n",
       "  5.429   4.348   6.778 ...    True 0.200 .. 5.000  47.101 .. 132.109\n",
       "  8.462   6.778  10.564 ...    True 0.200 .. 5.000   28.474 .. 55.783\n",
       " 11.803  10.564  13.189 ...    True 0.200 .. 5.000   12.285 .. 18.679\n",
       " 16.465  13.189  20.556 ...    True 0.200 .. 5.000    9.622 .. 17.557\n",
       " 25.663  20.556  32.040 ...    True 0.200 .. 5.000     0.866 .. 6.774"
      ]
     },
     "metadata": {},
     "output_type": "display_data"
    }
   ],
   "source": [
    "display(flux_points.to_table(sed_type=\"dnde\", formatted=True))"
   ]
  },
  {
   "cell_type": "markdown",
   "metadata": {},
   "source": [
    "Now we plot the flux points and their likelihood profiles. For the\n",
    "plotting of upper limits we choose a threshold of TS < 4.\n",
    "\n",
    "\n"
   ]
  },
  {
   "cell_type": "code",
   "execution_count": 38,
   "metadata": {},
   "outputs": [
    {
     "data": {
      "text/plain": [
       "<AxesSubplot:xlabel='Energy [TeV]', ylabel='e2dnde [erg / (cm2 s)]'>"
      ]
     },
     "execution_count": 38,
     "metadata": {},
     "output_type": "execute_result"
    },
    {
     "data": {
      "image/png": "[encoded data removed]",
      "text/plain": [
       "<Figure size 432x288 with 2 Axes>"
      ]
     },
     "metadata": {
      "needs_background": "light"
     },
     "output_type": "display_data"
    }
   ],
   "source": [
    "fig, ax = plt.subplots()\n",
    "flux_points.plot(ax=ax, sed_type=\"e2dnde\", color=\"darkorange\")\n",
    "flux_points.plot_ts_profiles(ax=ax, sed_type=\"e2dnde\")"
   ]
  },
  {
   "cell_type": "markdown",
   "metadata": {},
   "source": [
    "The final plot with the best fit model, flux points and residuals can be\n",
    "quickly made like this:\n",
    "\n",
    "\n"
   ]
  },
  {
   "cell_type": "code",
   "execution_count": 39,
   "metadata": {},
   "outputs": [
    {
     "data": {
      "text/plain": [
       "(<AxesSubplot:xlabel='Energy [TeV]', ylabel='e2dnde [erg / (cm2 s)]'>,\n",
       " <AxesSubplot:xlabel='Energy [TeV]', ylabel='Residuals\\n (data - model) / model'>)"
      ]
     },
     "execution_count": 39,
     "metadata": {},
     "output_type": "execute_result"
    },
    {
     "data": {
      "image/png": "[encoded data removed]",
      "text/plain": [
       "<Figure size 648x504 with 2 Axes>"
      ]
     },
     "metadata": {
      "needs_background": "light"
     },
     "output_type": "display_data"
    }
   ],
   "source": [
    "flux_points_dataset = FluxPointsDataset(data=flux_points, models=model_best_joint)\n",
    "flux_points_dataset.plot_fit()"
   ]
  },
  {
   "cell_type": "markdown",
   "metadata": {},
   "source": [
    "## Stack observations\n",
    "\n",
    "And alternative approach to fitting the spectrum is stacking all\n",
    "observations first and the fitting a model. For this we first stack the\n",
    "individual datasets:\n",
    "\n",
    "\n"
   ]
  },
  {
   "cell_type": "code",
   "execution_count": 40,
   "metadata": {},
   "outputs": [],
   "source": [
    "dataset_stacked = Datasets(datasets).stack_reduce()"
   ]
  },
  {
   "cell_type": "markdown",
   "metadata": {},
   "source": [
    "Again we set the model on the dataset we would like to fit (in this case\n",
    "it’s only a single one) and pass it to the `~gammapy.modeling.Fit`\n",
    "object:\n",
    "\n",
    "\n"
   ]
  },
  {
   "cell_type": "code",
   "execution_count": 41,
   "metadata": {},
   "outputs": [
    {
     "name": "stdout",
     "output_type": "stream",
     "text": [
      "OptimizeResult\n",
      "\n",
      "\tbackend    : minuit\n",
      "\tmethod     : migrad\n",
      "\tsuccess    : True\n",
      "\tmessage    : Optimization terminated successfully.\n",
      "\tnfev       : 54\n",
      "\ttotal stat : 8.16\n",
      "\n",
      "CovarianceResult\n",
      "\n",
      "\tbackend    : minuit\n",
      "\tmethod     : hesse\n",
      "\tsuccess    : True\n",
      "\tmessage    : Hesse terminated successfully.\n",
      "\n"
     ]
    }
   ],
   "source": [
    "dataset_stacked.models = model\n",
    "stacked_fit = Fit()\n",
    "result_stacked = stacked_fit.run([dataset_stacked])\n",
    "\n",
    "# make a copy to compare later\n",
    "model_best_stacked = model.copy()\n",
    "\n",
    "print(result_stacked)"
   ]
  },
  {
   "cell_type": "markdown",
   "metadata": {},
   "source": [
    "And display the parameter table\n",
    "\n"
   ]
  },
  {
   "cell_type": "code",
   "execution_count": 42,
   "metadata": {},
   "outputs": [
    {
     "data": {
      "text/html": [
       "<div><i>Table length=5</i>\n",
       "<table id=\"table140205170809392\" class=\"table-striped table-bordered table-condensed\">\n",
       "<thead><tr><th>type</th><th>name</th><th>value</th><th>unit</th><th>error</th><th>min</th><th>max</th><th>frozen</th><th>is_norm</th><th>link</th></tr></thead>\n",
       "<thead><tr><th>str8</th><th>str9</th><th>float64</th><th>str14</th><th>float64</th><th>float64</th><th>float64</th><th>bool</th><th>bool</th><th>str1</th></tr></thead>\n",
       "<tr><td>spectral</td><td>index</td><td>2.2727e+00</td><td></td><td>1.566e-01</td><td>nan</td><td>nan</td><td>False</td><td>False</td><td></td></tr>\n",
       "<tr><td>spectral</td><td>amplitude</td><td>4.7913e-11</td><td>cm-2 s-1 TeV-1</td><td>3.600e-12</td><td>nan</td><td>nan</td><td>False</td><td>True</td><td></td></tr>\n",
       "<tr><td>spectral</td><td>reference</td><td>1.0000e+00</td><td>TeV</td><td>0.000e+00</td><td>nan</td><td>nan</td><td>True</td><td>False</td><td></td></tr>\n",
       "<tr><td>spectral</td><td>lambda_</td><td>1.2097e-01</td><td>TeV-1</td><td>5.382e-02</td><td>nan</td><td>nan</td><td>False</td><td>False</td><td></td></tr>\n",
       "<tr><td>spectral</td><td>alpha</td><td>1.0000e+00</td><td></td><td>0.000e+00</td><td>nan</td><td>nan</td><td>True</td><td>False</td><td></td></tr>\n",
       "</table></div>"
      ],
      "text/plain": [
       "<Table length=5>\n",
       "  type      name     value         unit      ...   max   frozen is_norm link\n",
       "  str8      str9    float64       str14      ... float64  bool    bool  str1\n",
       "-------- --------- ---------- -------------- ... ------- ------ ------- ----\n",
       "spectral     index 2.2727e+00                ...     nan  False   False     \n",
       "spectral amplitude 4.7913e-11 cm-2 s-1 TeV-1 ...     nan  False    True     \n",
       "spectral reference 1.0000e+00            TeV ...     nan   True   False     \n",
       "spectral   lambda_ 1.2097e-01          TeV-1 ...     nan  False   False     \n",
       "spectral     alpha 1.0000e+00                ...     nan   True   False     "
      ]
     },
     "metadata": {},
     "output_type": "display_data"
    },
    {
     "data": {
      "text/html": [
       "<div><i>Table length=5</i>\n",
       "<table id=\"table140205170809152\" class=\"table-striped table-bordered table-condensed\">\n",
       "<thead><tr><th>type</th><th>name</th><th>value</th><th>unit</th><th>error</th><th>min</th><th>max</th><th>frozen</th><th>is_norm</th><th>link</th></tr></thead>\n",
       "<thead><tr><th>str8</th><th>str9</th><th>float64</th><th>str14</th><th>float64</th><th>float64</th><th>float64</th><th>bool</th><th>bool</th><th>str1</th></tr></thead>\n",
       "<tr><td>spectral</td><td>index</td><td>2.2785e+00</td><td></td><td>1.563e-01</td><td>nan</td><td>nan</td><td>False</td><td>False</td><td></td></tr>\n",
       "<tr><td>spectral</td><td>amplitude</td><td>4.7800e-11</td><td>cm-2 s-1 TeV-1</td><td>3.566e-12</td><td>nan</td><td>nan</td><td>False</td><td>True</td><td></td></tr>\n",
       "<tr><td>spectral</td><td>reference</td><td>1.0000e+00</td><td>TeV</td><td>0.000e+00</td><td>nan</td><td>nan</td><td>True</td><td>False</td><td></td></tr>\n",
       "<tr><td>spectral</td><td>lambda_</td><td>1.1830e-01</td><td>TeV-1</td><td>5.329e-02</td><td>nan</td><td>nan</td><td>False</td><td>False</td><td></td></tr>\n",
       "<tr><td>spectral</td><td>alpha</td><td>1.0000e+00</td><td></td><td>0.000e+00</td><td>nan</td><td>nan</td><td>True</td><td>False</td><td></td></tr>\n",
       "</table></div>"
      ],
      "text/plain": [
       "<Table length=5>\n",
       "  type      name     value         unit      ...   max   frozen is_norm link\n",
       "  str8      str9    float64       str14      ... float64  bool    bool  str1\n",
       "-------- --------- ---------- -------------- ... ------- ------ ------- ----\n",
       "spectral     index 2.2785e+00                ...     nan  False   False     \n",
       "spectral amplitude 4.7800e-11 cm-2 s-1 TeV-1 ...     nan  False    True     \n",
       "spectral reference 1.0000e+00            TeV ...     nan   True   False     \n",
       "spectral   lambda_ 1.1830e-01          TeV-1 ...     nan  False   False     \n",
       "spectral     alpha 1.0000e+00                ...     nan   True   False     "
      ]
     },
     "metadata": {},
     "output_type": "display_data"
    }
   ],
   "source": [
    "display(model_best_joint.parameters.to_table())\n",
    "\n",
    "display(model_best_stacked.parameters.to_table())"
   ]
  },
  {
   "cell_type": "markdown",
   "metadata": {},
   "source": [
    "Finally, we compare the results of our stacked analysis to a previously\n",
    "published Crab Nebula Spectrum for reference. This is available in\n",
    "`~gammapy.modeling.models.create_crab_spectral_model`.\n",
    "\n",
    "\n"
   ]
  },
  {
   "cell_type": "code",
   "execution_count": 43,
   "metadata": {},
   "outputs": [
    {
     "data": {
      "image/png": "[encoded data removed]",
      "text/plain": [
       "<Figure size 432x288 with 1 Axes>"
      ]
     },
     "metadata": {
      "needs_background": "light"
     },
     "output_type": "display_data"
    }
   ],
   "source": [
    "fig, ax = plt.subplots()\n",
    "\n",
    "plot_kwargs = {\n",
    "    \"energy_bounds\": [0.1, 30] * u.TeV,\n",
    "    \"sed_type\": \"e2dnde\",\n",
    "    \"yunits\": u.Unit(\"erg cm-2 s-1\"),\n",
    "    \"ax\": ax,\n",
    "}\n",
    "\n",
    "# plot stacked model\n",
    "model_best_stacked.spectral_model.plot(**plot_kwargs, label=\"Stacked analysis result\")\n",
    "model_best_stacked.spectral_model.plot_error(facecolor=\"blue\", alpha=0.3, **plot_kwargs)\n",
    "\n",
    "# plot joint model\n",
    "model_best_joint.spectral_model.plot(\n",
    "    **plot_kwargs, label=\"Joint analysis result\", ls=\"--\"\n",
    ")\n",
    "model_best_joint.spectral_model.plot_error(facecolor=\"orange\", alpha=0.3, **plot_kwargs)\n",
    "\n",
    "create_crab_spectral_model(\"hess_ecpl\").plot(\n",
    "    **plot_kwargs,\n",
    "    label=\"Crab reference\",\n",
    ")\n",
    "ax.legend()\n",
    "plt.show()\n",
    "\n",
    "# sphinx_gallery_thumbnail_number = 5"
   ]
  },
  {
   "cell_type": "markdown",
   "metadata": {},
   "source": [
    "## Exercises\n",
    "\n",
    "Now you have learned the basics of a spectral analysis with Gammapy. To\n",
    "practice you can continue with the following exercises:\n",
    "\n",
    "-  Fit a different spectral model to the data. You could try\n",
    "   `~gammapy.modeling.models.ExpCutoffPowerLawSpectralModel` or\n",
    "   `~gammapy.modeling.models.LogParabolaSpectralModel`.\n",
    "-  Compute flux points for the stacked dataset.\n",
    "-  Create a `~gammapy.datasets.FluxPointsDataset` with the flux points\n",
    "   you have computed for the stacked dataset and fit the flux points\n",
    "   again with obe of the spectral models. How does the result compare to\n",
    "   the best fit model, that was directly fitted to the counts data?\n",
    "\n",
    "\n"
   ]
  },
  {
   "cell_type": "markdown",
   "metadata": {},
   "source": [
    "## What next?\n",
    "\n",
    "The methods shown in this tutorial is valid for point-like or midly\n",
    "extended sources where we can assume that the IRF taken at the region\n",
    "center is valid over the whole region. If one wants to extract the 1D\n",
    "spectrum of a large source and properly average the response over the\n",
    "extraction region, one has to use a different approach explained in\n",
    "the :doc:`/tutorials/analysis-1d/extended_source_spectral_analysis`\n",
    "tutorial.\n",
    "\n",
    "\n"
   ]
  }
 ],
 "metadata": {
  "kernelspec": {
   "display_name": "Python 3 (ipykernel)",
   "language": "python",
   "name": "python3"
  },
  "language_info": {
   "codemirror_mode": {
    "name": "ipython",
    "version": 3
   },
   "file_extension": ".py",
   "mimetype": "text/x-python",
   "name": "python",
   "nbconvert_exporter": "python",
   "pygments_lexer": "ipython3",
   "version": "3.9.12"
  }
 },
 "nbformat": 4,
 "nbformat_minor": 1
}
