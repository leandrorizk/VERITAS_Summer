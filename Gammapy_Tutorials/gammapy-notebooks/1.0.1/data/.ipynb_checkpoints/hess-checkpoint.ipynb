{
 "cells": [
  {
   "cell_type": "code",
   "execution_count": 1,
   "metadata": {},
   "outputs": [],
   "source": [
    "%matplotlib inline"
   ]
  },
  {
   "cell_type": "markdown",
   "metadata": {},
   "source": [
    "\n",
    "# H.E.S.S. with Gammapy\n",
    "Explore H.E.S.S. event lists and IRFs.\n",
    "\n",
    "[H.E.S.S.](https://www.mpi-hd.mpg.de/hfm/HESS/)_ is an array of\n",
    "gamma-ray telescopes located in Namibia. Gammapy is regularly used and\n",
    "fully supports H.E.S.S. high level data analysis, after export to the\n",
    "current [open data level 3\n",
    "format](https://gamma-astro-data-formats.readthedocs.io/)_.\n",
    "\n",
    "The H.E.S.S. data is private, and H.E.S.S. analysis is mostly documented\n",
    "and discussed at https://hess-confluence.desy.de/ and in\n",
    "H.E.S.S.-internal communication channels. However, in 2018, a small\n",
    "sub-set of archival H.E.S.S. data was publicly released, called the\n",
    "[H.E.S.S. DL3\n",
    "DR1](https://www.mpi-hd.mpg.de/hfm/HESS/pages/dl3-dr1/)_, the data\n",
    "level 3, data release number 1. This dataset is 50 MB in size and is\n",
    "used in many Gammapy analysis tutorials, and can be downloaded via\n",
    "[gammapy\n",
    "download](https://docs.gammapy.org/dev/getting-started/index.html#quickstart-setup)_.\n",
    "\n",
    "This notebook is a quick introduction to this specific DR1 release. It\n",
    "briefly describes H.E.S.S. data and instrument responses and show a\n",
    "simple exploration of the data with the creation of theta-squared plot.\n",
    "\n",
    "H.E.S.S. members can find details on the DL3 FITS production on this\n",
    "[Confluence\n",
    "page](https://hess-confluence.desy.de/confluence/display/HESS/HESS+FITS+data)_\n",
    "and access more detailed tutorials in this\n",
    "[repository](https://bitbucket.org/hess_software/hess-open-source-tools/src/master/)_\n",
    "\n",
    "## DL3 DR1\n",
    "\n",
    "This is how to access data and IRFs from the H.E.S.S. data level 3, data\n",
    "release 1.\n"
   ]
  },
  {
   "cell_type": "code",
   "execution_count": 2,
   "metadata": {},
   "outputs": [],
   "source": [
    "import astropy.units as u\n",
    "from astropy.coordinates import SkyCoord\n",
    "import matplotlib.pyplot as plt\n",
    "from IPython.display import display\n",
    "from gammapy.data import DataStore\n",
    "from gammapy.makers import MapDatasetMaker\n",
    "from gammapy.makers.utils import make_theta_squared_table\n",
    "from gammapy.maps import Map, MapAxis, WcsGeom"
   ]
  },
  {
   "cell_type": "markdown",
   "metadata": {},
   "source": [
    "## Check setup\n",
    "\n"
   ]
  },
  {
   "cell_type": "code",
   "execution_count": 3,
   "metadata": {},
   "outputs": [
    {
     "name": "stderr",
     "output_type": "stream",
     "text": [
      "198MB [00:27, 7.45MB/s]                                                         \n"
     ]
    },
    {
     "name": "stdout",
     "output_type": "stream",
     "text": [
      "\n",
      "*** You might want to declare GAMMAPY_DATA env variable\n",
      "export GAMMAPY_DATA=gammapy-data/1.0.1\n",
      "\n",
      "\n",
      "System:\n",
      "\n",
      "\tpython_executable      : /Users/Leo/opt/anaconda3/bin/python \n",
      "\tpython_version         : 3.9.12     \n",
      "\tmachine                : x86_64     \n",
      "\tsystem                 : Darwin     \n",
      "\n",
      "\n",
      "Gammapy package:\n",
      "\n",
      "\tversion                : 1.0.1      \n",
      "\tpath                   : /Users/Leo/opt/anaconda3/lib/python3.9/site-packages/gammapy \n",
      "\n",
      "\n",
      "Other packages:\n",
      "\n",
      "\tnumpy                  : 1.21.5     \n",
      "\tscipy                  : 1.7.3      \n",
      "\tastropy                : 5.0.4      \n",
      "\tregions                : 0.7        \n",
      "\tclick                  : 8.0.4      \n",
      "\tyaml                   : 6.0        \n",
      "\tIPython                : 8.2.0      \n",
      "\tjupyterlab             : 3.3.2      \n",
      "\tmatplotlib             : 3.5.1      \n",
      "\tpandas                 : 1.4.2      \n",
      "\thealpy                 : not installed \n",
      "\timinuit                : 2.21.3     \n",
      "\tsherpa                 : not installed \n",
      "\tnaima                  : not installed \n",
      "\temcee                  : not installed \n",
      "\tcorner                 : not installed \n",
      "\n",
      "\n",
      "Gammapy environment variables:\n",
      "\n",
      "\tGAMMAPY_DATA           : ./gammapy-data \n",
      "\n"
     ]
    }
   ],
   "source": [
    "from gammapy.utils.check import check_tutorials_setup\n",
    "from gammapy.visualization import plot_theta_squared_table\n",
    "\n",
    "check_tutorials_setup()"
   ]
  },
  {
   "cell_type": "code",
   "execution_count": 4,
   "metadata": {},
   "outputs": [
    {
     "name": "stdout",
     "output_type": "stream",
     "text": [
      "./gammapy-data/1.0.1\r\n"
     ]
    }
   ],
   "source": [
    "import os\n",
    "os.environ['GAMMAPY_DATA'] = './gammapy-data/1.0.1'\n",
    "\n",
    "! echo $GAMMAPY_DATA"
   ]
  },
  {
   "cell_type": "markdown",
   "metadata": {},
   "source": [
    "A useful way to organize the relevant files are the index tables. The\n",
    "observation index table contains information on each particular run,\n",
    "such as the pointing, or the run ID. The HDU index table has a row per\n",
    "relevant file (i.e., events, effective area, psf…) and contains the path\n",
    "to said file. Together they can be loaded into a Datastore by indicating\n",
    "the directory in which they can be found, in this case\n",
    "“$GAMMAPY_DATA/hess-dl3-dr1”:\n",
    "\n",
    "\n"
   ]
  },
  {
   "cell_type": "markdown",
   "metadata": {},
   "source": [
    "Create and get info on the data store\n",
    "\n"
   ]
  },
  {
   "cell_type": "code",
   "execution_count": 5,
   "metadata": {},
   "outputs": [
    {
     "name": "stdout",
     "output_type": "stream",
     "text": [
      "Data store:\n",
      "HDU index table:\n",
      "BASE_DIR: gammapy-data/1.0.1/hess-dl3-dr1\n",
      "Rows: 630\n",
      "OBS_ID: 20136 -- 47829\n",
      "HDU_TYPE: ['aeff', 'bkg', 'edisp', 'events', 'gti', 'psf']\n",
      "HDU_CLASS: ['aeff_2d', 'bkg_3d', 'edisp_2d', 'events', 'gti', 'psf_table']\n",
      "\n",
      "\n",
      "Observation table:\n",
      "Observatory name: 'N/A'\n",
      "Number of observations: 105\n",
      "\n"
     ]
    }
   ],
   "source": [
    "data_store = DataStore.from_dir(\"$GAMMAPY_DATA/hess-dl3-dr1\")\n",
    "\n",
    "data_store.info()"
   ]
  },
  {
   "cell_type": "markdown",
   "metadata": {},
   "source": [
    "Preview an excerpt from the observtaion table\n",
    "\n"
   ]
  },
  {
   "cell_type": "code",
   "execution_count": 6,
   "metadata": {},
   "outputs": [
    {
     "data": {
      "text/html": [
       "<div><i>ObservationTable length=2</i>\n",
       "<table id=\"table140397049615024\" class=\"table-striped table-bordered table-condensed\">\n",
       "<thead><tr><th>OBS_ID</th><th>DATE-OBS</th><th>RA_PNT</th><th>DEC_PNT</th><th>OBJECT</th></tr></thead>\n",
       "<thead><tr><th></th><th></th><th>deg</th><th>deg</th><th></th></tr></thead>\n",
       "<thead><tr><th>int64</th><th>bytes10</th><th>float32</th><th>float32</th><th>bytes18</th></tr></thead>\n",
       "<tr><td>20136</td><td>2004-03-26</td><td>228.6125</td><td>-58.771667</td><td>MSH15-52</td></tr>\n",
       "<tr><td>20137</td><td>2004-03-26</td><td>228.6125</td><td>-59.771667</td><td>MSH15-52</td></tr>\n",
       "</table></div>"
      ],
      "text/plain": [
       "<ObservationTable length=2>\n",
       "OBS_ID  DATE-OBS   RA_PNT   DEC_PNT    OBJECT \n",
       "                    deg       deg             \n",
       "int64   bytes10   float32   float32   bytes18 \n",
       "------ ---------- -------- ---------- --------\n",
       " 20136 2004-03-26 228.6125 -58.771667 MSH15-52\n",
       " 20137 2004-03-26 228.6125 -59.771667 MSH15-52"
      ]
     },
     "metadata": {},
     "output_type": "display_data"
    }
   ],
   "source": [
    "display(data_store.obs_table[:2][[\"OBS_ID\", \"DATE-OBS\", \"RA_PNT\", \"DEC_PNT\", \"OBJECT\"]])"
   ]
  },
  {
   "cell_type": "markdown",
   "metadata": {},
   "source": [
    "Get a single obervation\n",
    "\n"
   ]
  },
  {
   "cell_type": "code",
   "execution_count": null,
   "metadata": {},
   "outputs": [],
   "source": [
    "obs = data_store.obs(23523)"
   ]
  },
  {
   "cell_type": "markdown",
   "metadata": {},
   "source": [
    "Select and peek events\n",
    "\n"
   ]
  },
  {
   "cell_type": "code",
   "execution_count": null,
   "metadata": {},
   "outputs": [],
   "source": [
    "obs.events.select_offset([0, 2.5] * u.deg).peek()"
   ]
  },
  {
   "cell_type": "markdown",
   "metadata": {},
   "source": [
    "Peek the effective area\n",
    "\n"
   ]
  },
  {
   "cell_type": "code",
   "execution_count": null,
   "metadata": {},
   "outputs": [],
   "source": [
    "obs.aeff.peek()"
   ]
  },
  {
   "cell_type": "markdown",
   "metadata": {},
   "source": [
    "Peek the energy dispersion\n",
    "\n"
   ]
  },
  {
   "cell_type": "code",
   "execution_count": null,
   "metadata": {},
   "outputs": [],
   "source": [
    "obs.edisp.peek()"
   ]
  },
  {
   "cell_type": "markdown",
   "metadata": {},
   "source": [
    "Peek the psf\n",
    "\n"
   ]
  },
  {
   "cell_type": "code",
   "execution_count": null,
   "metadata": {},
   "outputs": [],
   "source": [
    "obs.psf.peek()"
   ]
  },
  {
   "cell_type": "markdown",
   "metadata": {},
   "source": [
    "Peek the background rate\n",
    "\n"
   ]
  },
  {
   "cell_type": "code",
   "execution_count": null,
   "metadata": {},
   "outputs": [],
   "source": [
    "plt.figure()\n",
    "obs.bkg.to_2d().plot()"
   ]
  },
  {
   "cell_type": "markdown",
   "metadata": {},
   "source": [
    "## Theta squared event distribution\n",
    "\n",
    "As a quick look plot it can be helpful to plot the quadratic offset\n",
    "(theta squared) distribution of the events.\n",
    "\n",
    "\n"
   ]
  },
  {
   "cell_type": "code",
   "execution_count": null,
   "metadata": {},
   "outputs": [],
   "source": [
    "position = SkyCoord(ra=83.63, dec=22.01, unit=\"deg\", frame=\"icrs\")\n",
    "theta2_axis = MapAxis.from_bounds(0, 0.2, nbin=20, interp=\"lin\", unit=\"deg2\")\n",
    "\n",
    "observations = data_store.get_observations([23523, 23526])\n",
    "theta2_table = make_theta_squared_table(\n",
    "    observations=observations,\n",
    "    position=position,\n",
    "    theta_squared_axis=theta2_axis,\n",
    ")\n",
    "\n",
    "plt.figure(figsize=(10, 5))\n",
    "plot_theta_squared_table(theta2_table)"
   ]
  },
  {
   "cell_type": "markdown",
   "metadata": {},
   "source": [
    "## On-axis equivalent livetime\n",
    "\n",
    "Since the acceptance of the H.E.S.S. camera varies within the field of\n",
    "view, what is often interesting is not the simply the total number of\n",
    "hours a source was observed, but the on-axis equivalent number of hours.\n",
    "We calculated the same for the MSH 1552 runs here.\n",
    "\n",
    "\n"
   ]
  },
  {
   "cell_type": "code",
   "execution_count": null,
   "metadata": {},
   "outputs": [],
   "source": [
    "# Get the observations\n",
    "obs_id = data_store.obs_table[\"OBS_ID\"][data_store.obs_table[\"OBJECT\"] == \"MSH 15-5-02\"]\n",
    "observations = data_store.get_observations(obs_id)\n",
    "print(\"No. of observations: \", len(observations))\n",
    "\n",
    "# Define an energy range\n",
    "energy_min = 100 * u.GeV\n",
    "energy_max = 10.0 * u.TeV\n",
    "\n",
    "# define a offset cut\n",
    "offset_max = 2.5 * u.deg\n",
    "\n",
    "# define the geom\n",
    "source_pos = SkyCoord(228.32, -59.08, unit=\"deg\")\n",
    "energy_axis_true = MapAxis.from_energy_bounds(\n",
    "    energy_min, energy_max, nbin=1, name=\"energy_true\"\n",
    ")\n",
    "geom = WcsGeom.create(\n",
    "    skydir=source_pos,\n",
    "    binsz=0.02,\n",
    "    width=(6, 6),\n",
    "    frame=\"icrs\",\n",
    "    proj=\"CAR\",\n",
    "    axes=[energy_axis_true],\n",
    ")\n",
    "\n",
    "# compute\n",
    "livetime = Map.from_geom(geom, unit=u.hr)\n",
    "for obs in observations:\n",
    "    geom_obs = geom.cutout(position=obs.pointing_radec, width=2.0 * offset_max)\n",
    "    exposure = MapDatasetMaker.make_exposure(geom=geom_obs, observation=obs)\n",
    "    on_axis = obs.aeff.evaluate(\n",
    "        offset=0.0 * u.deg, energy_true=geom.axes[\"energy_true\"].center\n",
    "    )\n",
    "    on_axis = on_axis.reshape((on_axis.shape[0], 1, 1))\n",
    "    lv_obs = exposure / on_axis\n",
    "    livetime.stack(lv_obs)\n",
    "\n",
    "# Plot\n",
    "plt.figure()\n",
    "ax = livetime.plot(add_cbar=True)\n",
    "\n",
    "# Add the pointing position on top\n",
    "for obs in observations:\n",
    "    ax.plot(\n",
    "        obs.pointing_radec.to_pixel(wcs=ax.wcs)[0],\n",
    "        obs.pointing_radec.to_pixel(wcs=ax.wcs)[1],\n",
    "        \"+\",\n",
    "        color=\"black\",\n",
    "    )\n",
    "\n",
    "plt.show()"
   ]
  },
  {
   "cell_type": "markdown",
   "metadata": {},
   "source": [
    "## Exercises\n",
    "\n",
    "-  Find the `OBS_ID` for the runs of the Crab nebula\n",
    "-  Compute the expected number of background events in the whole RoI for\n",
    "   `OBS_ID=23523` in the 1 TeV to 3 TeV energy band, from the\n",
    "   background IRF.\n",
    "\n",
    "\n"
   ]
  },
  {
   "cell_type": "markdown",
   "metadata": {},
   "source": [
    "## Next steps\n",
    "\n",
    "Now you know how to access and work with H.E.S.S. data. All other\n",
    "tutorials and documentation apply to H.E.S.S. and CTA or any other IACT\n",
    "that provides DL3 data and IRFs in the standard format.\n",
    "\n",
    "\n"
   ]
  }
 ],
 "metadata": {
  "kernelspec": {
   "display_name": "Python 3 (ipykernel)",
   "language": "python",
   "name": "python3"
  },
  "language_info": {
   "codemirror_mode": {
    "name": "ipython",
    "version": 3
   },
   "file_extension": ".py",
   "mimetype": "text/x-python",
   "name": "python",
   "nbconvert_exporter": "python",
   "pygments_lexer": "ipython3",
   "version": "3.9.12"
  }
 },
 "nbformat": 4,
 "nbformat_minor": 1
}
