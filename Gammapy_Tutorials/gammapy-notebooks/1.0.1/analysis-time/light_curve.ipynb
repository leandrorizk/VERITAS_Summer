{
 "cells": [
  {
   "cell_type": "code",
   "execution_count": 1,
   "metadata": {},
   "outputs": [],
   "source": [
    "%matplotlib inline"
   ]
  },
  {
   "cell_type": "markdown",
   "metadata": {},
   "source": [
    "\n",
    "# Light curves\n",
    "\n",
    "Compute per-observation and nightly fluxes of four Crab nebula observations.\n",
    "\n",
    "## Prerequisites\n",
    "\n",
    "-  Knowledge of the high level interface to perform data reduction, see\n",
    "   :doc:`/tutorials/starting/analysis_1` tutorial.\n",
    "\n",
    "## Context\n",
    "\n",
    "This tutorial presents how light curve extraction is performed in\n",
    "gammapy, i.e. how to measure the flux of a source in different time\n",
    "bins.\n",
    "\n",
    "Cherenkov telescopes usually work with observing runs and distribute\n",
    "data according to this basic time interval. A typical use case is to\n",
    "look for variability of a source on various time binnings: observation\n",
    "run-wise binning, nightly, weekly etc.\n",
    "\n",
    "**Objective: The Crab nebula is not known to be variable at TeV\n",
    "energies, so we expect constant brightness within statistical and\n",
    "systematic errors. Compute per-observation and nightly fluxes of the\n",
    "four Crab nebula observations from the H.E.S.S. first public test data\n",
    "release**\\ [o](https://www.mpi-hd.mpg.de/hfm/HESS/pages/dl3-dr1/)_\\ **to\n",
    "check it.**\n",
    "\n",
    "## Proposed approach\n",
    "\n",
    "We will demonstrate how to compute a light curve from 3D reduced\n",
    "datasets (`~gammapy.datasets.MapDataset`) as well as 1D ON-OFF\n",
    "spectral datasets (`~gammapy.datasets.SpectrumDatasetOnOff`).\n",
    "\n",
    "The data reduction will be performed with the high level interface for\n",
    "the data reduction. Then we will use the\n",
    "`~gammapy.estimators.LightCurveEstimator` class, which is able to\n",
    "extract a light curve independently of the dataset type.\n"
   ]
  },
  {
   "cell_type": "markdown",
   "metadata": {},
   "source": [
    "## Setup\n",
    "\n",
    "As usual, we’ll start with some general imports…\n",
    "\n",
    "\n"
   ]
  },
  {
   "cell_type": "code",
   "execution_count": 2,
   "metadata": {},
   "outputs": [],
   "source": [
    "import logging\n",
    "import astropy.units as u\n",
    "from astropy.coordinates import SkyCoord\n",
    "from astropy.time import Time\n",
    "\n",
    "# %matplotlib inline\n",
    "import matplotlib.pyplot as plt\n",
    "from IPython.display import display\n",
    "from gammapy.analysis import Analysis, AnalysisConfig\n",
    "from gammapy.estimators import LightCurveEstimator\n",
    "from gammapy.modeling.models import (\n",
    "    Models,\n",
    "    PointSpatialModel,\n",
    "    PowerLawSpectralModel,\n",
    "    SkyModel,\n",
    ")\n",
    "\n",
    "log = logging.getLogger(__name__)"
   ]
  },
  {
   "cell_type": "markdown",
   "metadata": {},
   "source": [
    "## Check setup\n",
    "\n"
   ]
  },
  {
   "cell_type": "code",
   "execution_count": 3,
   "metadata": {},
   "outputs": [
    {
     "name": "stderr",
     "output_type": "stream",
     "text": [
      "198MB [00:28, 7.17MB/s]                                                         \n"
     ]
    },
    {
     "name": "stdout",
     "output_type": "stream",
     "text": [
      "\n",
      "*** You might want to declare GAMMAPY_DATA env variable\n",
      "export GAMMAPY_DATA=gammapy-data/1.0.1\n",
      "\n",
      "\n",
      "System:\n",
      "\n",
      "\tpython_executable      : /Users/Leo/opt/anaconda3/bin/python \n",
      "\tpython_version         : 3.9.12     \n",
      "\tmachine                : x86_64     \n",
      "\tsystem                 : Darwin     \n",
      "\n",
      "\n",
      "Gammapy package:\n",
      "\n",
      "\tversion                : 1.0.1      \n",
      "\tpath                   : /Users/Leo/opt/anaconda3/lib/python3.9/site-packages/gammapy \n",
      "\n",
      "\n",
      "Other packages:\n",
      "\n",
      "\tnumpy                  : 1.21.5     \n",
      "\tscipy                  : 1.7.3      \n",
      "\tastropy                : 5.0.4      \n",
      "\tregions                : 0.7        \n",
      "\tclick                  : 8.0.4      \n",
      "\tyaml                   : 6.0        \n",
      "\tIPython                : 8.2.0      \n",
      "\tjupyterlab             : 3.3.2      \n",
      "\tmatplotlib             : 3.5.1      \n",
      "\tpandas                 : 1.4.2      \n",
      "\thealpy                 : not installed \n",
      "\timinuit                : 2.21.3     \n",
      "\tsherpa                 : not installed \n",
      "\tnaima                  : not installed \n",
      "\temcee                  : not installed \n",
      "\tcorner                 : not installed \n",
      "\n",
      "\n",
      "Gammapy environment variables:\n",
      "\n",
      "\tGAMMAPY_DATA           : ./gammapy-data \n",
      "\n"
     ]
    }
   ],
   "source": [
    "from gammapy.utils.check import check_tutorials_setup\n",
    "\n",
    "check_tutorials_setup()"
   ]
  },
  {
   "cell_type": "code",
   "execution_count": 5,
   "metadata": {},
   "outputs": [
    {
     "name": "stdout",
     "output_type": "stream",
     "text": [
      "./gammapy-data/1.0.1\r\n"
     ]
    }
   ],
   "source": [
    "import os\n",
    "os.environ['GAMMAPY_DATA'] = './gammapy-data/1.0.1'\n",
    "\n",
    "! echo $GAMMAPY_DATA"
   ]
  },
  {
   "cell_type": "markdown",
   "metadata": {},
   "source": [
    "## Analysis configuration\n",
    "\n",
    "For the 1D and 3D extraction, we will use the same CrabNebula\n",
    "configuration than in the :doc:`/tutorials/starting/analysis_1` tutorial\n",
    "using the high level interface of Gammapy.\n",
    "\n",
    "From the high level interface, the data reduction for those observations\n",
    "is performed as followed\n",
    "\n",
    "\n"
   ]
  },
  {
   "cell_type": "markdown",
   "metadata": {},
   "source": [
    "### Building the 3D analysis configuration\n",
    "\n",
    "\n"
   ]
  },
  {
   "cell_type": "code",
   "execution_count": 6,
   "metadata": {},
   "outputs": [],
   "source": [
    "conf_3d = AnalysisConfig()"
   ]
  },
  {
   "cell_type": "markdown",
   "metadata": {},
   "source": [
    "#### Definition of the data selection\n",
    "\n",
    "Here we use the Crab runs from the HESS DL3 data release 1\n",
    "\n",
    "\n"
   ]
  },
  {
   "cell_type": "code",
   "execution_count": 7,
   "metadata": {},
   "outputs": [],
   "source": [
    "conf_3d.observations.obs_ids = [23523, 23526, 23559, 23592]"
   ]
  },
  {
   "cell_type": "markdown",
   "metadata": {},
   "source": [
    "#### Definition of the dataset geometry\n",
    "\n",
    "\n"
   ]
  },
  {
   "cell_type": "code",
   "execution_count": 8,
   "metadata": {},
   "outputs": [],
   "source": [
    "# We want a 3D analysis\n",
    "conf_3d.datasets.type = \"3d\"\n",
    "\n",
    "# We want to extract the data by observation and therefore to not stack them\n",
    "conf_3d.datasets.stack = False\n",
    "\n",
    "# Here is the WCS geometry of the Maps\n",
    "conf_3d.datasets.geom.wcs.skydir = dict(\n",
    "    frame=\"icrs\", lon=83.63308 * u.deg, lat=22.01450 * u.deg\n",
    ")\n",
    "conf_3d.datasets.geom.wcs.binsize = 0.02 * u.deg\n",
    "conf_3d.datasets.geom.wcs.width = dict(width=1 * u.deg, height=1 * u.deg)\n",
    "\n",
    "# We define a value for the IRF Maps binsize\n",
    "conf_3d.datasets.geom.wcs.binsize_irf = 0.2 * u.deg\n",
    "\n",
    "# Define energy binning for the Maps\n",
    "conf_3d.datasets.geom.axes.energy = dict(min=0.7 * u.TeV, max=10 * u.TeV, nbins=5)\n",
    "conf_3d.datasets.geom.axes.energy_true = dict(min=0.3 * u.TeV, max=20 * u.TeV, nbins=20)"
   ]
  },
  {
   "cell_type": "markdown",
   "metadata": {},
   "source": [
    "### Run the 3D data reduction\n",
    "\n",
    "\n"
   ]
  },
  {
   "cell_type": "code",
   "execution_count": 9,
   "metadata": {},
   "outputs": [
    {
     "name": "stderr",
     "output_type": "stream",
     "text": [
      "Setting logging config: {'level': 'INFO', 'filename': None, 'filemode': None, 'format': None, 'datefmt': None}\n",
      "Fetching observations.\n",
      "Observations selected: 4 out of 4.\n",
      "Number of selected observations: 4\n",
      "Creating reference dataset and makers.\n",
      "Creating the background Maker.\n",
      "No background maker set. Check configuration.\n",
      "Start the data reduction loop.\n",
      "Computing dataset for observation 23523\n",
      "Running MapDatasetMaker\n",
      "Running SafeMaskMaker\n",
      "Computing dataset for observation 23526\n",
      "Running MapDatasetMaker\n",
      "Running SafeMaskMaker\n",
      "Computing dataset for observation 23559\n",
      "Running MapDatasetMaker\n",
      "Running SafeMaskMaker\n",
      "Computing dataset for observation 23592\n",
      "Running MapDatasetMaker\n",
      "Running SafeMaskMaker\n"
     ]
    }
   ],
   "source": [
    "analysis_3d = Analysis(conf_3d)\n",
    "analysis_3d.get_observations()\n",
    "analysis_3d.get_datasets()"
   ]
  },
  {
   "cell_type": "markdown",
   "metadata": {},
   "source": [
    "### Define the model to be used\n",
    "\n",
    "Here we don’t try to fit the model parameters to the whole dataset, but\n",
    "we use predefined values instead.\n",
    "\n",
    "\n"
   ]
  },
  {
   "cell_type": "code",
   "execution_count": 10,
   "metadata": {},
   "outputs": [],
   "source": [
    "target_position = SkyCoord(ra=83.63308, dec=22.01450, unit=\"deg\")\n",
    "spatial_model = PointSpatialModel(\n",
    "    lon_0=target_position.ra, lat_0=target_position.dec, frame=\"icrs\"\n",
    ")\n",
    "\n",
    "spectral_model = PowerLawSpectralModel(\n",
    "    index=2.702,\n",
    "    amplitude=4.712e-11 * u.Unit(\"1 / (cm2 s TeV)\"),\n",
    "    reference=1 * u.TeV,\n",
    ")\n",
    "\n",
    "sky_model = SkyModel(\n",
    "    spatial_model=spatial_model, spectral_model=spectral_model, name=\"crab\"\n",
    ")"
   ]
  },
  {
   "cell_type": "markdown",
   "metadata": {},
   "source": [
    "We assign them the model to be fitted to each dataset\n",
    "\n",
    "\n"
   ]
  },
  {
   "cell_type": "code",
   "execution_count": 11,
   "metadata": {},
   "outputs": [
    {
     "name": "stderr",
     "output_type": "stream",
     "text": [
      "Reading model.\n",
      "Models\n",
      "\n",
      "Component 0: SkyModel\n",
      "\n",
      "  Name                      : crab\n",
      "  Datasets names            : None\n",
      "  Spectral model type       : PowerLawSpectralModel\n",
      "  Spatial  model type       : PointSpatialModel\n",
      "  Temporal model type       : \n",
      "  Parameters:\n",
      "    index                         :      2.702   +/-    0.00             \n",
      "    amplitude                     :   4.71e-11   +/- 0.0e+00 1 / (cm2 s TeV)\n",
      "    reference             (frozen):      1.000       TeV         \n",
      "    lon_0                         :     83.633   +/-    0.00 deg         \n",
      "    lat_0                         :     22.015   +/-    0.00 deg         \n",
      "\n",
      "Component 1: FoVBackgroundModel\n",
      "\n",
      "  Name                      : RNnvNt57-bkg\n",
      "  Datasets names            : ['RNnvNt57']\n",
      "  Spectral model type       : PowerLawNormSpectralModel\n",
      "  Parameters:\n",
      "    norm                          :      1.000   +/-    0.00             \n",
      "    tilt                  (frozen):      0.000                   \n",
      "    reference             (frozen):      1.000       TeV         \n",
      "\n",
      "Component 2: FoVBackgroundModel\n",
      "\n",
      "  Name                      : t7xRebEH-bkg\n",
      "  Datasets names            : ['t7xRebEH']\n",
      "  Spectral model type       : PowerLawNormSpectralModel\n",
      "  Parameters:\n",
      "    norm                          :      1.000   +/-    0.00             \n",
      "    tilt                  (frozen):      0.000                   \n",
      "    reference             (frozen):      1.000       TeV         \n",
      "\n",
      "Component 3: FoVBackgroundModel\n",
      "\n",
      "  Name                      : 1vTqPvWc-bkg\n",
      "  Datasets names            : ['1vTqPvWc']\n",
      "  Spectral model type       : PowerLawNormSpectralModel\n",
      "  Parameters:\n",
      "    norm                          :      1.000   +/-    0.00             \n",
      "    tilt                  (frozen):      0.000                   \n",
      "    reference             (frozen):      1.000       TeV         \n",
      "\n",
      "Component 4: FoVBackgroundModel\n",
      "\n",
      "  Name                      : _AY2Ijzg-bkg\n",
      "  Datasets names            : ['_AY2Ijzg']\n",
      "  Spectral model type       : PowerLawNormSpectralModel\n",
      "  Parameters:\n",
      "    norm                          :      1.000   +/-    0.00             \n",
      "    tilt                  (frozen):      0.000                   \n",
      "    reference             (frozen):      1.000       TeV         \n",
      "\n",
      "\n"
     ]
    }
   ],
   "source": [
    "models = Models([sky_model])\n",
    "analysis_3d.set_models(models)"
   ]
  },
  {
   "cell_type": "markdown",
   "metadata": {},
   "source": [
    "## Light Curve estimation by observation\n",
    "\n",
    "We can now create the light curve estimator.\n",
    "\n",
    "We pass it the list of datasets and the name of the model component for\n",
    "which we want to build the light curve. In a given time bin, the only\n",
    "free parameter of the source is its normalization. We can optionally ask\n",
    "for parameters of other model components to be reoptimized during fit,\n",
    "that is most of the time to fit background normalization in each time\n",
    "bin.\n",
    "\n",
    "If we don’t set any time interval, the\n",
    "`~gammapy.estimators.LightCurveEstimator` is determines the flux of\n",
    "each dataset and places it at the corresponding time in the light curve.\n",
    "Here one dataset equals to one observing run.\n",
    "\n",
    "\n"
   ]
  },
  {
   "cell_type": "code",
   "execution_count": 12,
   "metadata": {},
   "outputs": [],
   "source": [
    "lc_maker_3d = LightCurveEstimator(\n",
    "    energy_edges=[1, 10] * u.TeV, source=\"crab\", reoptimize=False\n",
    ")\n",
    "# Example showing how to change some parameters from the object itself\n",
    "lc_maker_3d.n_sigma_ul = 3  # Number of sigma to use for upper limit computation\n",
    "lc_maker_3d.selection_optional = (\n",
    "    \"all\"  # Add the computation of upper limits and likelihood profile\n",
    ")\n",
    "lc_3d = lc_maker_3d.run(analysis_3d.datasets)"
   ]
  },
  {
   "cell_type": "markdown",
   "metadata": {},
   "source": [
    "The LightCurve object contains a table which we can explore.\n",
    "\n",
    "\n"
   ]
  },
  {
   "cell_type": "code",
   "execution_count": 13,
   "metadata": {},
   "outputs": [
    {
     "data": {
      "text/html": [
       "<div><i>Table length=4</i>\n",
       "<table id=\"table140555413707456\" class=\"table-striped table-bordered table-condensed\">\n",
       "<thead><tr><th>time_min</th><th>time_max</th><th>e_min [1]</th><th>e_max [1]</th><th>flux [1]</th><th>flux_err [1]</th></tr></thead>\n",
       "<thead><tr><th></th><th></th><th>TeV</th><th>TeV</th><th>1 / (cm2 s)</th><th>1 / (cm2 s)</th></tr></thead>\n",
       "<thead><tr><th>float64</th><th>float64</th><th>float64</th><th>float64</th><th>float64</th><th>float64</th></tr></thead>\n",
       "<tr><td>53343.922340092584</td><td>53343.94186555555</td><td>1.191457161449437</td><td>10.000000000000002</td><td>2.0380210570069113e-11</td><td>2.1205834219790663e-12</td></tr>\n",
       "<tr><td>53343.954215092584</td><td>53343.97369425925</td><td>1.191457161449437</td><td>10.000000000000002</td><td>2.06109536341573e-11</td><td>2.1406685556769825e-12</td></tr>\n",
       "<tr><td>53345.96198129629</td><td>53345.98149518518</td><td>1.191457161449437</td><td>10.000000000000002</td><td>2.1806916496668676e-11</td><td>2.7893714968925812e-12</td></tr>\n",
       "<tr><td>53347.91319657407</td><td>53347.932710462956</td><td>1.191457161449437</td><td>10.000000000000002</td><td>2.5084878954147826e-11</td><td>2.9141724802594204e-12</td></tr>\n",
       "</table></div>"
      ],
      "text/plain": [
       "<Table length=4>\n",
       "     time_min           time_max      ...      flux_err [1]     \n",
       "                                      ...      1 / (cm2 s)      \n",
       "     float64            float64       ...        float64        \n",
       "------------------ ------------------ ... ----------------------\n",
       "53343.922340092584  53343.94186555555 ... 2.1205834219790663e-12\n",
       "53343.954215092584  53343.97369425925 ... 2.1406685556769825e-12\n",
       " 53345.96198129629  53345.98149518518 ... 2.7893714968925812e-12\n",
       " 53347.91319657407 53347.932710462956 ... 2.9141724802594204e-12"
      ]
     },
     "metadata": {},
     "output_type": "display_data"
    },
    {
     "data": {
      "image/png": "[encoded data removed]",
      "text/plain": [
       "<Figure size 576x432 with 1 Axes>"
      ]
     },
     "metadata": {
      "needs_background": "light"
     },
     "output_type": "display_data"
    }
   ],
   "source": [
    "# Example showing how to change just before plotting the threshold on the signal significance\n",
    "# (points vs upper limits), even if this has no effect with this data set.\n",
    "fig, ax = plt.subplots(\n",
    "    figsize=(8, 6),\n",
    "    gridspec_kw={\"left\": 0.16, \"bottom\": 0.2, \"top\": 0.98, \"right\": 0.98},\n",
    ")\n",
    "lc_3d.sqrt_ts_threshold_ul = 5\n",
    "lc_3d.plot(ax=ax, axis_name=\"time\")\n",
    "\n",
    "table = lc_3d.to_table(format=\"lightcurve\", sed_type=\"flux\")\n",
    "display(table[\"time_min\", \"time_max\", \"e_min\", \"e_max\", \"flux\", \"flux_err\"])"
   ]
  },
  {
   "cell_type": "markdown",
   "metadata": {},
   "source": [
    "## Running the light curve extraction in 1D\n",
    "\n",
    "\n"
   ]
  },
  {
   "cell_type": "markdown",
   "metadata": {},
   "source": [
    "### Building the 1D analysis configuration\n",
    "\n",
    "\n"
   ]
  },
  {
   "cell_type": "code",
   "execution_count": 14,
   "metadata": {},
   "outputs": [],
   "source": [
    "conf_1d = AnalysisConfig()"
   ]
  },
  {
   "cell_type": "markdown",
   "metadata": {},
   "source": [
    "#### Definition of the data selection\n",
    "\n",
    "Here we use the Crab runs from the HESS DL3 data release 1\n",
    "\n",
    "\n"
   ]
  },
  {
   "cell_type": "code",
   "execution_count": 15,
   "metadata": {},
   "outputs": [],
   "source": [
    "conf_1d.observations.obs_ids = [23523, 23526, 23559, 23592]"
   ]
  },
  {
   "cell_type": "markdown",
   "metadata": {},
   "source": [
    "#### Definition of the dataset geometry\n",
    "\n",
    "\n"
   ]
  },
  {
   "cell_type": "code",
   "execution_count": 16,
   "metadata": {},
   "outputs": [],
   "source": [
    "# We want a 1D analysis\n",
    "conf_1d.datasets.type = \"1d\"\n",
    "\n",
    "# We want to extract the data by observation and therefore to not stack them\n",
    "conf_1d.datasets.stack = False\n",
    "\n",
    "# Here we define the ON region and make sure that PSF leakage is corrected\n",
    "conf_1d.datasets.on_region = dict(\n",
    "    frame=\"icrs\",\n",
    "    lon=83.63308 * u.deg,\n",
    "    lat=22.01450 * u.deg,\n",
    "    radius=0.1 * u.deg,\n",
    ")\n",
    "conf_1d.datasets.containment_correction = True\n",
    "\n",
    "# Finally we define the energy binning for the spectra\n",
    "conf_1d.datasets.geom.axes.energy = dict(min=0.7 * u.TeV, max=10 * u.TeV, nbins=5)\n",
    "conf_1d.datasets.geom.axes.energy_true = dict(min=0.3 * u.TeV, max=20 * u.TeV, nbins=20)"
   ]
  },
  {
   "cell_type": "markdown",
   "metadata": {},
   "source": [
    "### Run the 1D data reduction\n",
    "\n",
    "\n"
   ]
  },
  {
   "cell_type": "code",
   "execution_count": 17,
   "metadata": {},
   "outputs": [
    {
     "name": "stderr",
     "output_type": "stream",
     "text": [
      "Setting logging config: {'level': 'INFO', 'filename': None, 'filemode': None, 'format': None, 'datefmt': None}\n",
      "Fetching observations.\n",
      "Observations selected: 4 out of 4.\n",
      "Number of selected observations: 4\n",
      "Reducing spectrum datasets.\n",
      "Creating the background Maker.\n",
      "No background maker set. Check configuration.\n"
     ]
    }
   ],
   "source": [
    "analysis_1d = Analysis(conf_1d)\n",
    "analysis_1d.get_observations()\n",
    "analysis_1d.get_datasets()"
   ]
  },
  {
   "cell_type": "markdown",
   "metadata": {},
   "source": [
    "### Define the model to be used\n",
    "\n",
    "Here we don’t try to fit the model parameters to the whole dataset, but\n",
    "we use predefined values instead.\n",
    "\n",
    "\n"
   ]
  },
  {
   "cell_type": "code",
   "execution_count": 18,
   "metadata": {},
   "outputs": [],
   "source": [
    "target_position = SkyCoord(ra=83.63308, dec=22.01450, unit=\"deg\")\n",
    "\n",
    "spectral_model = PowerLawSpectralModel(\n",
    "    index=2.702,\n",
    "    amplitude=4.712e-11 * u.Unit(\"1 / (cm2 s TeV)\"),\n",
    "    reference=1 * u.TeV,\n",
    ")\n",
    "\n",
    "sky_model = SkyModel(spectral_model=spectral_model, name=\"crab\")"
   ]
  },
  {
   "cell_type": "markdown",
   "metadata": {},
   "source": [
    "We assign the model to be fitted to each dataset. We can use the same\n",
    "`~gammapy.modeling.models.SkyModel` as before.\n",
    "\n",
    "\n"
   ]
  },
  {
   "cell_type": "code",
   "execution_count": 19,
   "metadata": {},
   "outputs": [
    {
     "name": "stderr",
     "output_type": "stream",
     "text": [
      "Reading model.\n",
      "Models\n",
      "\n",
      "Component 0: SkyModel\n",
      "\n",
      "  Name                      : crab\n",
      "  Datasets names            : None\n",
      "  Spectral model type       : PowerLawSpectralModel\n",
      "  Spatial  model type       : \n",
      "  Temporal model type       : \n",
      "  Parameters:\n",
      "    index                         :      2.702   +/-    0.00             \n",
      "    amplitude                     :   4.71e-11   +/- 0.0e+00 1 / (cm2 s TeV)\n",
      "    reference             (frozen):      1.000       TeV         \n",
      "\n",
      "\n"
     ]
    }
   ],
   "source": [
    "models = Models([sky_model])\n",
    "analysis_1d.set_models(models)"
   ]
  },
  {
   "cell_type": "markdown",
   "metadata": {},
   "source": [
    "### Extracting the light curve\n",
    "\n",
    "\n"
   ]
  },
  {
   "cell_type": "code",
   "execution_count": 20,
   "metadata": {},
   "outputs": [
    {
     "name": "stdout",
     "output_type": "stream",
     "text": [
      "['energy', 'time']\n"
     ]
    },
    {
     "data": {
      "text/html": [
       "<div><i>Table length=4</i>\n",
       "<table id=\"table140555421470624\" class=\"table-striped table-bordered table-condensed\">\n",
       "<thead><tr><th>time_min</th><th>time_max</th><th>e_ref [1]</th><th>e_min [1]</th><th>e_max [1]</th><th>flux [1]</th><th>flux_err [1]</th><th>ts [1]</th><th>sqrt_ts [1]</th><th>npred [1,4]</th><th>npred_excess [1,4]</th><th>stat [1]</th><th>is_ul [1]</th><th>counts [1,4]</th><th>success [1]</th></tr></thead>\n",
       "<thead><tr><th></th><th></th><th>TeV</th><th>TeV</th><th>TeV</th><th>1 / (cm2 s)</th><th>1 / (cm2 s)</th><th></th><th></th><th></th><th></th><th></th><th></th><th></th><th></th></tr></thead>\n",
       "<thead><tr><th>float64</th><th>float64</th><th>float64</th><th>float64</th><th>float64</th><th>float64</th><th>float64</th><th>float64</th><th>float64</th><th>float64</th><th>float64</th><th>float64</th><th>bool</th><th>float64</th><th>bool</th></tr></thead>\n",
       "<tr><td>53343.922340092584</td><td>53343.94186555555</td><td>3.4517490659800822</td><td>1.191457161449437</td><td>10.000000000000002</td><td>2.214391508228366e-11</td><td>2.460434388633055e-12</td><td>9669.93681384043</td><td>98.3358368746635</td><td>nan .. nan</td><td>nan .. nan</td><td>-344.4671903802651</td><td>False</td><td>nan .. nan</td><td>True</td></tr>\n",
       "<tr><td>53343.954215092584</td><td>53343.97369425925</td><td>3.4517490659800822</td><td>1.191457161449437</td><td>10.000000000000002</td><td>1.8788302509394144e-11</td><td>2.2297607398492253e-12</td><td>8464.484921386465</td><td>92.00263540457124</td><td>nan .. 70.99962277926367</td><td>nan .. 70.99961853027344</td><td>-290.30784403249163</td><td>False</td><td>nan .. 71.0</td><td>True</td></tr>\n",
       "<tr><td>53345.96198129629</td><td>53345.98149518518</td><td>3.4517490659800822</td><td>1.191457161449437</td><td>10.000000000000002</td><td>2.1553175393199613e-11</td><td>3.0180475424341633e-12</td><td>6065.962232361473</td><td>77.88428745492554</td><td>50.9994562190154 .. nan</td><td>50.999454498291016 .. nan</td><td>-194.37024721988718</td><td>False</td><td>51.0 .. nan</td><td>True</td></tr>\n",
       "<tr><td>53347.91319657407</td><td>53347.932710462956</td><td>3.4517490659800822</td><td>1.191457161449437</td><td>10.000000000000002</td><td>2.4853673852981113e-11</td><td>3.2356719946290703e-12</td><td>7019.342401645411</td><td>83.78151587101662</td><td>nan .. nan</td><td>nan .. nan</td><td>-226.71637961887058</td><td>False</td><td>nan .. nan</td><td>True</td></tr>\n",
       "</table></div>"
      ],
      "text/plain": [
       "<Table length=4>\n",
       "     time_min           time_max      ... counts [1,4] success [1]\n",
       "                                      ...                         \n",
       "     float64            float64       ...   float64        bool   \n",
       "------------------ ------------------ ... ------------ -----------\n",
       "53343.922340092584  53343.94186555555 ...   nan .. nan        True\n",
       "53343.954215092584  53343.97369425925 ...  nan .. 71.0        True\n",
       " 53345.96198129629  53345.98149518518 ...  51.0 .. nan        True\n",
       " 53347.91319657407 53347.932710462956 ...   nan .. nan        True"
      ]
     },
     "metadata": {},
     "output_type": "display_data"
    }
   ],
   "source": [
    "lc_maker_1d = LightCurveEstimator(\n",
    "    energy_edges=[1, 10] * u.TeV, source=\"crab\", reoptimize=False\n",
    ")\n",
    "lc_1d = lc_maker_1d.run(analysis_1d.datasets)\n",
    "\n",
    "print(lc_1d.geom.axes.names)\n",
    "\n",
    "display(lc_1d.to_table(sed_type=\"flux\", format=\"lightcurve\"))"
   ]
  },
  {
   "cell_type": "markdown",
   "metadata": {},
   "source": [
    "### Compare results\n",
    "\n",
    "Finally we compare the result for the 1D and 3D lightcurve in a single\n",
    "figure:\n",
    "\n",
    "\n"
   ]
  },
  {
   "cell_type": "code",
   "execution_count": 21,
   "metadata": {},
   "outputs": [
    {
     "data": {
      "text/plain": [
       "<matplotlib.legend.Legend at 0x7fd59c315d90>"
      ]
     },
     "execution_count": 21,
     "metadata": {},
     "output_type": "execute_result"
    },
    {
     "data": {
      "image/png": "[encoded data removed]",
      "text/plain": [
       "<Figure size 576x432 with 1 Axes>"
      ]
     },
     "metadata": {
      "needs_background": "light"
     },
     "output_type": "display_data"
    }
   ],
   "source": [
    "fig, ax = plt.subplots(\n",
    "    figsize=(8, 6),\n",
    "    gridspec_kw={\"left\": 0.16, \"bottom\": 0.2, \"top\": 0.98, \"right\": 0.98},\n",
    ")\n",
    "lc_1d.plot(ax=ax, marker=\"o\", label=\"1D\")\n",
    "lc_3d.plot(ax=ax, marker=\"o\", label=\"3D\")\n",
    "plt.legend()"
   ]
  },
  {
   "cell_type": "markdown",
   "metadata": {},
   "source": [
    "## Night-wise LC estimation\n",
    "\n",
    "Here we want to extract a night curve per night. We define the time\n",
    "intervals that cover the three nights.\n",
    "\n",
    "\n"
   ]
  },
  {
   "cell_type": "code",
   "execution_count": 22,
   "metadata": {},
   "outputs": [],
   "source": [
    "time_intervals = [\n",
    "    Time([53343.5, 53344.5], format=\"mjd\", scale=\"utc\"),\n",
    "    Time([53345.5, 53346.5], format=\"mjd\", scale=\"utc\"),\n",
    "    Time([53347.5, 53348.5], format=\"mjd\", scale=\"utc\"),\n",
    "]"
   ]
  },
  {
   "cell_type": "markdown",
   "metadata": {},
   "source": [
    "To compute the LC on the time intervals defined above, we pass the\n",
    "`LightCurveEstimator` the list of time intervals.\n",
    "\n",
    "Internally, datasets are grouped per time interval and a flux extraction\n",
    "is performed for each group.\n",
    "\n",
    "\n"
   ]
  },
  {
   "cell_type": "code",
   "execution_count": 23,
   "metadata": {},
   "outputs": [
    {
     "data": {
      "image/png": "[encoded data removed]",
      "text/plain": [
       "<Figure size 576x432 with 2 Axes>"
      ]
     },
     "metadata": {
      "needs_background": "light"
     },
     "output_type": "display_data"
    }
   ],
   "source": [
    "lc_maker_1d = LightCurveEstimator(\n",
    "    energy_edges=[1, 10] * u.TeV,\n",
    "    time_intervals=time_intervals,\n",
    "    source=\"crab\",\n",
    "    reoptimize=False,\n",
    "    selection_optional=\"all\",\n",
    ")\n",
    "\n",
    "nightwise_lc = lc_maker_1d.run(analysis_1d.datasets)\n",
    "\n",
    "fig, ax = plt.subplots(\n",
    "    figsize=(8, 6),\n",
    "    gridspec_kw={\"left\": 0.16, \"bottom\": 0.2, \"top\": 0.98, \"right\": 0.98},\n",
    ")\n",
    "nightwise_lc.plot(ax=ax, color=\"tab:orange\")\n",
    "nightwise_lc.plot_ts_profiles(ax=ax)\n",
    "ax.set_ylim(1e-12, 3e-12)\n",
    "\n",
    "plt.show()"
   ]
  },
  {
   "cell_type": "markdown",
   "metadata": {},
   "source": [
    "## What next?\n",
    "\n",
    "When sources are bright enough to look for variability at small time\n",
    "scales, the per-observation time binning is no longer relevant. One can\n",
    "easily extend the light curve estimation approach presented above to any\n",
    "time binning. This is demonstrated in the :doc:`/tutorials/analysis-time/light_curve_flare`\n",
    "tutorial. which shows the extraction of the lightcurve of an AGN flare.\n",
    "\n",
    "\n"
   ]
  }
 ],
 "metadata": {
  "kernelspec": {
   "display_name": "Python 3 (ipykernel)",
   "language": "python",
   "name": "python3"
  },
  "language_info": {
   "codemirror_mode": {
    "name": "ipython",
    "version": 3
   },
   "file_extension": ".py",
   "mimetype": "text/x-python",
   "name": "python",
   "nbconvert_exporter": "python",
   "pygments_lexer": "ipython3",
   "version": "3.9.12"
  }
 },
 "nbformat": 4,
 "nbformat_minor": 1
}
