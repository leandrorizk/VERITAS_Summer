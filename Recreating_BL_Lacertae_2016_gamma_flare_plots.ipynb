{
 "cells": [
  {
   "cell_type": "code",
   "execution_count": 1,
   "id": "5117e000",
   "metadata": {},
   "outputs": [],
   "source": [
    "%matplotlib inline"
   ]
  },
  {
   "cell_type": "code",
   "execution_count": 2,
   "id": "3af29c2e",
   "metadata": {},
   "outputs": [],
   "source": [
    "import numpy as np\n",
    "import matplotlib.pyplot as plt\n",
    "from astropy import units as u\n",
    "from astropy import constants as c\n",
    "from astropy.coordinates import Angle, SkyCoord\n",
    "from astropy.io import fits\n",
    "from astropy.table import Table\n",
    "from astropy.time import Time"
   ]
  },
  {
   "cell_type": "code",
   "execution_count": 3,
   "id": "b6378314",
   "metadata": {},
   "outputs": [],
   "source": [
    "from gammapy.analysis import Analysis, AnalysisConfig\n",
    "from gammapy.datasets import Datasets, FluxPointsDataset, SpectrumDataset, SpectrumDatasetOnOff\n",
    "from gammapy.data import DataStore\n",
    "from gammapy.estimators import FluxPointsEstimator, LightCurveEstimator\n",
    "from gammapy.maps import MapAxis, RegionGeom, WcsGeom\n",
    "from gammapy.makers import ReflectedRegionsBackgroundMaker, RingBackgroundMaker, SafeMaskMaker, SpectrumDatasetMaker\n",
    "from gammapy.modeling import Fit\n",
    "from gammapy.modeling.models import (create_crab_spectral_model, ExpCutoffPowerLawSpectralModel, \n",
    "                                     LogParabolaSpectralModel, Models, PowerLawSpectralModel, SkyModel)"
   ]
  },
  {
   "cell_type": "code",
   "execution_count": 4,
   "id": "9a33ce5e",
   "metadata": {},
   "outputs": [],
   "source": [
    "import logging\n",
    "from pathlib import Path\n",
    "from regions import CircleSkyRegion"
   ]
  },
  {
   "cell_type": "code",
   "execution_count": null,
   "id": "3814fa93",
   "metadata": {},
   "outputs": [],
   "source": []
  },
  {
   "cell_type": "code",
   "execution_count": 5,
   "id": "ed402550",
   "metadata": {},
   "outputs": [],
   "source": [
    "def reduced_chi_sq(y, model_y, sigma, n_param):\n",
    "    \n",
    "    frac = (y - model_y) / sigma\n",
    "    chi_sq = np.sum(frac ** 2)\n",
    "    \n",
    "    dof = len(y) - n_param\n",
    "    \n",
    "    return chi_sq, dof"
   ]
  },
  {
   "cell_type": "code",
   "execution_count": null,
   "id": "e9fb5a92",
   "metadata": {},
   "outputs": [],
   "source": []
  },
  {
   "cell_type": "code",
   "execution_count": 6,
   "id": "33cbd1ae",
   "metadata": {},
   "outputs": [],
   "source": [
    "path = 'BL_Lacertae/data/PointLike/'"
   ]
  },
  {
   "cell_type": "code",
   "execution_count": 7,
   "id": "60ecbb7e",
   "metadata": {},
   "outputs": [],
   "source": [
    "log = logging.getLogger(__name__)"
   ]
  },
  {
   "cell_type": "code",
   "execution_count": null,
   "id": "b58e0d48",
   "metadata": {},
   "outputs": [],
   "source": []
  },
  {
   "cell_type": "code",
   "execution_count": 8,
   "id": "e9ad1743",
   "metadata": {},
   "outputs": [
    {
     "name": "stdout",
     "output_type": "stream",
     "text": [
      "Data store:\n",
      "HDU index table:\n",
      "BASE_DIR: BL_Lacertae/data/PointLike\n",
      "Rows: 52\n",
      "OBS_ID: 83016 -- 83768\n",
      "HDU_TYPE: ['aeff', 'edisp', 'events', 'gti']\n",
      "HDU_CLASS: ['aeff_2d', 'edisp_2d', 'events', 'gti']\n",
      "\n",
      "\n",
      "Observation table:\n",
      "Observatory name: 'N/A'\n",
      "Number of observations: 13\n",
      "\n"
     ]
    }
   ],
   "source": [
    "datastore = DataStore.from_dir(path)\n",
    "datastore.info()"
   ]
  },
  {
   "cell_type": "code",
   "execution_count": null,
   "id": "196e4464",
   "metadata": {},
   "outputs": [],
   "source": []
  },
  {
   "cell_type": "code",
   "execution_count": 9,
   "id": "60ebc200",
   "metadata": {},
   "outputs": [],
   "source": [
    "obs_ids = [83016, 83017, 83018, 83019, 83020, 83021]\n",
    "#observations = datastore.get_observations(obs_ids, required_irf='point-like')"
   ]
  },
  {
   "cell_type": "code",
   "execution_count": 10,
   "id": "8b6f8454",
   "metadata": {},
   "outputs": [],
   "source": [
    "#obs_ids = obs_ids + [83231, 83266, 83368, 83389, 83523, 83558, 83768]\n",
    "#obs_ids.remove(83018)\n",
    "#obs_ids.remove(83231)\n",
    "observations = datastore.get_observations(obs_ids, required_irf='point-like')"
   ]
  },
  {
   "cell_type": "code",
   "execution_count": null,
   "id": "cb67c3d4",
   "metadata": {},
   "outputs": [],
   "source": []
  },
  {
   "cell_type": "code",
   "execution_count": 11,
   "id": "b9c1f3b7",
   "metadata": {},
   "outputs": [
    {
     "name": "stdout",
     "output_type": "stream",
     "text": [
      "Observations\n",
      "Number of observations: 6\n",
      "Observation\n",
      "\n",
      "\tobs id            : 83016 \n",
      " \ttstart            : 57666.16\n",
      "\ttstop             : 57666.18\n",
      "\tduration          : 1801.00 s\n",
      "\tpointing (icrs)   : 330.7 deg, 41.8 deg\n",
      "\n",
      "\tdeadtime fraction : 15.4%\n",
      "Observation\n",
      "\n",
      "\tobs id            : 83017 \n",
      " \ttstart            : 57666.19\n",
      "\ttstop             : 57666.21\n",
      "\tduration          : 1801.00 s\n",
      "\tpointing (icrs)   : 331.4 deg, 42.3 deg\n",
      "\n",
      "\tdeadtime fraction : 14.5%\n",
      "Observation\n",
      "\n",
      "\tobs id            : 83018 \n",
      " \ttstart            : 57666.21\n",
      "\ttstop             : 57666.23\n",
      "\tduration          : 1801.00 s\n",
      "\tpointing (icrs)   : 330.0 deg, 42.3 deg\n",
      "\n",
      "\tdeadtime fraction : 14.7%\n",
      "Observation\n",
      "\n",
      "\tobs id            : 83019 \n",
      " \ttstart            : 57666.23\n",
      "\ttstop             : 57666.25\n",
      "\tduration          : 1801.00 s\n",
      "\tpointing (icrs)   : 330.7 deg, 42.8 deg\n",
      "\n",
      "\tdeadtime fraction : 14.4%\n",
      "Observation\n",
      "\n",
      "\tobs id            : 83020 \n",
      " \ttstart            : 57666.25\n",
      "\ttstop             : 57666.27\n",
      "\tduration          : 1801.00 s\n",
      "\tpointing (icrs)   : 330.7 deg, 41.8 deg\n",
      "\n",
      "\tdeadtime fraction : 14.2%\n",
      "Observation\n",
      "\n",
      "\tobs id            : 83021 \n",
      " \ttstart            : 57666.27\n",
      "\ttstop             : 57666.29\n",
      "\tduration          : 1801.00 s\n",
      "\tpointing (icrs)   : 331.4 deg, 42.3 deg\n",
      "\n",
      "\tdeadtime fraction : 15.0%\n",
      "\n"
     ]
    }
   ],
   "source": [
    "print(observations)"
   ]
  },
  {
   "cell_type": "code",
   "execution_count": null,
   "id": "3d72b022",
   "metadata": {},
   "outputs": [],
   "source": []
  },
  {
   "cell_type": "code",
   "execution_count": 12,
   "id": "c93fc507",
   "metadata": {},
   "outputs": [],
   "source": [
    "# bllacertae_ra = (22 * u.hourangle + 2 * u.arcmin + 43.2913536816 * u.arcsec).to(u.deg)\n",
    "# bllacertae_dec = (42 * u.deg + 16 * u.arcmin + 39.979416792 * u.arcsec).to(u.deg)"
   ]
  },
  {
   "cell_type": "code",
   "execution_count": 13,
   "id": "1d8f5c6d",
   "metadata": {},
   "outputs": [],
   "source": [
    "bllacertae_ra = (330.6804167 * u.deg)\n",
    "bllacertae_dec = (42.2777778 * u.deg)"
   ]
  },
  {
   "cell_type": "code",
   "execution_count": 14,
   "id": "07f69e72",
   "metadata": {},
   "outputs": [],
   "source": [
    "target_position = SkyCoord(bllacertae_ra, bllacertae_dec, frame='icrs')"
   ]
  },
  {
   "cell_type": "code",
   "execution_count": null,
   "id": "b4379520",
   "metadata": {},
   "outputs": [],
   "source": []
  },
  {
   "cell_type": "code",
   "execution_count": 15,
   "id": "b4da5793",
   "metadata": {},
   "outputs": [
    {
     "data": {
      "text/plain": [
       "(<Longitude 330.6804167 deg>, <Latitude 42.2777778 deg>)"
      ]
     },
     "execution_count": 15,
     "metadata": {},
     "output_type": "execute_result"
    }
   ],
   "source": [
    "target_position.ra, target_position.dec"
   ]
  },
  {
   "cell_type": "code",
   "execution_count": null,
   "id": "5f853830",
   "metadata": {},
   "outputs": [],
   "source": []
  },
  {
   "cell_type": "code",
   "execution_count": null,
   "id": "4f9618cf",
   "metadata": {},
   "outputs": [],
   "source": []
  },
  {
   "cell_type": "code",
   "execution_count": null,
   "id": "b5a885e1",
   "metadata": {},
   "outputs": [],
   "source": []
  },
  {
   "cell_type": "code",
   "execution_count": null,
   "id": "211b0ee0",
   "metadata": {},
   "outputs": [],
   "source": []
  },
  {
   "cell_type": "code",
   "execution_count": null,
   "id": "b5edafb0",
   "metadata": {},
   "outputs": [],
   "source": []
  },
  {
   "cell_type": "code",
   "execution_count": 16,
   "id": "a51285d5",
   "metadata": {},
   "outputs": [],
   "source": [
    "selection = {'type': 'sky_circle', 'frame': 'icrs', \n",
    "             'lon': bllacertae_ra, 'lat': bllacertae_dec, 'radius': 2 * u.deg}"
   ]
  },
  {
   "cell_type": "code",
   "execution_count": 17,
   "id": "3d18000f",
   "metadata": {},
   "outputs": [
    {
     "data": {
      "text/plain": [
       "13"
      ]
     },
     "execution_count": 17,
     "metadata": {},
     "output_type": "execute_result"
    }
   ],
   "source": [
    "len(datastore.obs_table.select_observations(selection))"
   ]
  },
  {
   "cell_type": "code",
   "execution_count": null,
   "id": "f0306bc9",
   "metadata": {},
   "outputs": [],
   "source": []
  },
  {
   "cell_type": "code",
   "execution_count": 18,
   "id": "03963b6a",
   "metadata": {},
   "outputs": [],
   "source": [
    "on_region_radius = Angle(0.08944272 * u.deg)\n",
    "on_region = CircleSkyRegion(center=target_position, radius=on_region_radius)"
   ]
  },
  {
   "cell_type": "code",
   "execution_count": 19,
   "id": "dedbe27b",
   "metadata": {},
   "outputs": [],
   "source": [
    "energy_axis = MapAxis.from_energy_bounds(energy_min=0.1, energy_max=30, nbin=10, per_decade=True, \n",
    "                                         unit='TeV', name='energy')\n",
    "energy_axis_true = MapAxis.from_energy_bounds(energy_min=0.1, energy_max=30, nbin=20, per_decade=True, \n",
    "                                              unit='TeV', name='energy_true')"
   ]
  },
  {
   "cell_type": "code",
   "execution_count": null,
   "id": "c4e8970f",
   "metadata": {},
   "outputs": [],
   "source": []
  },
  {
   "cell_type": "code",
   "execution_count": 20,
   "id": "f286db7a",
   "metadata": {},
   "outputs": [],
   "source": [
    "geom = RegionGeom.create(region=on_region, axes=[energy_axis])\n",
    "\n",
    "### Not sure I understand what object this is\n",
    "dataset_empty = SpectrumDataset.create(geom=geom, energy_axis_true=energy_axis_true)"
   ]
  },
  {
   "cell_type": "code",
   "execution_count": 21,
   "id": "15675426",
   "metadata": {},
   "outputs": [],
   "source": [
    "### Not sure I understand what objects these are\n",
    "\n",
    "dataset_maker = SpectrumDatasetMaker(containment_correction=False, selection=['counts', 'exposure', 'edisp'])\n",
    "wobble_bkg_maker = ReflectedRegionsBackgroundMaker()\n",
    "#ring_bkg_maker = RingBackgroundMaker()\n",
    "safe_mask_masker = SafeMaskMaker(methods=['aeff-max'], aeff_percent=10)"
   ]
  },
  {
   "cell_type": "code",
   "execution_count": null,
   "id": "ffd4288a",
   "metadata": {},
   "outputs": [],
   "source": []
  },
  {
   "cell_type": "code",
   "execution_count": 22,
   "id": "dfeb9eac",
   "metadata": {},
   "outputs": [
    {
     "name": "stdout",
     "output_type": "stream",
     "text": [
      "Datasets\n",
      "--------\n",
      "\n",
      "Dataset 0: \n",
      "\n",
      "  Type       : SpectrumDatasetOnOff\n",
      "  Name       : 83016\n",
      "  Instrument : VERITAS\n",
      "  Models     : \n",
      "\n",
      "Dataset 1: \n",
      "\n",
      "  Type       : SpectrumDatasetOnOff\n",
      "  Name       : 83017\n",
      "  Instrument : VERITAS\n",
      "  Models     : \n",
      "\n",
      "Dataset 2: \n",
      "\n",
      "  Type       : SpectrumDatasetOnOff\n",
      "  Name       : 83018\n",
      "  Instrument : VERITAS\n",
      "  Models     : \n",
      "\n",
      "Dataset 3: \n",
      "\n",
      "  Type       : SpectrumDatasetOnOff\n",
      "  Name       : 83019\n",
      "  Instrument : VERITAS\n",
      "  Models     : \n",
      "\n",
      "Dataset 4: \n",
      "\n",
      "  Type       : SpectrumDatasetOnOff\n",
      "  Name       : 83020\n",
      "  Instrument : VERITAS\n",
      "  Models     : \n",
      "\n",
      "Dataset 5: \n",
      "\n",
      "  Type       : SpectrumDatasetOnOff\n",
      "  Name       : 83021\n",
      "  Instrument : VERITAS\n",
      "  Models     : \n",
      "\n",
      "\n"
     ]
    }
   ],
   "source": [
    "datasets = Datasets()\n",
    "\n",
    "#obs_ids_questionmark_questionmark = [62672,62673,62674,62675,62676,62677]\n",
    "\n",
    "#for obs_id, obs in zip(obs_ids_questionmark_questionmark, observations):\n",
    "for obs_id, obs in zip(obs_ids, observations):\n",
    "    dataset = dataset_maker.run(dataset_empty.copy(name=str(obs_id)), obs)\n",
    "    dataset = wobble_bkg_maker.run(dataset, obs)\n",
    "    dataset = safe_mask_masker.run(dataset, obs)\n",
    "    datasets.append(dataset)\n",
    "\n",
    "print(datasets)"
   ]
  },
  {
   "cell_type": "code",
   "execution_count": null,
   "id": "35b67990",
   "metadata": {},
   "outputs": [],
   "source": []
  },
  {
   "cell_type": "code",
   "execution_count": null,
   "id": "c119b7d3",
   "metadata": {},
   "outputs": [],
   "source": []
  },
  {
   "cell_type": "code",
   "execution_count": 23,
   "id": "b6624f5c",
   "metadata": {},
   "outputs": [
    {
     "data": {
      "text/html": [
       "<div><i>Table length=6</i>\n",
       "<table id=\"table140681970931312\" class=\"table-striped table-bordered table-condensed\">\n",
       "<thead><tr><th>name</th><th>counts</th><th>excess</th><th>sqrt_ts</th><th>background</th><th>npred</th><th>npred_background</th><th>npred_signal</th><th>exposure_min</th><th>exposure_max</th><th>livetime</th><th>ontime</th><th>counts_rate</th><th>background_rate</th><th>excess_rate</th><th>n_bins</th><th>n_fit_bins</th><th>stat_type</th><th>stat_sum</th><th>counts_off</th><th>acceptance</th><th>acceptance_off</th><th>alpha</th></tr></thead>\n",
       "<thead><tr><th></th><th></th><th></th><th></th><th></th><th></th><th></th><th></th><th>m2 s</th><th>m2 s</th><th>s</th><th>s</th><th>1 / s</th><th>1 / s</th><th>1 / s</th><th></th><th></th><th></th><th></th><th></th><th></th><th></th><th></th></tr></thead>\n",
       "<thead><tr><th>str7</th><th>int64</th><th>float64</th><th>float64</th><th>float64</th><th>float64</th><th>float64</th><th>float64</th><th>float64</th><th>float64</th><th>float64</th><th>float64</th><th>float64</th><th>float64</th><th>float64</th><th>int64</th><th>int64</th><th>str5</th><th>float64</th><th>int64</th><th>float64</th><th>float64</th><th>float64</th></tr></thead>\n",
       "<tr><td>stacked</td><td>28</td><td>27.6875</td><td>11.454017903018887</td><td>0.3125</td><td>1.9411764705882353</td><td>1.9411764705882353</td><td>nan</td><td>479.63433837890625</td><td>141807520.0</td><td>1523.3331217806794</td><td>1801.0</td><td>0.018380746535117534</td><td>0.00020514226043657962</td><td>0.018175604274680953</td><td>25</td><td>19</td><td>wstat</td><td>135.93635461244747</td><td>5</td><td>19.0</td><td>304.0</td><td>0.0625</td></tr>\n",
       "<tr><td>stacked</td><td>60</td><td>59.4375</td><td>16.959998133954024</td><td>0.5625</td><td>4.0588235294117645</td><td>4.0588235294117645</td><td>nan</td><td>0.0011668018996715546</td><td>285211904.0</td><td>3063.1226852352247</td><td>3602.0</td><td>0.01958785401877968</td><td>0.0001836361314260595</td><td>0.01940421788735362</td><td>25</td><td>19</td><td>wstat</td><td>300.59012035163914</td><td>9</td><td>19.0</td><td>304.0</td><td>0.0625</td></tr>\n",
       "<tr><td>stacked</td><td>103</td><td>102.0</td><td>22.1726758894848</td><td>1.0</td><td>7.0</td><td>7.0</td><td>nan</td><td>0.0011668018996715546</td><td>431866368.0</td><td>4600.061561981962</td><td>5403.0</td><td>0.022391004688124626</td><td>0.0002173883950303362</td><td>0.02217361629309429</td><td>25</td><td>19</td><td>wstat</td><td>509.59001602253244</td><td>16</td><td>19.0</td><td>304.0</td><td>0.0625</td></tr>\n",
       "<tr><td>stacked</td><td>131</td><td>129.875</td><td>25.192527966032642</td><td>1.125</td><td>8.76470588235294</td><td>8.76470588235294</td><td>nan</td><td>0.00584449665620923</td><td>587250304.0</td><td>6142.34249606099</td><td>7204.0</td><td>0.02132736819609273</td><td>0.00018315487954659787</td><td>0.02114421331654613</td><td>25</td><td>19</td><td>wstat</td><td>657.6750334971639</td><td>18</td><td>19.0</td><td>304.0</td><td>0.0625</td></tr>\n",
       "<tr><td>stacked</td><td>165</td><td>163.5625</td><td>28.249631828361565</td><td>1.4375</td><td>11.058823529411764</td><td>11.058823529411764</td><td>nan</td><td>0.00584449665620923</td><td>759129728.0</td><td>7686.720315403247</td><td>9005.0</td><td>0.021465591725688286</td><td>0.00018701083700410252</td><td>0.021278580888684184</td><td>25</td><td>19</td><td>wstat</td><td>819.6980601750679</td><td>23</td><td>19.0</td><td>304.0</td><td>0.0625</td></tr>\n",
       "<tr><td>stacked</td><td>169</td><td>167.3125</td><td>28.350658720018455</td><td>1.6875</td><td>11.52941176470588</td><td>11.52941176470588</td><td>nan</td><td>0.00584449665620923</td><td>953312896.0</td><td>9217.726979667761</td><td>10806.0</td><td>0.018334237971332424</td><td>0.00018307116317528677</td><td>0.018151166808157138</td><td>25</td><td>19</td><td>wstat</td><td>828.9469616329626</td><td>27</td><td>19.0</td><td>304.0</td><td>0.0625</td></tr>\n",
       "</table></div>"
      ],
      "text/plain": [
       "<Table length=6>\n",
       "  name  counts  excess  ... acceptance acceptance_off  alpha \n",
       "                        ...                                  \n",
       "  str7  int64  float64  ...  float64      float64     float64\n",
       "------- ------ -------- ... ---------- -------------- -------\n",
       "stacked     28  27.6875 ...       19.0          304.0  0.0625\n",
       "stacked     60  59.4375 ...       19.0          304.0  0.0625\n",
       "stacked    103    102.0 ...       19.0          304.0  0.0625\n",
       "stacked    131  129.875 ...       19.0          304.0  0.0625\n",
       "stacked    165 163.5625 ...       19.0          304.0  0.0625\n",
       "stacked    169 167.3125 ...       19.0          304.0  0.0625"
      ]
     },
     "metadata": {},
     "output_type": "display_data"
    }
   ],
   "source": [
    "info_table = datasets.info_table(cumulative=True)\n",
    "display(info_table)"
   ]
  },
  {
   "cell_type": "code",
   "execution_count": null,
   "id": "f1cbc0ad",
   "metadata": {},
   "outputs": [],
   "source": []
  },
  {
   "cell_type": "code",
   "execution_count": 24,
   "id": "fab41c53",
   "metadata": {},
   "outputs": [
    {
     "data": {
      "image/png": "[encoded data removed]",
      "text/plain": [
       "<Figure size 1152x360 with 2 Axes>"
      ]
     },
     "metadata": {
      "needs_background": "light"
     },
     "output_type": "display_data"
    }
   ],
   "source": [
    "fig, (ax_excess, ax_sqrt_ts) = plt.subplots(1, 2, figsize=(16, 5))\n",
    "\n",
    "ax_excess.plot(info_table['livetime'].to(u.h), info_table['excess'], 'o', c='royalblue', ls='none')\n",
    "ax_excess.grid()\n",
    "ax_excess.set_xlabel('Livetime [h]')\n",
    "ax_excess.set_ylabel('Excess events')\n",
    "ax_excess.set_title('Excess')\n",
    "\n",
    "ax_sqrt_ts.plot(info_table['livetime'].to(u.h), info_table['sqrt_ts'], 'o', c='firebrick', ls='none')\n",
    "ax_sqrt_ts.grid()\n",
    "ax_sqrt_ts.set_xlabel('Livetime [h]')\n",
    "ax_sqrt_ts.set_ylabel(r'$\\sqrt{\\rm{TS}}$')\n",
    "ax_sqrt_ts.set_title('Sq. root of test statistic')\n",
    "\n",
    "plt.show()"
   ]
  },
  {
   "cell_type": "code",
   "execution_count": null,
   "id": "bdc6f0dc",
   "metadata": {},
   "outputs": [],
   "source": []
  },
  {
   "cell_type": "code",
   "execution_count": 25,
   "id": "abe98807",
   "metadata": {},
   "outputs": [],
   "source": [
    "spectral_model = LogParabolaSpectralModel.from_log10(amplitude=2.22e-5 / (u.m ** 2 * u.s * u.TeV), \n",
    "                                                     reference=0.2 * u.TeV, \n",
    "                                                     alpha=2.4, \n",
    "                                                     beta=1.8)"
   ]
  },
  {
   "cell_type": "code",
   "execution_count": 26,
   "id": "3fbc9ed4",
   "metadata": {},
   "outputs": [
    {
     "name": "stdout",
     "output_type": "stream",
     "text": [
      "LogParabolaSpectralModel\n",
      "\n",
      "  type      name     value         unit     ... max frozen is_norm link\n",
      "-------- --------- ---------- ------------- ... --- ------ ------- ----\n",
      "spectral amplitude 2.2200e-05 m-2 s-1 TeV-1 ... nan  False    True     \n",
      "spectral reference 2.0000e-01           TeV ... nan   True   False     \n",
      "spectral     alpha 2.4000e+00               ... nan  False   False     \n",
      "spectral      beta 7.8173e-01               ... nan  False   False     \n"
     ]
    }
   ],
   "source": [
    "print(spectral_model)"
   ]
  },
  {
   "cell_type": "code",
   "execution_count": null,
   "id": "8bd28e33",
   "metadata": {},
   "outputs": [],
   "source": []
  },
  {
   "cell_type": "code",
   "execution_count": null,
   "id": "b2924d7b",
   "metadata": {},
   "outputs": [],
   "source": []
  },
  {
   "cell_type": "code",
   "execution_count": 27,
   "id": "c2b2f7f1",
   "metadata": {},
   "outputs": [],
   "source": [
    "### ???\n",
    "\n",
    "model = SkyModel(spectral_model=spectral_model, name='BL Lacertae')\n",
    "datasets.models = [model]\n",
    "\n",
    "fit_joint = Fit()\n",
    "result_joint = fit_joint.run(datasets=datasets)\n",
    "model_best_joint = model.copy()"
   ]
  },
  {
   "cell_type": "code",
   "execution_count": 28,
   "id": "bbdc4510",
   "metadata": {},
   "outputs": [
    {
     "name": "stdout",
     "output_type": "stream",
     "text": [
      "LogParabolaSpectralModel\n",
      "\n",
      "  type      name     value         unit     ... max frozen is_norm link\n",
      "-------- --------- ---------- ------------- ... --- ------ ------- ----\n",
      "spectral amplitude 4.4827e-05 m-2 s-1 TeV-1 ... nan  False    True     \n",
      "spectral reference 2.0000e-01           TeV ... nan   True   False     \n",
      "spectral     alpha 3.1007e+00               ... nan  False   False     \n",
      "spectral      beta 3.6273e-01               ... nan  False   False     \n"
     ]
    }
   ],
   "source": [
    "print(spectral_model)"
   ]
  },
  {
   "cell_type": "code",
   "execution_count": null,
   "id": "1a7150f5",
   "metadata": {},
   "outputs": [],
   "source": []
  },
  {
   "cell_type": "code",
   "execution_count": 29,
   "id": "0f4ccdc5",
   "metadata": {},
   "outputs": [
    {
     "data": {
      "text/html": [
       "<div><i>Table length=4</i>\n",
       "<table id=\"table140681914495280\" class=\"table-striped table-bordered table-condensed\">\n",
       "<thead><tr><th>model</th><th>type</th><th>name</th><th>value</th><th>unit</th><th>error</th><th>min</th><th>max</th><th>frozen</th><th>is_norm</th><th>link</th></tr></thead>\n",
       "<thead><tr><th>str11</th><th>str8</th><th>str9</th><th>float64</th><th>str13</th><th>float64</th><th>float64</th><th>float64</th><th>bool</th><th>bool</th><th>str1</th></tr></thead>\n",
       "<tr><td>BL Lacertae</td><td>spectral</td><td>amplitude</td><td>4.4827e-05</td><td>m-2 s-1 TeV-1</td><td>2.892e-05</td><td>nan</td><td>nan</td><td>False</td><td>True</td><td></td></tr>\n",
       "<tr><td>BL Lacertae</td><td>spectral</td><td>reference</td><td>2.0000e-01</td><td>TeV</td><td>0.000e+00</td><td>nan</td><td>nan</td><td>True</td><td>False</td><td></td></tr>\n",
       "<tr><td>BL Lacertae</td><td>spectral</td><td>alpha</td><td>3.1007e+00</td><td></td><td>9.704e-01</td><td>nan</td><td>nan</td><td>False</td><td>False</td><td></td></tr>\n",
       "<tr><td>BL Lacertae</td><td>spectral</td><td>beta</td><td>3.6273e-01</td><td></td><td>3.392e-01</td><td>nan</td><td>nan</td><td>False</td><td>False</td><td></td></tr>\n",
       "</table></div>"
      ],
      "text/plain": [
       "<Table length=4>\n",
       "   model      type      name     value    ...   max   frozen is_norm link\n",
       "   str11      str8      str9    float64   ... float64  bool    bool  str1\n",
       "----------- -------- --------- ---------- ... ------- ------ ------- ----\n",
       "BL Lacertae spectral amplitude 4.4827e-05 ...     nan  False    True     \n",
       "BL Lacertae spectral reference 2.0000e-01 ...     nan   True   False     \n",
       "BL Lacertae spectral     alpha 3.1007e+00 ...     nan  False   False     \n",
       "BL Lacertae spectral      beta 3.6273e-01 ...     nan  False   False     "
      ]
     },
     "metadata": {},
     "output_type": "display_data"
    }
   ],
   "source": [
    "display(result_joint.models.to_parameters_table())"
   ]
  },
  {
   "cell_type": "code",
   "execution_count": null,
   "id": "d1755435",
   "metadata": {},
   "outputs": [],
   "source": []
  },
  {
   "cell_type": "code",
   "execution_count": 30,
   "id": "e0efd81b",
   "metadata": {},
   "outputs": [
    {
     "data": {
      "image/png": "[encoded data removed]",
      "text/plain": [
       "<Figure size 1080x576 with 2 Axes>"
      ]
     },
     "metadata": {
      "needs_background": "light"
     },
     "output_type": "display_data"
    }
   ],
   "source": [
    "plt.figure(figsize=(15, 8))\n",
    "\n",
    "ax_spectrum, ax_residuals = datasets[2].plot_fit()\n",
    "\n",
    "ax_spectrum.set_yscale('log')\n",
    "datasets[0].plot_masks(ax=ax_spectrum)\n",
    "ax_spectrum.set_title('BL Lacertae')\n",
    "\n",
    "plt.show()"
   ]
  },
  {
   "cell_type": "code",
   "execution_count": null,
   "id": "2415a208",
   "metadata": {},
   "outputs": [],
   "source": []
  },
  {
   "cell_type": "code",
   "execution_count": 31,
   "id": "0cea791d",
   "metadata": {},
   "outputs": [],
   "source": [
    "# A1 = 2.22e-5\n",
    "# A2 = 2.36e-5\n",
    " \n",
    "# ref = 0.2\n",
    "\n",
    "# alpha1 = 2.4\n",
    "# alpha2 = 2.2\n",
    "\n",
    "# beta1 = 1.8\n",
    "# beta2 = 1.4\n",
    "\n",
    "# def logparab(E, A, ref, alpha, beta):\n",
    "#     return A * (E / ref) ** (-alpha - beta * np.log10((E / ref)))\n",
    "    \n",
    "\n",
    "# energies = np.linspace(0.1, 3, 100000)\n",
    "\n",
    "# e2fluxes1 = logparab(energies, A1, ref, alpha1, beta1) * energies ** 2\n",
    "# e2fluxes2 = logparab(energies, A2, ref, alpha2, beta2) * energies ** 2\n",
    "    \n",
    "    \n",
    "# plt.figure(figsize=(15, 8))\n",
    "\n",
    "# plt.plot(energies * u.TeV.to(u.GeV), \n",
    "#          e2fluxes1 * (u.TeV / u.m ** 2 / u.s).to(u.erg / u.cm ** 2 / u.s), \n",
    "#          lw=5, c='k', alpha=0.7)\n",
    "\n",
    "# plt.plot(energies * u.TeV.to(u.GeV), \n",
    "#          e2fluxes2 * (u.TeV / u.m ** 2 / u.s).to(u.erg / u.cm ** 2 / u.s), \n",
    "#          lw=5, c='royalblue', alpha=0.7)\n",
    "\n",
    "# plt.xscale('log')\n",
    "# plt.xlabel(r'$E$ [GeV]', fontsize=15)\n",
    "\n",
    "# plt.yscale('log')\n",
    "# plt.ylabel(r'$E^2 dN/dE$ [erg cm$^{-2}$ s$^{-1}$]', fontsize=15)\n",
    "\n",
    "# plt.grid()\n",
    "# plt.show()"
   ]
  },
  {
   "cell_type": "code",
   "execution_count": null,
   "id": "789d3cd9",
   "metadata": {},
   "outputs": [],
   "source": []
  },
  {
   "cell_type": "code",
   "execution_count": null,
   "id": "88f3e588",
   "metadata": {},
   "outputs": [],
   "source": []
  },
  {
   "cell_type": "code",
   "execution_count": null,
   "id": "8c87c582",
   "metadata": {},
   "outputs": [],
   "source": []
  },
  {
   "cell_type": "code",
   "execution_count": null,
   "id": "b9ca618c",
   "metadata": {},
   "outputs": [],
   "source": []
  },
  {
   "cell_type": "code",
   "execution_count": null,
   "id": "28b216ba",
   "metadata": {},
   "outputs": [],
   "source": []
  },
  {
   "cell_type": "code",
   "execution_count": null,
   "id": "298a9cd3",
   "metadata": {},
   "outputs": [],
   "source": []
  },
  {
   "cell_type": "code",
   "execution_count": null,
   "id": "3266f389",
   "metadata": {},
   "outputs": [],
   "source": []
  },
  {
   "cell_type": "code",
   "execution_count": 32,
   "id": "1968180f",
   "metadata": {},
   "outputs": [],
   "source": [
    "e_min, e_max = 0.1, 4\n",
    "energy_edges_1 = np.geomspace(e_min, e_max, 7) * u.TeV\n",
    "energy_edges = 10 ** np.arange(-0.5, 0.31, 0.2) * u.TeV"
   ]
  },
  {
   "cell_type": "code",
   "execution_count": 33,
   "id": "3ce4ff14",
   "metadata": {},
   "outputs": [
    {
     "data": {
      "text/latex": [
       "$[0.1,~0.18493112,~0.34199519,~0.63245553,~1.1696071,~2.1629675,~4] \\; \\mathrm{TeV}$"
      ],
      "text/plain": [
       "<Quantity [0.1       , 0.18493112, 0.34199519, 0.63245553, 1.1696071 ,\n",
       "           2.16296749, 4.        ] TeV>"
      ]
     },
     "execution_count": 33,
     "metadata": {},
     "output_type": "execute_result"
    }
   ],
   "source": [
    "energy_edges_1"
   ]
  },
  {
   "cell_type": "code",
   "execution_count": 34,
   "id": "92f45a8a",
   "metadata": {},
   "outputs": [
    {
     "data": {
      "text/latex": [
       "$[0.31622777,~0.50118723,~0.79432823,~1.2589254,~1.9952623] \\; \\mathrm{TeV}$"
      ],
      "text/plain": [
       "<Quantity [0.31622777, 0.50118723, 0.79432823, 1.25892541, 1.99526231] TeV>"
      ]
     },
     "execution_count": 34,
     "metadata": {},
     "output_type": "execute_result"
    }
   ],
   "source": [
    "energy_edges"
   ]
  },
  {
   "cell_type": "code",
   "execution_count": null,
   "id": "28b55023",
   "metadata": {},
   "outputs": [],
   "source": []
  },
  {
   "cell_type": "code",
   "execution_count": 35,
   "id": "76a22204",
   "metadata": {},
   "outputs": [],
   "source": [
    "fpe = FluxPointsEstimator(energy_edges=energy_edges, source='BL Lacertae', selection_optional='all')\n",
    "flux_points = fpe.run(datasets=datasets)"
   ]
  },
  {
   "cell_type": "code",
   "execution_count": 36,
   "id": "18de64df",
   "metadata": {},
   "outputs": [
    {
     "data": {
      "text/html": [
       "<i>Table length=4</i>\n",
       "<table id=\"table140682004439968-643068\" class=\"table-striped table-bordered table-condensed\">\n",
       "<thead><tr><th>idx</th><th>e_ref</th><th>e_min</th><th>e_max</th><th>dnde</th><th>dnde_err</th><th>dnde_errp</th><th>dnde_errn</th><th>dnde_ul</th><th>ts</th><th>sqrt_ts</th><th>npred [6]</th><th>npred_excess [6]</th><th>stat</th><th>is_ul</th><th>counts [6]</th><th>success</th><th>norm_scan [11]</th><th>stat_scan [11]</th></tr></thead>\n",
       "<thead><tr><th></th><th>TeV</th><th>TeV</th><th>TeV</th><th>1 / (m2 s TeV)</th><th>1 / (m2 s TeV)</th><th>1 / (m2 s TeV)</th><th>1 / (m2 s TeV)</th><th>1 / (m2 s TeV)</th><th></th><th></th><th></th><th></th><th></th><th></th><th></th><th></th><th></th><th></th></tr></thead>\n",
       "<tr><td>0</td><td>0.393</td><td>0.313</td><td>0.494</td><td>4.517e-06</td><td>8.923e-07</td><td>9.526e-07</td><td>8.359e-07</td><td>6.550e-06</td><td>130.989</td><td>11.445</td><td>8.932585793188663 .. 0.0</td><td>8.808396 .. 0.0</td><td>0.192</td><td>False</td><td>8.0 .. 0.0</td><td>True</td><td>0.200 .. 5.000</td><td>39.686 .. 130.234</td></tr>\n",
       "<tr><td>1</td><td>0.620</td><td>0.494</td><td>0.779</td><td>8.634e-07</td><td>9.315e-08</td><td>9.657e-08</td><td>8.991e-08</td><td>1.064e-06</td><td>434.590</td><td>20.847</td><td>16.184961521285757 .. 6.781219106324946</td><td>16.12404 .. 6.781219</td><td>17.240</td><td>False</td><td>13.0 .. 1.0</td><td>True</td><td>0.200 .. 5.000</td><td>157.541 .. 412.096</td></tr>\n",
       "<tr><td>2</td><td>0.979</td><td>0.779</td><td>1.230</td><td>1.261e-07</td><td>2.012e-08</td><td>2.122e-08</td><td>1.909e-08</td><td>1.709e-07</td><td>173.602</td><td>13.176</td><td>6.19718803497336 .. 7.632641300353759</td><td>6.135629 .. 7.5738177</td><td>32.090</td><td>False</td><td>4.0 .. 0.0</td><td>True</td><td>0.200 .. 5.000</td><td>92.532 .. 231.460</td></tr>\n",
       "<tr><td>3</td><td>1.545</td><td>1.230</td><td>1.941</td><td>1.610e-08</td><td>4.944e-09</td><td>5.427e-09</td><td>4.484e-09</td><td>2.796e-08</td><td>36.300</td><td>6.025</td><td>1.7990450114459682 .. 2.3953822441955297</td><td>1.733962 .. 2.2043996</td><td>11.045</td><td>False</td><td>3.0 .. 3.0</td><td>True</td><td>0.200 .. 5.000</td><td>25.022 .. 71.065</td></tr>\n",
       "</table><style>table.dataTable {clear: both; width: auto !important; margin: 0 !important;}\n",
       ".dataTables_info, .dataTables_length, .dataTables_filter, .dataTables_paginate{\n",
       "display: inline-block; margin-right: 1em; }\n",
       ".paginate_button { margin-right: 5px; }\n",
       "</style>\n",
       "<script>\n",
       "\n",
       "var astropy_sort_num = function(a, b) {\n",
       "    var a_num = parseFloat(a);\n",
       "    var b_num = parseFloat(b);\n",
       "\n",
       "    if (isNaN(a_num) && isNaN(b_num))\n",
       "        return ((a < b) ? -1 : ((a > b) ? 1 : 0));\n",
       "    else if (!isNaN(a_num) && !isNaN(b_num))\n",
       "        return ((a_num < b_num) ? -1 : ((a_num > b_num) ? 1 : 0));\n",
       "    else\n",
       "        return isNaN(a_num) ? -1 : 1;\n",
       "}\n",
       "\n",
       "require.config({paths: {\n",
       "    datatables: 'https://cdn.datatables.net/1.10.12/js/jquery.dataTables.min'\n",
       "}});\n",
       "require([\"datatables\"], function(){\n",
       "    console.log(\"$('#table140682004439968-643068').dataTable()\");\n",
       "    \n",
       "jQuery.extend( jQuery.fn.dataTableExt.oSort, {\n",
       "    \"optionalnum-asc\": astropy_sort_num,\n",
       "    \"optionalnum-desc\": function (a,b) { return -astropy_sort_num(a, b); }\n",
       "});\n",
       "\n",
       "    $('#table140682004439968-643068').dataTable({\n",
       "        order: [],\n",
       "        pageLength: 50,\n",
       "        lengthMenu: [[10, 25, 50, 100, 500, 1000, -1], [10, 25, 50, 100, 500, 1000, 'All']],\n",
       "        pagingType: \"full_numbers\",\n",
       "        columnDefs: [{targets: [0, 1, 2, 3, 4, 5, 6, 7, 8, 9, 10, 11, 12, 13, 15, 17, 18], type: \"optionalnum\"}]\n",
       "    });\n",
       "});\n",
       "</script>\n"
      ],
      "text/plain": [
       "<IPython.core.display.HTML object>"
      ]
     },
     "execution_count": 36,
     "metadata": {},
     "output_type": "execute_result"
    }
   ],
   "source": [
    "flux_points.to_table(sed_type='dnde', formatted=True).show_in_notebook()"
   ]
  },
  {
   "cell_type": "code",
   "execution_count": null,
   "id": "f4e937aa",
   "metadata": {},
   "outputs": [],
   "source": []
  },
  {
   "cell_type": "code",
   "execution_count": 37,
   "id": "48bee433",
   "metadata": {},
   "outputs": [
    {
     "data": {
      "image/png": "[encoded data removed]",
      "text/plain": [
       "<Figure size 1080x576 with 2 Axes>"
      ]
     },
     "metadata": {
      "needs_background": "light"
     },
     "output_type": "display_data"
    }
   ],
   "source": [
    "fig, ax = plt.subplots(figsize=(15, 8))\n",
    "flux_points.plot(ax=ax, sed_type='dnde', c='fuchsia')\n",
    "flux_points.plot_ts_profiles(ax=ax, sed_type='dnde')\n",
    "ax.set_xscale('linear')\n",
    "plt.show()"
   ]
  },
  {
   "cell_type": "code",
   "execution_count": null,
   "id": "727cd124",
   "metadata": {},
   "outputs": [],
   "source": []
  },
  {
   "cell_type": "code",
   "execution_count": 38,
   "id": "d57669e7",
   "metadata": {},
   "outputs": [
    {
     "data": {
      "text/plain": [
       "(<AxesSubplot:xlabel='Energy [TeV]', ylabel='e2dnde [erg / (cm2 s)]'>,\n",
       " <AxesSubplot:xlabel='Energy [TeV]', ylabel='Residuals\\n (data - model) / model'>)"
      ]
     },
     "execution_count": 38,
     "metadata": {},
     "output_type": "execute_result"
    },
    {
     "data": {
      "text/plain": [
       "<Figure size 1080x576 with 0 Axes>"
      ]
     },
     "metadata": {},
     "output_type": "display_data"
    },
    {
     "data": {
      "image/png": "[encoded data removed]",
      "text/plain": [
       "<Figure size 648x504 with 2 Axes>"
      ]
     },
     "metadata": {
      "needs_background": "light"
     },
     "output_type": "display_data"
    }
   ],
   "source": [
    "plt.figure(figsize=(15, 8))\n",
    "flux_points_dataset = FluxPointsDataset(data=flux_points, models=model_best_joint)\n",
    "flux_points_dataset.plot_fit()"
   ]
  },
  {
   "cell_type": "code",
   "execution_count": 39,
   "id": "e51deb78",
   "metadata": {},
   "outputs": [
    {
     "data": {
      "image/png": "[encoded data removed]",
      "text/plain": [
       "<Figure size 1080x576 with 1 Axes>"
      ]
     },
     "metadata": {
      "needs_background": "light"
     },
     "output_type": "display_data"
    }
   ],
   "source": [
    "plt.figure(figsize=(15, 8))\n",
    "\n",
    "energy_bounds = [e_min, e_max] * u.TeV\n",
    "\n",
    "spectral_model.plot(energy_bounds, label='Log Parabola Fit', color='orangered', lw=2)\n",
    "spectral_model.plot_error(energy_bounds, alpha=0.2, color='deepskyblue')\n",
    "flux_points.plot(sed_type='dnde', color='k', markersize=5)\n",
    "\n",
    "plt.xlabel('Energy [TeV]', fontsize=12)\n",
    "plt.title('BL Lacertae 2016 gamma flare spectrum', fontsize=16)\n",
    "plt.grid()\n",
    "\n",
    "plt.show()"
   ]
  },
  {
   "cell_type": "code",
   "execution_count": null,
   "id": "6135907d",
   "metadata": {},
   "outputs": [],
   "source": []
  },
  {
   "cell_type": "code",
   "execution_count": 40,
   "id": "5e28f938",
   "metadata": {},
   "outputs": [
    {
     "data": {
      "text/html": [
       "<i>Table length=4</i>\n",
       "<table id=\"table140682015636112-478900\" class=\"table-striped table-bordered table-condensed\">\n",
       "<thead><tr><th>idx</th><th>e_ref</th><th>e_min</th><th>e_max</th><th>dnde</th><th>dnde_err</th><th>dnde_errp</th><th>dnde_errn</th><th>dnde_ul</th><th>ts</th><th>sqrt_ts</th><th>npred [6]</th><th>npred_excess [6]</th><th>stat</th><th>is_ul</th><th>counts [6]</th><th>success</th><th>norm_scan [11]</th><th>stat_scan [11]</th></tr></thead>\n",
       "<thead><tr><th></th><th>TeV</th><th>TeV</th><th>TeV</th><th>1 / (m2 s TeV)</th><th>1 / (m2 s TeV)</th><th>1 / (m2 s TeV)</th><th>1 / (m2 s TeV)</th><th>1 / (m2 s TeV)</th><th></th><th></th><th></th><th></th><th></th><th></th><th></th><th></th><th></th><th></th></tr></thead>\n",
       "<tr><td>0</td><td>0.39310548279174495</td><td>0.31291346445318985</td><td>0.49384874144349267</td><td>4.5174850561087975e-06</td><td>8.923322078949301e-07</td><td>9.526063099695825e-07</td><td>8.359216655278775e-07</td><td>6.5497823624754715e-06</td><td>130.98896676602186</td><td>11.44504114304627</td><td>8.932585793188663 .. 0.0</td><td>8.808396 .. 0.0</td><td>0.1921669172072562</td><td>False</td><td>8.0 .. 0.0</td><td>True</td><td>0.2 .. 4.999999999999999</td><td>39.68602589887588 .. 130.234473215812</td></tr>\n",
       "<tr><td>1</td><td>0.6204100174164326</td><td>0.49384874144349267</td><td>0.779405833020029</td><td>8.634463700766399e-07</td><td>9.31475217475468e-08</td><td>9.656704965717296e-08</td><td>8.9909940285132e-08</td><td>1.0639806223926884e-06</td><td>434.5899716339501</td><td>20.84682161946876</td><td>16.184961521285757 .. 6.781219106324946</td><td>16.12404 .. 6.781219</td><td>17.239659875014524</td><td>False</td><td>13.0 .. 1.0</td><td>True</td><td>0.2 .. 4.999999999999999</td><td>157.5411990491541 .. 412.09566645736714</td></tr>\n",
       "<tr><td>2</td><td>0.9791483623609769</td><td>0.779405833020029</td><td>1.230079985159087</td><td>1.2612570199765e-07</td><td>2.0119539702602328e-08</td><td>2.1215141696103717e-08</td><td>1.9093751298568588e-08</td><td>1.7088965904279742e-07</td><td>173.6015212197337</td><td>13.175793001551508</td><td>6.19718803497336 .. 7.632641300353759</td><td>6.135629 .. 7.5738177</td><td>32.09048137262292</td><td>False</td><td>4.0 .. 0.0</td><td>True</td><td>0.2 .. 4.999999999999999</td><td>92.53152794292569 .. 231.4599509170401</td></tr>\n",
       "<tr><td>3</td><td>1.5453192060093084</td><td>1.230079985159087</td><td>1.9413464793123973</td><td>1.6097563114462453e-08</td><td>4.943668024366862e-09</td><td>5.426731590838168e-09</td><td>4.484496653643236e-09</td><td>2.795910096091675e-08</td><td>36.300251004935646</td><td>6.024968962985257</td><td>1.7990450114459682 .. 2.3953822441955297</td><td>1.733962 .. 2.2043996</td><td>11.044500327106965</td><td>False</td><td>3.0 .. 3.0</td><td>True</td><td>0.2 .. 4.999999999999999</td><td>25.021843733942895 .. 71.06542773457964</td></tr>\n",
       "</table><style>table.dataTable {clear: both; width: auto !important; margin: 0 !important;}\n",
       ".dataTables_info, .dataTables_length, .dataTables_filter, .dataTables_paginate{\n",
       "display: inline-block; margin-right: 1em; }\n",
       ".paginate_button { margin-right: 5px; }\n",
       "</style>\n",
       "<script>\n",
       "\n",
       "var astropy_sort_num = function(a, b) {\n",
       "    var a_num = parseFloat(a);\n",
       "    var b_num = parseFloat(b);\n",
       "\n",
       "    if (isNaN(a_num) && isNaN(b_num))\n",
       "        return ((a < b) ? -1 : ((a > b) ? 1 : 0));\n",
       "    else if (!isNaN(a_num) && !isNaN(b_num))\n",
       "        return ((a_num < b_num) ? -1 : ((a_num > b_num) ? 1 : 0));\n",
       "    else\n",
       "        return isNaN(a_num) ? -1 : 1;\n",
       "}\n",
       "\n",
       "require.config({paths: {\n",
       "    datatables: 'https://cdn.datatables.net/1.10.12/js/jquery.dataTables.min'\n",
       "}});\n",
       "require([\"datatables\"], function(){\n",
       "    console.log(\"$('#table140682015636112-478900').dataTable()\");\n",
       "    \n",
       "jQuery.extend( jQuery.fn.dataTableExt.oSort, {\n",
       "    \"optionalnum-asc\": astropy_sort_num,\n",
       "    \"optionalnum-desc\": function (a,b) { return -astropy_sort_num(a, b); }\n",
       "});\n",
       "\n",
       "    $('#table140682015636112-478900').dataTable({\n",
       "        order: [],\n",
       "        pageLength: 50,\n",
       "        lengthMenu: [[10, 25, 50, 100, 500, 1000, -1], [10, 25, 50, 100, 500, 1000, 'All']],\n",
       "        pagingType: \"full_numbers\",\n",
       "        columnDefs: [{targets: [0, 1, 2, 3, 4, 5, 6, 7, 8, 9, 10, 11, 12, 13, 15, 17, 18], type: \"optionalnum\"}]\n",
       "    });\n",
       "});\n",
       "</script>\n"
      ],
      "text/plain": [
       "<IPython.core.display.HTML object>"
      ]
     },
     "execution_count": 40,
     "metadata": {},
     "output_type": "execute_result"
    }
   ],
   "source": [
    "gammapy_flux = flux_points.to_table(sed_type='dnde')\n",
    "gammapy_flux.show_in_notebook()"
   ]
  },
  {
   "cell_type": "code",
   "execution_count": null,
   "id": "22959da0",
   "metadata": {},
   "outputs": [],
   "source": []
  },
  {
   "cell_type": "code",
   "execution_count": 41,
   "id": "de4579e6",
   "metadata": {},
   "outputs": [
    {
     "name": "stdout",
     "output_type": "stream",
     "text": [
      "0.1941862295959071 0\n"
     ]
    }
   ],
   "source": [
    "chi_sq, dof = reduced_chi_sq(gammapy_flux['dnde'], spectral_model(gammapy_flux['e_ref']), gammapy_flux['dnde_err'], 4)\n",
    "print(chi_sq, dof)"
   ]
  },
  {
   "cell_type": "code",
   "execution_count": null,
   "id": "af1be60b",
   "metadata": {},
   "outputs": [],
   "source": []
  },
  {
   "cell_type": "code",
   "execution_count": 42,
   "id": "a13a7235",
   "metadata": {},
   "outputs": [],
   "source": [
    "hdul = fits.open('BL_Lacertae/bl_combine.fits')\n",
    "ste_spectrum = Table.read(hdul[1])\n",
    "ste_model = Table.read(hdul[2])"
   ]
  },
  {
   "cell_type": "code",
   "execution_count": 43,
   "id": "89c6ee4c",
   "metadata": {},
   "outputs": [
    {
     "data": {
      "text/html": [
       "<div><i>Table length=5</i>\n",
       "<table id=\"table140682005611232\" class=\"table-striped table-bordered table-condensed\">\n",
       "<thead><tr><th>E</th><th>dNdE</th><th>dNdE_errl</th><th>dNdE_erru</th><th>dNdE_ul</th><th>Hz</th><th>nuFnu</th><th>nuFnu_errl</th><th>nuFnu_erru</th><th>nuFnu_ul</th><th>Sigma</th></tr></thead>\n",
       "<thead><tr><th>TeV</th><th>1 / (cm2 s TeV)</th><th>1 / (cm2 s TeV)</th><th>1 / (cm2 s TeV)</th><th>1 / (cm2 s TeV)</th><th>Hz</th><th>erg / (cm2 s)</th><th>erg / (cm2 s)</th><th>erg / (cm2 s)</th><th>erg / (cm2 s)</th><th></th></tr></thead>\n",
       "<thead><tr><th>float64</th><th>float64</th><th>float64</th><th>float64</th><th>float64</th><th>float64</th><th>float64</th><th>float64</th><th>float64</th><th>float64</th><th>float64</th></tr></thead>\n",
       "<tr><td>0.39810717055349704</td><td>2.594568396658546e-10</td><td>1.7531998788451783e-11</td><td>1.8328744267171375e-11</td><td>0.0</td><td>9.626188555952215e+25</td><td>6.588332629467718e-11</td><td>4.451863355250235e-12</td><td>4.654179248775704e-12</td><td>0.0</td><td>0.0</td></tr>\n",
       "<tr><td>0.6309573444801928</td><td>6.225869491350621e-11</td><td>5.176365952855205e-12</td><td>5.47399791560092e-12</td><td>0.0</td><td>1.5256480711675739e+26</td><td>3.9710961850216795e-11</td><td>3.3016829402249626e-12</td><td>3.4915239180099986e-12</td><td>0.0</td><td>0.0</td></tr>\n",
       "<tr><td>0.9999999999999992</td><td>1.2755113059947644e-11</td><td>1.6137508116126233e-12</td><td>1.7578911604462704e-12</td><td>0.0</td><td>2.417989242084916e+26</td><td>2.043594410867632e-11</td><td>2.5855138434642765e-12</td><td>2.8164521423821543e-12</td><td>0.0</td><td>0.0</td></tr>\n",
       "<tr><td>1.584893192461112</td><td>1.7159468830440653e-12</td><td>4.112787859663585e-13</td><td>4.882137739821135e-13</td><td>0.0</td><td>3.83225468922459e+26</td><td>6.905803774837774e-12</td><td>1.655185612504906e-12</td><td>1.9648093752834976e-12</td><td>0.0</td><td>0.0</td></tr>\n",
       "<tr><td>2.5118864315095766</td><td>0.0</td><td>0.0</td><td>0.0</td><td>5.61924080180172e-13</td><td>6.0737143687292305e+26</td><td>0.0</td><td>0.0</td><td>0.0</td><td>5.680519265456438e-12</td><td>0.0</td></tr>\n",
       "</table></div>"
      ],
      "text/plain": [
       "<Table length=5>\n",
       "         E                   dNdE          ...        nuFnu_ul        Sigma \n",
       "        TeV            1 / (cm2 s TeV)     ...     erg / (cm2 s)            \n",
       "      float64              float64         ...        float64        float64\n",
       "------------------- ---------------------- ... --------------------- -------\n",
       "0.39810717055349704  2.594568396658546e-10 ...                   0.0     0.0\n",
       " 0.6309573444801928  6.225869491350621e-11 ...                   0.0     0.0\n",
       " 0.9999999999999992 1.2755113059947644e-11 ...                   0.0     0.0\n",
       "  1.584893192461112 1.7159468830440653e-12 ...                   0.0     0.0\n",
       " 2.5118864315095766                    0.0 ... 5.680519265456438e-12     0.0"
      ]
     },
     "execution_count": 43,
     "metadata": {},
     "output_type": "execute_result"
    }
   ],
   "source": [
    "ste_spectrum"
   ]
  },
  {
   "cell_type": "code",
   "execution_count": null,
   "id": "eb1e0cce",
   "metadata": {},
   "outputs": [],
   "source": []
  },
  {
   "cell_type": "code",
   "execution_count": 44,
   "id": "7c723f51",
   "metadata": {},
   "outputs": [
    {
     "data": {
      "text/html": [
       "<div><i>Table length=6</i>\n",
       "<table id=\"table140682012382448\" class=\"table-striped table-bordered table-condensed\">\n",
       "<thead><tr><th>e_ref</th><th>e_min</th><th>e_max</th><th>e2dnde</th><th>e2dnde_err</th></tr></thead>\n",
       "<thead><tr><th>TeV</th><th>TeV</th><th>TeV</th><th>erg / (cm2 s)</th><th>erg / (cm2 s)</th></tr></thead>\n",
       "<thead><tr><th>float32</th><th>float32</th><th>float32</th><th>float32</th><th>float32</th></tr></thead>\n",
       "<tr><td>0.1567</td><td>0.1259</td><td>0.1995</td><td>1.491028e-10</td><td>6.01919e-12</td></tr>\n",
       "<tr><td>0.2484</td><td>0.1995</td><td>0.3162</td><td>1.285154e-10</td><td>4.666097e-12</td></tr>\n",
       "<tr><td>0.3937</td><td>0.3162</td><td>0.5012</td><td>6.878903e-11</td><td>3.625703e-12</td></tr>\n",
       "<tr><td>0.6239</td><td>0.5012</td><td>0.7943</td><td>3.467475e-11</td><td>2.875011e-12</td></tr>\n",
       "<tr><td>0.9888</td><td>0.7943</td><td>1.2589</td><td>8.41201e-12</td><td>1.78579e-12</td></tr>\n",
       "<tr><td>1.567</td><td>1.2589</td><td>1.9953</td><td>2.915176e-12</td><td>1.510699e-12</td></tr>\n",
       "</table></div>"
      ],
      "text/plain": [
       "<Table length=6>\n",
       " e_ref   e_min   e_max      e2dnde      e2dnde_err \n",
       "  TeV     TeV     TeV   erg / (cm2 s) erg / (cm2 s)\n",
       "float32 float32 float32    float32       float32   \n",
       "------- ------- ------- ------------- -------------\n",
       " 0.1567  0.1259  0.1995  1.491028e-10   6.01919e-12\n",
       " 0.2484  0.1995  0.3162  1.285154e-10  4.666097e-12\n",
       " 0.3937  0.3162  0.5012  6.878903e-11  3.625703e-12\n",
       " 0.6239  0.5012  0.7943  3.467475e-11  2.875011e-12\n",
       " 0.9888  0.7943  1.2589   8.41201e-12   1.78579e-12\n",
       "  1.567  1.2589  1.9953  2.915176e-12  1.510699e-12"
      ]
     },
     "execution_count": 44,
     "metadata": {},
     "output_type": "execute_result"
    }
   ],
   "source": [
    "paper = Table.read('BL_Lacertae/VER-000148-sed-1.ecsv', format='ascii.ecsv')\n",
    "paper"
   ]
  },
  {
   "cell_type": "code",
   "execution_count": null,
   "id": "3ad62cef",
   "metadata": {},
   "outputs": [],
   "source": []
  },
  {
   "cell_type": "code",
   "execution_count": 45,
   "id": "562b5109",
   "metadata": {},
   "outputs": [],
   "source": [
    "exponents = np.log10(paper['e_min']) + np.log10(paper['e_max'])\n",
    "E_mean_sq = 10 ** exponents * (u.TeV.to(u.erg)) ** 2 "
   ]
  },
  {
   "cell_type": "code",
   "execution_count": null,
   "id": "3163759d",
   "metadata": {},
   "outputs": [],
   "source": []
  },
  {
   "cell_type": "code",
   "execution_count": null,
   "id": "aad0d4a7",
   "metadata": {},
   "outputs": [],
   "source": []
  },
  {
   "cell_type": "code",
   "execution_count": 46,
   "id": "bf8571d3",
   "metadata": {},
   "outputs": [
    {
     "data": {
      "image/png": "[encoded data removed]",
      "text/plain": [
       "<Figure size 1080x576 with 1 Axes>"
      ]
     },
     "metadata": {
      "needs_background": "light"
     },
     "output_type": "display_data"
    }
   ],
   "source": [
    "fig, ax = plt.subplots(figsize=(15, 8))\n",
    "\n",
    "plt.errorbar(paper['e_ref'], paper['e2dnde'] / E_mean_sq, yerr=paper['e2dnde_err'] / E_mean_sq, \n",
    "             color='orangered', ls='', marker='o', label='Paper')\n",
    "\n",
    "plt.errorbar(ste_spectrum['E'], ste_spectrum['dNdE'], yerr=(ste_spectrum['dNdE_errl'], ste_spectrum['dNdE_erru']),\n",
    "             color='forestgreen', ls='', marker='o', label='Ste\\'s analysis')\n",
    "\n",
    "flux_points.plot(ax=ax, sed_type=\"dnde\", color=\"k\", label='Gammapy')\n",
    "\n",
    "energy_bounds = [0.1, 10] * u.TeV\n",
    "\n",
    "spectral_model.plot(energy_bounds, sed_type='dnde', label='Log Parabola Fit')\n",
    "spectral_model.plot_error(energy_bounds, sed_type='dnde', alpha=0.2)\n",
    "\n",
    "ax.set_xscale('log')\n",
    "ax.grid(which='minor')\n",
    "ax.grid(which='major')\n",
    "ax.legend()\n",
    "\n",
    "ax.set_xlim(0.1, 3)\n",
    "ax.set_ylim(1e-14,1e-7)\n",
    "\n",
    "plt.title('BL Lacertae 2016 gamma flare spectrum', fontsize=16)\n",
    "\n",
    "plt.show()"
   ]
  },
  {
   "cell_type": "code",
   "execution_count": 47,
   "id": "fc4d6356",
   "metadata": {},
   "outputs": [
    {
     "data": {
      "image/png": "[encoded data removed]",
      "text/plain": [
       "<Figure size 1080x576 with 1 Axes>"
      ]
     },
     "metadata": {
      "needs_background": "light"
     },
     "output_type": "display_data"
    }
   ],
   "source": [
    "A1 = 2.22e-5\n",
    "A2 = 2.36e-5\n",
    " \n",
    "ref = 0.2\n",
    "\n",
    "alpha1 = 2.4\n",
    "alpha2 = 2.2\n",
    "\n",
    "beta1 = 1.8\n",
    "beta2 = 1.4\n",
    "\n",
    "def logparab(E, A, ref, alpha, beta):\n",
    "    return A * (E / ref) ** (-alpha - beta * np.log10((E / ref)))\n",
    "    \n",
    "\n",
    "energies = np.linspace(0.1, 3, 100000)\n",
    "\n",
    "e2fluxes1 = logparab(energies, A1, ref, alpha1, beta1) * energies ** 2\n",
    "e2fluxes2 = logparab(energies, A2, ref, alpha2, beta2) * energies ** 2\n",
    "    \n",
    "    \n",
    "plt.figure(figsize=(15, 8))\n",
    "\n",
    "plt.plot(energies, \n",
    "         logparab(energies, A1, ref, alpha1, beta1) * (u.m ** -2).to(u.cm ** -2), \n",
    "         lw=5, c='k', alpha=0.7, label='model observed')\n",
    "\n",
    "plt.plot(energies, \n",
    "         logparab(energies, A2, ref, alpha2, beta2) * (u.m ** -2).to(u.cm ** -2), \n",
    "         lw=5, c='royalblue', alpha=0.7, label='model de-absorbed')\n",
    "\n",
    "plt.errorbar(paper['e_ref'], paper['e2dnde'] / E_mean_sq, yerr=paper['e2dnde_err'] / E_mean_sq, \n",
    "             color='orangered', ls='', marker='o', label='Paper')\n",
    "\n",
    "plt.legend()\n",
    "\n",
    "plt.xscale('log')\n",
    "plt.xlabel(r'$E$ [TeV]', fontsize=15)\n",
    "\n",
    "plt.yscale('log')\n",
    "plt.ylabel(r'$dN/dE$ [cm$^{-2}$ s$^{-1}$ TeV$^{-1}$]', fontsize=15)\n",
    "\n",
    "plt.grid()\n",
    "plt.show()"
   ]
  },
  {
   "cell_type": "code",
   "execution_count": null,
   "id": "67d62443",
   "metadata": {},
   "outputs": [],
   "source": []
  },
  {
   "cell_type": "code",
   "execution_count": null,
   "id": "e1bfd2bb",
   "metadata": {},
   "outputs": [],
   "source": []
  },
  {
   "cell_type": "code",
   "execution_count": null,
   "id": "22086f7a",
   "metadata": {},
   "outputs": [],
   "source": []
  },
  {
   "cell_type": "code",
   "execution_count": null,
   "id": "50085326",
   "metadata": {},
   "outputs": [],
   "source": []
  },
  {
   "cell_type": "code",
   "execution_count": null,
   "id": "1e08f5b4",
   "metadata": {},
   "outputs": [],
   "source": []
  },
  {
   "cell_type": "code",
   "execution_count": null,
   "id": "a589b2a1",
   "metadata": {},
   "outputs": [],
   "source": []
  },
  {
   "cell_type": "code",
   "execution_count": null,
   "id": "ff1b63b5",
   "metadata": {},
   "outputs": [],
   "source": []
  },
  {
   "cell_type": "code",
   "execution_count": 99,
   "id": "b830ada1",
   "metadata": {},
   "outputs": [
    {
     "name": "stdout",
     "output_type": "stream",
     "text": [
      "2016-10-05 03:57:36.000\n"
     ]
    }
   ],
   "source": [
    "start_mjd = Time(57666.165, format='mjd')\n",
    "print(start_mjd.iso)"
   ]
  },
  {
   "cell_type": "code",
   "execution_count": 173,
   "id": "8aeb3eca",
   "metadata": {},
   "outputs": [],
   "source": [
    "t0 = Time('2016-10-05T03:57:36.000')\n",
    "\n",
    "duration = 4 * u.min\n",
    "n_time_bins = 46\n",
    "times = t0 + np.arange(n_time_bins) * duration\n",
    "time_intervals = [Time([tstart, tstop]) for tstart, tstop in zip(times[:-1], times[1:])]"
   ]
  },
  {
   "cell_type": "code",
   "execution_count": 174,
   "id": "65eb5444",
   "metadata": {},
   "outputs": [
    {
     "name": "stdout",
     "output_type": "stream",
     "text": [
      "Number of observations after time filtering: 50\n",
      "\n",
      "GTI info:\n",
      "- Number of GTIs: 1\n",
      "- Duration: 240.0 s\n",
      "- Start: 368424100.0 s MET\n",
      "- Start: 2016-10-05T04:01:36.000 (time standard: UTC)\n",
      "- Stop: 368424340.0 s MET\n",
      "- Stop: 2016-10-05T04:05:36.000 (time standard: UTC)\n",
      "\n"
     ]
    }
   ],
   "source": [
    "short_observations = observations.select_time(time_intervals)\n",
    "\n",
    "print(f\"Number of observations after time filtering: {len(short_observations)}\\n\")\n",
    "print(short_observations[1].gti)"
   ]
  },
  {
   "cell_type": "code",
   "execution_count": null,
   "id": "625afdf4",
   "metadata": {},
   "outputs": [],
   "source": []
  },
  {
   "cell_type": "code",
   "execution_count": 175,
   "id": "13892d72",
   "metadata": {},
   "outputs": [],
   "source": [
    "#redo?\n",
    "\n",
    "dataset_maker = SpectrumDatasetMaker(containment_correction=False, selection=[\"counts\", \"exposure\", \"edisp\"])\n",
    "bkg_maker = ReflectedRegionsBackgroundMaker()\n",
    "safe_mask_masker = SafeMaskMaker(methods=[\"aeff-max\"], aeff_percent=10)\n",
    "\n",
    "datasets = Datasets()\n",
    "\n",
    "dataset_empty = SpectrumDataset.create(geom=geom, energy_axis_true=energy_axis_true)\n",
    "\n",
    "for obs in short_observations:\n",
    "    dataset = dataset_maker.run(dataset_empty.copy(), obs)\n",
    "    dataset_on_off = bkg_maker.run(dataset, obs)\n",
    "    dataset_on_off = safe_mask_masker.run(dataset_on_off, obs)\n",
    "    datasets.append(dataset_on_off)"
   ]
  },
  {
   "cell_type": "code",
   "execution_count": 176,
   "id": "2bd063f7",
   "metadata": {},
   "outputs": [],
   "source": [
    "spectral_model = PowerLawSpectralModel(index=2.6, amplitude=4.64e-12 / u.cm ** 2 / u.s / u.TeV)\n",
    "spectral_model.parameters.frozen = False\n",
    "\n",
    "sky_model = SkyModel(spatial_model=None, spectral_model=spectral_model, name=\"BL Lacertae\")"
   ]
  },
  {
   "cell_type": "code",
   "execution_count": null,
   "id": "792c3012",
   "metadata": {},
   "outputs": [],
   "source": []
  },
  {
   "cell_type": "code",
   "execution_count": 177,
   "id": "4031949f",
   "metadata": {},
   "outputs": [],
   "source": [
    "datasets.models = sky_model"
   ]
  },
  {
   "cell_type": "code",
   "execution_count": 178,
   "id": "4a1aa5a8",
   "metadata": {},
   "outputs": [],
   "source": [
    "lc_maker_1d = LightCurveEstimator(energy_edges=[0.1, 10] * u.TeV, source=0, \n",
    "                                  time_intervals=time_intervals, selection_optional=None)"
   ]
  },
  {
   "cell_type": "code",
   "execution_count": 179,
   "id": "54d148ba",
   "metadata": {},
   "outputs": [],
   "source": [
    "lc_1d = lc_maker_1d.run(datasets)"
   ]
  },
  {
   "cell_type": "code",
   "execution_count": null,
   "id": "aeeed4fa",
   "metadata": {},
   "outputs": [],
   "source": []
  },
  {
   "cell_type": "code",
   "execution_count": 180,
   "id": "6b1882dc",
   "metadata": {},
   "outputs": [],
   "source": [
    "header=\"\"\"# %ECSV 1.0\n",
    "# ---\n",
    "# datatype:\n",
    "# - {name: time_min, datatype: float64}\n",
    "# - {name: time_max, datatype: float64}\n",
    "# - {name: e_ref, unit: TeV, datatype: string, subtype: 'float64[1]'}\n",
    "# - {name: e_min, unit: TeV, datatype: string, subtype: 'float64[1]'}\n",
    "# - {name: e_max, unit: TeV, datatype: string, subtype: 'float64[1]'}\n",
    "# - {name: flux, unit: 1 / (m2 s), datatype: string, subtype: 'float64[1]'}\n",
    "# - {name: flux_err, unit: 1 / (m2 s), datatype: string, subtype: 'float64[1]'}\n",
    "# - {name: ts, unit: '', datatype: string, subtype: 'float64[1]'}\n",
    "# - {name: sqrt_ts, unit: '', datatype: string, subtype: 'float64[1]'}\n",
    "# - {name: npred, unit: '', datatype: string, subtype: 'float64[1,44]'}\n",
    "# - {name: npred_excess, unit: '', datatype: string, subtype: 'float64[1,44]'}\n",
    "# - {name: stat, unit: '', datatype: string, subtype: 'float64[1]'}\n",
    "# - {name: is_ul, datatype: string, subtype: 'bool[1]'}\n",
    "# - {name: counts, unit: '', datatype: string, subtype: 'float64[1,44]'}\n",
    "# - {name: success, unit: '', datatype: string, subtype: 'bool[1]'}\n",
    "# schema: astropy-2.0\n",
    "time_min time_max e_ref e_min e_max flux flux_err ts sqrt_ts npred npred_excess stat is_ul counts success\"\"\"\n",
    "\n",
    "with open(\"temptest.ecsv\", \"w\") as myfile:\n",
    "    myfile.write(header)"
   ]
  },
  {
   "cell_type": "code",
   "execution_count": null,
   "id": "92eee20f",
   "metadata": {},
   "outputs": [],
   "source": []
  },
  {
   "cell_type": "code",
   "execution_count": 181,
   "id": "cdf2835b",
   "metadata": {},
   "outputs": [],
   "source": [
    "imp_tab = Table.read('BL_Lacertae/VER-000148-lc-1.ecsv', format='ascii.ecsv')"
   ]
  },
  {
   "cell_type": "code",
   "execution_count": 182,
   "id": "b9a863cc",
   "metadata": {},
   "outputs": [
    {
     "data": {
      "text/html": [
       "<div><i>Table length=46</i>\n",
       "<table id=\"table140681750087712\" class=\"table-striped table-bordered table-condensed\">\n",
       "<thead><tr><th>e_min</th><th>time</th><th>flux</th><th>flux_err</th><th>live_time</th></tr></thead>\n",
       "<thead><tr><th>TeV</th><th>MJD</th><th>1 / (m2 s)</th><th>1 / (m2 s)</th><th>s</th></tr></thead>\n",
       "<thead><tr><th>float64</th><th>float64</th><th>float64</th><th>float64</th><th>float64</th></tr></thead>\n",
       "<tr><td>0.2</td><td>57666.16512883</td><td>2.066401349209e-06</td><td>3.977646067535e-07</td><td>205.5610568</td></tr>\n",
       "<tr><td>0.2</td><td>57666.16790661</td><td>6.277083521201e-07</td><td>2.506630695002e-07</td><td>203.7551391</td></tr>\n",
       "<tr><td>0.2</td><td>57666.17068439</td><td>1.661787379172e-06</td><td>3.761323190921e-07</td><td>202.3007885</td></tr>\n",
       "<tr><td>0.2</td><td>57666.17346217</td><td>1.908301901719e-06</td><td>3.916051209587e-07</td><td>202.6086559</td></tr>\n",
       "<tr><td>0.2</td><td>57666.17623994</td><td>1.441257359224e-06</td><td>3.429916705453e-07</td><td>202.1973822</td></tr>\n",
       "<tr><td>0.2</td><td>57666.17901772</td><td>1.22214372509e-06</td><td>3.287038174212e-07</td><td>202.6614211</td></tr>\n",
       "<tr><td>...</td><td>...</td><td>...</td><td>...</td><td>...</td></tr>\n",
       "<tr><td>0.2</td><td>57666.27623994</td><td>1.404628507373e-06</td><td>3.549020972938e-07</td><td>203.6483376</td></tr>\n",
       "<tr><td>0.2</td><td>57666.27901772</td><td>1.300634014914e-06</td><td>3.528318206875e-07</td><td>203.6411188</td></tr>\n",
       "<tr><td>0.2</td><td>57666.2817955</td><td>1.311725721993e-06</td><td>3.63081543328e-07</td><td>203.8739823</td></tr>\n",
       "<tr><td>0.2</td><td>57666.28457328</td><td>1.248050014447e-06</td><td>3.326871474284e-07</td><td>204.0738524</td></tr>\n",
       "<tr><td>0.2</td><td>57666.28735106</td><td>1.247354398e-06</td><td>3.644861356623e-07</td><td>204.0578907</td></tr>\n",
       "<tr><td>0.2</td><td>57666.29012883</td><td>1.105420407372e-06</td><td>3.767420005654e-07</td><td>150.9168101</td></tr>\n",
       "</table></div>"
      ],
      "text/plain": [
       "<Table length=46>\n",
       " e_min       time             flux             flux_err       live_time \n",
       "  TeV        MJD           1 / (m2 s)         1 / (m2 s)          s     \n",
       "float64    float64          float64            float64         float64  \n",
       "------- -------------- ------------------ ------------------ -----------\n",
       "    0.2 57666.16512883 2.066401349209e-06 3.977646067535e-07 205.5610568\n",
       "    0.2 57666.16790661 6.277083521201e-07 2.506630695002e-07 203.7551391\n",
       "    0.2 57666.17068439 1.661787379172e-06 3.761323190921e-07 202.3007885\n",
       "    0.2 57666.17346217 1.908301901719e-06 3.916051209587e-07 202.6086559\n",
       "    0.2 57666.17623994 1.441257359224e-06 3.429916705453e-07 202.1973822\n",
       "    0.2 57666.17901772  1.22214372509e-06 3.287038174212e-07 202.6614211\n",
       "    ...            ...                ...                ...         ...\n",
       "    0.2 57666.27623994 1.404628507373e-06 3.549020972938e-07 203.6483376\n",
       "    0.2 57666.27901772 1.300634014914e-06 3.528318206875e-07 203.6411188\n",
       "    0.2  57666.2817955 1.311725721993e-06  3.63081543328e-07 203.8739823\n",
       "    0.2 57666.28457328 1.248050014447e-06 3.326871474284e-07 204.0738524\n",
       "    0.2 57666.28735106    1.247354398e-06 3.644861356623e-07 204.0578907\n",
       "    0.2 57666.29012883 1.105420407372e-06 3.767420005654e-07 150.9168101"
      ]
     },
     "execution_count": 182,
     "metadata": {},
     "output_type": "execute_result"
    }
   ],
   "source": [
    "imp_tab"
   ]
  },
  {
   "cell_type": "code",
   "execution_count": null,
   "id": "3de91b9a",
   "metadata": {},
   "outputs": [],
   "source": []
  },
  {
   "cell_type": "code",
   "execution_count": null,
   "id": "9694c291",
   "metadata": {},
   "outputs": [],
   "source": []
  },
  {
   "cell_type": "code",
   "execution_count": 183,
   "id": "f7685bed",
   "metadata": {},
   "outputs": [],
   "source": [
    "# imp_tab[\"e_max\"] = imp_tab[\"e_cut\"]\n",
    "# imp_tab[\"e_ref\"] = np.exp(np.log(imp_tab[\"e_min\"]) + np.log(imp_tab[\"e_max\"]) / 2)\n",
    "\n",
    "# imp_tab[\"time_min\"] = imp_tab[\"e_cut\"]\n",
    "# imp_tab[\"time_max\"] = imp_tab[\"time\"] + (imp_tab[\"time_bin\"] / 2.01)\n",
    "# imp_tab[\"time_min\"] = imp_tab[\"time\"] - (imp_tab[\"time_bin\"] / 2.01)\n",
    "\n",
    "# extend = '[[NaN,NaN,NaN,NaN,NaN,NaN,NaN,NaN,NaN,NaN,NaN,NaN,NaN,NaN,NaN,NaN,NaN,NaN,' \\\n",
    "# + 'NaN,NaN,NaN,NaN,NaN,NaN,NaN,NaN,NaN,NaN,NaN,NaN,NaN,NaN,NaN,NaN,NaN,NaN,NaN,NaN,NaN,NaN,NaN,NaN,NaN,NaN]] ' \\\n",
    "# + '[[NaN,NaN,NaN,NaN,NaN,NaN,NaN,NaN,NaN,NaN,NaN,NaN,NaN,NaN,NaN,NaN,NaN,NaN,NaN,NaN,NaN,NaN,NaN,NaN,NaN,NaN,' \\\n",
    "# + 'NaN,NaN,NaN,NaN,NaN,NaN,NaN,NaN,NaN,NaN,NaN,NaN,NaN,NaN,NaN,NaN,NaN,NaN]] [0.0] [false] ' \\\n",
    "# + '[[NaN,NaN,NaN,NaN,NaN,NaN,NaN,NaN,NaN,NaN,NaN,NaN,NaN,NaN,NaN,NaN,NaN,NaN,NaN,NaN,NaN,NaN,NaN,NaN,NaN,NaN,' \\\n",
    "# + 'NaN,NaN,NaN,NaN,NaN,NaN,NaN,NaN,NaN,NaN,NaN,NaN,NaN,NaN,NaN,NaN,NaN,NaN]] [true]'\n",
    "\n",
    "# for i in range(len(imp_tab)):\n",
    "\n",
    "#     with open(\"temptest.ecsv\", \"a\") as myfile:\n",
    "#         myfile.write(f'\\n{imp_tab[i][\"time_min\"]} {imp_tab[i][\"time_max\"]} [{imp_tab[i][\"e_ref\"]}] ' \\\n",
    "#                      + f'[{imp_tab[i][\"e_min\"]}] [{imp_tab[i][\"e_max\"]}] [{imp_tab[i][\"flux\"]}] ' \\\n",
    "#                      + f'[{imp_tab[i][\"flux_err\"]}] [0] [0] {extend}')\n",
    "\n",
    "# lc_test=FluxPoints.read('temptest.ecsv', reference_model=spectral_model, sed_type='flux', format='lightcurve')"
   ]
  },
  {
   "cell_type": "code",
   "execution_count": null,
   "id": "b4cff5ed",
   "metadata": {},
   "outputs": [],
   "source": []
  },
  {
   "cell_type": "code",
   "execution_count": 184,
   "id": "bb616433",
   "metadata": {},
   "outputs": [],
   "source": [
    "haha = Time(imp_tab['time'][0], format='mjd')\n",
    "hoho = Time(imp_tab['time'][-1], format='mjd')"
   ]
  },
  {
   "cell_type": "code",
   "execution_count": 185,
   "id": "9b1de3e5",
   "metadata": {},
   "outputs": [
    {
     "name": "stdout",
     "output_type": "stream",
     "text": [
      "0.125\n"
     ]
    }
   ],
   "source": [
    "print(hoho-haha)"
   ]
  },
  {
   "cell_type": "code",
   "execution_count": 186,
   "id": "71c4d108",
   "metadata": {},
   "outputs": [
    {
     "data": {
      "text/plain": [
       "180.0"
      ]
     },
     "execution_count": 186,
     "metadata": {},
     "output_type": "execute_result"
    }
   ],
   "source": [
    "0.125 * u.day.to(u.min)"
   ]
  },
  {
   "cell_type": "code",
   "execution_count": 187,
   "id": "066eb856",
   "metadata": {},
   "outputs": [
    {
     "name": "stdout",
     "output_type": "stream",
     "text": [
      "2016-10-05 03:57:47.130912\n"
     ]
    }
   ],
   "source": [
    "print(haha.to_datetime())"
   ]
  },
  {
   "cell_type": "code",
   "execution_count": null,
   "id": "6e8d1e31",
   "metadata": {},
   "outputs": [],
   "source": []
  },
  {
   "cell_type": "code",
   "execution_count": null,
   "id": "53232242",
   "metadata": {},
   "outputs": [],
   "source": []
  },
  {
   "cell_type": "code",
   "execution_count": null,
   "id": "1bb3898f",
   "metadata": {},
   "outputs": [],
   "source": []
  },
  {
   "cell_type": "code",
   "execution_count": 188,
   "id": "2167548f",
   "metadata": {},
   "outputs": [
    {
     "data": {
      "image/png": "[encoded data removed]",
      "text/plain": [
       "<Figure size 1080x576 with 1 Axes>"
      ]
     },
     "metadata": {
      "needs_background": "light"
     },
     "output_type": "display_data"
    }
   ],
   "source": [
    "plt.figure(figsize=(15, 8))\n",
    "\n",
    "plt.errorbar(imp_tab['time'], imp_tab['flux'], yerr=imp_tab['flux_err'], marker='o', ls='', color='dodgerblue')\n",
    "\n",
    "plt.xlabel('MJD', fontsize=15)\n",
    "plt.xticks(ticks=imp_tab['time'][::6], labels=imp_tab['time'][::6], rotation=30, fontsize=15)\n",
    "\n",
    "plt.ylabel(r'Flux for $E$ > 0.2 TeV  [m$^{-2}$ s$^{-1}$]', fontsize=15)\n",
    "plt.ylim(0, 5.1e-6)\n",
    "\n",
    "plt.title('Lightcurve', fontsize=15)\n",
    "\n",
    "plt.show()"
   ]
  },
  {
   "cell_type": "code",
   "execution_count": null,
   "id": "4ac66bda",
   "metadata": {},
   "outputs": [],
   "source": []
  },
  {
   "cell_type": "code",
   "execution_count": 194,
   "id": "33e91d3b",
   "metadata": {},
   "outputs": [
    {
     "data": {
      "image/png": "[encoded data removed]",
      "text/plain": [
       "<Figure size 1080x576 with 1 Axes>"
      ]
     },
     "metadata": {
      "needs_background": "light"
     },
     "output_type": "display_data"
    }
   ],
   "source": [
    "plt.figure(figsize=(15, 8))\n",
    "\n",
    "lc_1d.plot(marker='o', color='forestgreen', label='Gammapy')\n",
    "# plt.errorbar(imp_tab['time'], imp_tab['flux'], yerr=imp_tab['flux_err'], marker='o', ls='', color='dodgerblue',\n",
    "#              label='Paper')\n",
    "\n",
    "plt.xlabel('MJD', fontsize=15)\n",
    "#plt.xticks(ticks=imp_tab['time'][::6], labels=imp_tab['time'][::6], rotation=30, fontsize=15)\n",
    "\n",
    "plt.ylabel(r'Flux for $E$ > 0.2 TeV  [m$^{-2}$ s$^{-1}$]', fontsize=15)\n",
    "#plt.ylim(0, 5.1e-6)\n",
    "\n",
    "plt.yscale('linear')\n",
    "\n",
    "plt.title('Lightcurve', fontsize=15)\n",
    "\n",
    "plt.show()"
   ]
  },
  {
   "cell_type": "code",
   "execution_count": null,
   "id": "522092c7",
   "metadata": {},
   "outputs": [],
   "source": []
  },
  {
   "cell_type": "code",
   "execution_count": null,
   "id": "6b246e55",
   "metadata": {},
   "outputs": [],
   "source": []
  },
  {
   "cell_type": "code",
   "execution_count": 190,
   "id": "31806892",
   "metadata": {},
   "outputs": [],
   "source": [
    "xwings = []\n",
    "emjaydees = []\n",
    "\n",
    "for i in range(len(times) - 1):\n",
    "    \n",
    "    a = times.mjd[i + 1]\n",
    "    b = times.mjd[i]\n",
    "    \n",
    "    wing = abs(a - b) / 2 \n",
    "    mid = (a + b) / 2\n",
    "    \n",
    "    xwings.append(wing)\n",
    "    emjaydees.append(mid)\n",
    "    \n",
    "xwings = np.array(xwings)\n",
    "emjaydees = np.array(emjaydees)"
   ]
  },
  {
   "cell_type": "code",
   "execution_count": null,
   "id": "8594585e",
   "metadata": {},
   "outputs": [],
   "source": []
  },
  {
   "cell_type": "code",
   "execution_count": 191,
   "id": "937a253d",
   "metadata": {},
   "outputs": [],
   "source": [
    "simplicity = abs(imp_tab['time'][1] - imp_tab['time'][0]) / 2    "
   ]
  },
  {
   "cell_type": "code",
   "execution_count": null,
   "id": "3629d7a6",
   "metadata": {},
   "outputs": [],
   "source": []
  },
  {
   "cell_type": "code",
   "execution_count": 192,
   "id": "51016a54",
   "metadata": {},
   "outputs": [
    {
     "data": {
      "image/png": "[encoded data removed]",
      "text/plain": [
       "<Figure size 1080x576 with 1 Axes>"
      ]
     },
     "metadata": {
      "needs_background": "light"
     },
     "output_type": "display_data"
    }
   ],
   "source": [
    "plt.figure(figsize=(15, 8))\n",
    "\n",
    "plt.errorbar(emjaydees, lc_1d.flux.data[:,0,0,0] * (u.cm ** -2).to(u.m ** -2), \n",
    "             xerr=xwings, yerr=lc_1d.flux_err.data[:,0,0,0] * (u.cm ** -2).to(u.m ** -2),\n",
    "             marker='o', ls='', color='forestgreen', label='Gammapy')\n",
    "plt.errorbar(imp_tab['time'], imp_tab['flux'], \n",
    "             xerr=simplicity, yerr=imp_tab['flux_err'],\n",
    "             marker='o', ls='', color='dodgerblue', label='Paper')\n",
    "\n",
    "plt.xlabel('MJD', fontsize=15)\n",
    "plt.xticks(ticks=imp_tab['time'][::6], labels=imp_tab['time'][::6], rotation=30, fontsize=15)\n",
    "\n",
    "plt.ylabel(r'Flux for $E$ > 0.2 TeV  [m$^{-2}$ s$^{-1}$]', fontsize=15)\n",
    "#plt.ylim(0, 5.1e-6)\n",
    "\n",
    "plt.legend()\n",
    "\n",
    "plt.title('Lightcurve', fontsize=15)\n",
    "\n",
    "plt.show()"
   ]
  },
  {
   "cell_type": "code",
   "execution_count": null,
   "id": "8c1f893b",
   "metadata": {},
   "outputs": [],
   "source": []
  },
  {
   "cell_type": "code",
   "execution_count": null,
   "id": "f9737186",
   "metadata": {},
   "outputs": [],
   "source": []
  },
  {
   "cell_type": "code",
   "execution_count": null,
   "id": "7ceb72ae",
   "metadata": {},
   "outputs": [],
   "source": []
  }
 ],
 "metadata": {
  "kernelspec": {
   "display_name": "Python 3 (ipykernel)",
   "language": "python",
   "name": "python3"
  },
  "language_info": {
   "codemirror_mode": {
    "name": "ipython",
    "version": 3
   },
   "file_extension": ".py",
   "mimetype": "text/x-python",
   "name": "python",
   "nbconvert_exporter": "python",
   "pygments_lexer": "ipython3",
   "version": "3.9.12"
  }
 },
 "nbformat": 4,
 "nbformat_minor": 5
}
