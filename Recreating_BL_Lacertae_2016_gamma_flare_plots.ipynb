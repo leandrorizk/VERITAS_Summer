{
 "cells": [
  {
   "cell_type": "code",
   "execution_count": 43,
   "id": "5117e000",
   "metadata": {},
   "outputs": [],
   "source": [
    "%matplotlib inline"
   ]
  },
  {
   "cell_type": "code",
   "execution_count": 44,
   "id": "3af29c2e",
   "metadata": {},
   "outputs": [],
   "source": [
    "import numpy as np\n",
    "import matplotlib.pyplot as plt\n",
    "from astropy import units as u\n",
    "from astropy import constants as c\n",
    "from astropy.coordinates import Angle, SkyCoord\n",
    "from astropy.table import Table\n",
    "from astropy.time import Time"
   ]
  },
  {
   "cell_type": "code",
   "execution_count": 45,
   "id": "b6378314",
   "metadata": {},
   "outputs": [],
   "source": [
    "from gammapy.analysis import Analysis, AnalysisConfig\n",
    "from gammapy.datasets import Datasets, FluxPointsDataset, SpectrumDataset, SpectrumDatasetOnOff\n",
    "from gammapy.data import DataStore\n",
    "from gammapy.estimators import FluxPointsEstimator, LightCurveEstimator\n",
    "from gammapy.maps import MapAxis, RegionGeom, WcsGeom\n",
    "from gammapy.makers import ReflectedRegionsBackgroundMaker, RingBackgroundMaker, SafeMaskMaker, SpectrumDatasetMaker\n",
    "from gammapy.modeling import Fit\n",
    "from gammapy.modeling.models import (create_crab_spectral_model, ExpCutoffPowerLawSpectralModel, \n",
    "                                     LogParabolaSpectralModel, Models, PowerLawSpectralModel, SkyModel)"
   ]
  },
  {
   "cell_type": "code",
   "execution_count": 46,
   "id": "9a33ce5e",
   "metadata": {},
   "outputs": [],
   "source": [
    "import logging\n",
    "from pathlib import Path\n",
    "from regions import CircleSkyRegion"
   ]
  },
  {
   "cell_type": "code",
   "execution_count": null,
   "id": "3814fa93",
   "metadata": {},
   "outputs": [],
   "source": []
  },
  {
   "cell_type": "code",
   "execution_count": 47,
   "id": "ed402550",
   "metadata": {},
   "outputs": [],
   "source": [
    "def reduced_chi_sq(y, model_y, sigma, n_param):\n",
    "    \n",
    "    frac = (y - model_y) / sigma\n",
    "    chi_sq = np.sum(frac ** 2)\n",
    "    \n",
    "    dof = len(y) - n_param\n",
    "    \n",
    "    return chi_sq, dof"
   ]
  },
  {
   "cell_type": "code",
   "execution_count": null,
   "id": "e9fb5a92",
   "metadata": {},
   "outputs": [],
   "source": []
  },
  {
   "cell_type": "code",
   "execution_count": 48,
   "id": "29e04c44",
   "metadata": {},
   "outputs": [],
   "source": [
    "path = '/Users/Leo/Documents/McGill/Summer Intro to VERITAS/BL Lacertae/data/'"
   ]
  },
  {
   "cell_type": "code",
   "execution_count": 49,
   "id": "60ecbb7e",
   "metadata": {},
   "outputs": [],
   "source": [
    "log = logging.getLogger(__name__)"
   ]
  },
  {
   "cell_type": "code",
   "execution_count": null,
   "id": "b58e0d48",
   "metadata": {},
   "outputs": [],
   "source": []
  },
  {
   "cell_type": "code",
   "execution_count": 7,
   "id": "e9ad1743",
   "metadata": {},
   "outputs": [
    {
     "name": "stdout",
     "output_type": "stream",
     "text": [
      "Data store:\n",
      "HDU index table:\n",
      "BASE_DIR: /Users/Leo/Documents/McGill/Summer Intro to VERITAS/BL Lacertae/data\n",
      "Rows: 65\n",
      "OBS_ID: 83016 -- 83768\n",
      "HDU_TYPE: ['aeff', 'edisp', 'events', 'gti', 'psf']\n",
      "HDU_CLASS: ['aeff_2d', 'edisp_2d', 'events', 'gti', 'psf_table']\n",
      "\n",
      "\n",
      "Observation table:\n",
      "Observatory name: 'N/A'\n",
      "Number of observations: 13\n",
      "\n"
     ]
    }
   ],
   "source": [
    "datastore = DataStore.from_dir(path)\n",
    "datastore.info()"
   ]
  },
  {
   "cell_type": "code",
   "execution_count": null,
   "id": "196e4464",
   "metadata": {},
   "outputs": [],
   "source": []
  },
  {
   "cell_type": "code",
   "execution_count": 8,
   "id": "60ebc200",
   "metadata": {},
   "outputs": [],
   "source": [
    "obs_ids = [83016, 83017, 83018, 83019, 83020, 83021]\n",
    "#observations = datastore.get_observations(obs_ids, required_irf='point-like')"
   ]
  },
  {
   "cell_type": "code",
   "execution_count": 9,
   "id": "8b6f8454",
   "metadata": {},
   "outputs": [],
   "source": [
    "#obs_ids = obs_ids + [83231, 83266, 83368, 83389, 83523, 83558, 83768]\n",
    "obs_ids.remove(83018)\n",
    "#obs_ids.remove(83231)\n",
    "observations = datastore.get_observations(obs_ids, required_irf='point-like')"
   ]
  },
  {
   "cell_type": "code",
   "execution_count": null,
   "id": "cb67c3d4",
   "metadata": {},
   "outputs": [],
   "source": []
  },
  {
   "cell_type": "code",
   "execution_count": 10,
   "id": "b9c1f3b7",
   "metadata": {},
   "outputs": [
    {
     "data": {
      "text/plain": [
       "5"
      ]
     },
     "execution_count": 10,
     "metadata": {},
     "output_type": "execute_result"
    }
   ],
   "source": [
    "len(observations)"
   ]
  },
  {
   "cell_type": "code",
   "execution_count": null,
   "id": "3d72b022",
   "metadata": {},
   "outputs": [],
   "source": []
  },
  {
   "cell_type": "code",
   "execution_count": 11,
   "id": "c93fc507",
   "metadata": {},
   "outputs": [],
   "source": [
    "bllacertae_ra = (22 * u.hourangle + 2 * u.arcmin + 43.2913536816 * u.arcsec).to(u.deg)\n",
    "bllacertae_dec = (42 * u.deg + 16 * u.arcmin + 39.979416792 * u.arcsec).to(u.deg)"
   ]
  },
  {
   "cell_type": "code",
   "execution_count": 12,
   "id": "07f69e72",
   "metadata": {},
   "outputs": [],
   "source": [
    "target_position = SkyCoord(bllacertae_ra, bllacertae_dec, frame='icrs')"
   ]
  },
  {
   "cell_type": "code",
   "execution_count": null,
   "id": "b5edafb0",
   "metadata": {},
   "outputs": [],
   "source": []
  },
  {
   "cell_type": "code",
   "execution_count": 13,
   "id": "a51285d5",
   "metadata": {},
   "outputs": [],
   "source": [
    "selection = {'type': 'sky_circle', 'frame': 'icrs', \n",
    "             'lon': bllacertae_ra, 'lat': bllacertae_dec, 'radius': 2 * u.deg}"
   ]
  },
  {
   "cell_type": "code",
   "execution_count": 14,
   "id": "3d18000f",
   "metadata": {},
   "outputs": [
    {
     "data": {
      "text/plain": [
       "13"
      ]
     },
     "execution_count": 14,
     "metadata": {},
     "output_type": "execute_result"
    }
   ],
   "source": [
    "len(datastore.obs_table.select_observations(selection))"
   ]
  },
  {
   "cell_type": "code",
   "execution_count": null,
   "id": "f0306bc9",
   "metadata": {},
   "outputs": [],
   "source": []
  },
  {
   "cell_type": "code",
   "execution_count": 15,
   "id": "03963b6a",
   "metadata": {},
   "outputs": [],
   "source": [
    "on_region_radius = Angle(0.08944272 * u.deg)\n",
    "on_region = CircleSkyRegion(center=target_position, radius=on_region_radius)"
   ]
  },
  {
   "cell_type": "code",
   "execution_count": 16,
   "id": "dedbe27b",
   "metadata": {},
   "outputs": [],
   "source": [
    "energy_axis = MapAxis.from_energy_bounds(0.1, 2, nbin=6, per_decade=True, unit='TeV', name='energy')\n",
    "energy_axis_true = MapAxis.from_energy_bounds(0.1, 30, nbin=12, per_decade=True, unit='TeV', name='energy_true')"
   ]
  },
  {
   "cell_type": "code",
   "execution_count": 17,
   "id": "f286db7a",
   "metadata": {},
   "outputs": [],
   "source": [
    "geom = RegionGeom.create(region=on_region, axes=[energy_axis])\n",
    "\n",
    "### Not sure I understand what object this is\n",
    "dataset_empty = SpectrumDataset.create(geom=geom, energy_axis_true=energy_axis_true)"
   ]
  },
  {
   "cell_type": "code",
   "execution_count": 18,
   "id": "15675426",
   "metadata": {},
   "outputs": [],
   "source": [
    "### Not sure I understand what objects these are\n",
    "\n",
    "dataset_maker = SpectrumDatasetMaker(containment_correction=False, selection=['counts', 'exposure', 'edisp'])\n",
    "wobble_bkg_maker = ReflectedRegionsBackgroundMaker()\n",
    "#ring_bkg_maker = RingBackgroundMaker()\n",
    "safe_mask_masker = SafeMaskMaker(methods=['aeff-max'], aeff_percent=10)"
   ]
  },
  {
   "cell_type": "code",
   "execution_count": null,
   "id": "ffd4288a",
   "metadata": {},
   "outputs": [],
   "source": []
  },
  {
   "cell_type": "code",
   "execution_count": 19,
   "id": "dfeb9eac",
   "metadata": {},
   "outputs": [
    {
     "name": "stdout",
     "output_type": "stream",
     "text": [
      "Datasets\n",
      "--------\n",
      "\n",
      "Dataset 0: \n",
      "\n",
      "  Type       : SpectrumDatasetOnOff\n",
      "  Name       : 83016\n",
      "  Instrument : VERITAS\n",
      "  Models     : \n",
      "\n",
      "Dataset 1: \n",
      "\n",
      "  Type       : SpectrumDatasetOnOff\n",
      "  Name       : 83017\n",
      "  Instrument : VERITAS\n",
      "  Models     : \n",
      "\n",
      "Dataset 2: \n",
      "\n",
      "  Type       : SpectrumDatasetOnOff\n",
      "  Name       : 83019\n",
      "  Instrument : VERITAS\n",
      "  Models     : \n",
      "\n",
      "Dataset 3: \n",
      "\n",
      "  Type       : SpectrumDatasetOnOff\n",
      "  Name       : 83020\n",
      "  Instrument : VERITAS\n",
      "  Models     : \n",
      "\n",
      "Dataset 4: \n",
      "\n",
      "  Type       : SpectrumDatasetOnOff\n",
      "  Name       : 83021\n",
      "  Instrument : VERITAS\n",
      "  Models     : \n",
      "\n",
      "\n"
     ]
    }
   ],
   "source": [
    "datasets = Datasets()\n",
    "\n",
    "for obs_id, obs in zip(obs_ids, observations):\n",
    "    dataset_1 = dataset_maker.run(dataset_empty.copy(name=str(obs_id)), obs)\n",
    "    dataset_2 = wobble_bkg_maker.run(dataset_1, obs)\n",
    "    dataset_3 = safe_mask_masker.run(dataset_2, obs)\n",
    "    datasets.append(dataset_3)\n",
    "\n",
    "print(datasets)"
   ]
  },
  {
   "cell_type": "code",
   "execution_count": null,
   "id": "35b67990",
   "metadata": {},
   "outputs": [],
   "source": []
  },
  {
   "cell_type": "code",
   "execution_count": null,
   "id": "c119b7d3",
   "metadata": {},
   "outputs": [],
   "source": []
  },
  {
   "cell_type": "code",
   "execution_count": 20,
   "id": "b6624f5c",
   "metadata": {},
   "outputs": [
    {
     "data": {
      "text/html": [
       "<i>Table length=5</i>\n",
       "<table id=\"table140518586696560-529404\" class=\"table-striped table-bordered table-condensed\">\n",
       "<thead><tr><th>idx</th><th>name</th><th>counts</th><th>excess</th><th>sqrt_ts</th><th>background</th><th>npred</th><th>npred_background</th><th>npred_signal</th><th>exposure_min</th><th>exposure_max</th><th>livetime</th><th>ontime</th><th>counts_rate</th><th>background_rate</th><th>excess_rate</th><th>n_bins</th><th>n_fit_bins</th><th>stat_type</th><th>stat_sum</th><th>counts_off</th><th>acceptance</th><th>acceptance_off</th><th>alpha</th></tr></thead>\n",
       "<thead><tr><th></th><th></th><th></th><th></th><th></th><th></th><th></th><th></th><th></th><th>m2 s</th><th>m2 s</th><th>s</th><th>s</th><th>1 / s</th><th>1 / s</th><th>1 / s</th><th></th><th></th><th></th><th></th><th></th><th></th><th></th><th></th></tr></thead>\n",
       "<tr><td>0</td><td>stacked</td><td>2</td><td>-0.5454545021057129</td><td>-0.3480848724380858</td><td>2.545454502105713</td><td>2.521739202320914</td><td>2.521739202320914</td><td>nan</td><td>832389.625</td><td>219261680.0</td><td>1523.3331217806794</td><td>1801.0</td><td>0.0013129104667941095</td><td>0.0016709769292813897</td><td>-0.00035806646248728006</td><td>8</td><td>6</td><td>wstat</td><td>7.422511567804591</td><td>56</td><td>6.0</td><td>132.0</td><td>0.045454543083906174</td></tr>\n",
       "<tr><td>1</td><td>stacked</td><td>3</td><td>-0.951704740524292</td><td>-0.49147177462893143</td><td>3.951704740524292</td><td>3.9162568467868195</td><td>3.9162568467868195</td><td>nan</td><td>1074644.125</td><td>419508992.0</td><td>3063.1226852352247</td><td>3602.0</td><td>0.0009793927009389839</td><td>0.0012900902597118243</td><td>-0.0003106975587728404</td><td>8</td><td>6</td><td>wstat</td><td>6.011254454162247</td><td>101</td><td>6.0</td><td>153.35154724121094</td><td>0.03912578895688057</td></tr>\n",
       "<tr><td>2</td><td>stacked</td><td>7</td><td>0.9119315147399902</td><td>0.3533559891192922</td><td>6.08806848526001</td><td>6.128269316408336</td><td>6.128269316408336</td><td>nan</td><td>1533356.5</td><td>659477888.0</td><td>4605.403619314253</td><td>5403.0</td><td>0.0015199536411191477</td><td>0.0013219402659362409</td><td>0.00019801337518290685</td><td>8</td><td>6</td><td>wstat</td><td>2.347966016745195</td><td>148</td><td>6.0</td><td>145.85906982421875</td><td>0.041135597974061966</td></tr>\n",
       "<tr><td>3</td><td>stacked</td><td>11</td><td>1.7755680084228516</td><td>0.554830429759212</td><td>9.224431991577148</td><td>9.299434037748025</td><td>9.299434037748025</td><td>nan</td><td>1809739.375</td><td>924658688.0</td><td>6149.78143865651</td><td>7204.0</td><td>0.0017886814531091818</td><td>0.0014999609471637307</td><td>0.0002887205059454511</td><td>8</td><td>6</td><td>wstat</td><td>3.3825903413892657</td><td>217</td><td>6.0</td><td>141.1468963623047</td><td>0.04250890389084816</td></tr>\n",
       "<tr><td>4</td><td>stacked</td><td>13</td><td>2.3068180084228516</td><td>0.6678054634649003</td><td>10.693181991577148</td><td>10.780778166387316</td><td>10.780778166387316</td><td>nan</td><td>1916569.75</td><td>1184239104.0</td><td>7680.788102921024</td><td>9005.0</td><td>0.0016925346495441094</td><td>0.0013921985411250316</td><td>0.0003003361084190778</td><td>8</td><td>6</td><td>wstat</td><td>4.430926151047286</td><td>264</td><td>6.0</td><td>148.13177490234375</td><td>0.04050447791814804</td></tr>\n",
       "</table><style>table.dataTable {clear: both; width: auto !important; margin: 0 !important;}\n",
       ".dataTables_info, .dataTables_length, .dataTables_filter, .dataTables_paginate{\n",
       "display: inline-block; margin-right: 1em; }\n",
       ".paginate_button { margin-right: 5px; }\n",
       "</style>\n",
       "<script>\n",
       "\n",
       "var astropy_sort_num = function(a, b) {\n",
       "    var a_num = parseFloat(a);\n",
       "    var b_num = parseFloat(b);\n",
       "\n",
       "    if (isNaN(a_num) && isNaN(b_num))\n",
       "        return ((a < b) ? -1 : ((a > b) ? 1 : 0));\n",
       "    else if (!isNaN(a_num) && !isNaN(b_num))\n",
       "        return ((a_num < b_num) ? -1 : ((a_num > b_num) ? 1 : 0));\n",
       "    else\n",
       "        return isNaN(a_num) ? -1 : 1;\n",
       "}\n",
       "\n",
       "require.config({paths: {\n",
       "    datatables: 'https://cdn.datatables.net/1.10.12/js/jquery.dataTables.min'\n",
       "}});\n",
       "require([\"datatables\"], function(){\n",
       "    console.log(\"$('#table140518586696560-529404').dataTable()\");\n",
       "    \n",
       "jQuery.extend( jQuery.fn.dataTableExt.oSort, {\n",
       "    \"optionalnum-asc\": astropy_sort_num,\n",
       "    \"optionalnum-desc\": function (a,b) { return -astropy_sort_num(a, b); }\n",
       "});\n",
       "\n",
       "    $('#table140518586696560-529404').dataTable({\n",
       "        order: [],\n",
       "        pageLength: 50,\n",
       "        lengthMenu: [[10, 25, 50, 100, 500, 1000, -1], [10, 25, 50, 100, 500, 1000, 'All']],\n",
       "        pagingType: \"full_numbers\",\n",
       "        columnDefs: [{targets: [0, 2, 3, 4, 5, 6, 7, 8, 9, 10, 11, 12, 13, 14, 15, 16, 17, 19, 20, 21, 22, 23], type: \"optionalnum\"}]\n",
       "    });\n",
       "});\n",
       "</script>\n"
      ],
      "text/plain": [
       "<IPython.core.display.HTML object>"
      ]
     },
     "execution_count": 20,
     "metadata": {},
     "output_type": "execute_result"
    }
   ],
   "source": [
    "info_table = datasets.info_table(cumulative=True)\n",
    "info_table.show_in_notebook()"
   ]
  },
  {
   "cell_type": "code",
   "execution_count": null,
   "id": "f1cbc0ad",
   "metadata": {},
   "outputs": [],
   "source": []
  },
  {
   "cell_type": "code",
   "execution_count": 21,
   "id": "fab41c53",
   "metadata": {},
   "outputs": [
    {
     "data": {
      "image/png": "[encoded data removed]",
      "text/plain": [
       "<Figure size 1152x360 with 2 Axes>"
      ]
     },
     "metadata": {
      "needs_background": "light"
     },
     "output_type": "display_data"
    }
   ],
   "source": [
    "fig, (ax_excess, ax_sqrt_ts) = plt.subplots(1, 2, figsize=(16, 5))\n",
    "\n",
    "ax_excess.plot(info_table['livetime'].to(u.h), info_table['excess'], 'o', c='royalblue', ls='none')\n",
    "ax_excess.grid()\n",
    "ax_excess.set_xlabel('Livetime [h]')\n",
    "ax_excess.set_ylabel('Excess events')\n",
    "ax_excess.set_title('Excess')\n",
    "\n",
    "ax_sqrt_ts.plot(info_table['livetime'].to(u.h), info_table['sqrt_ts'], 'o', c='firebrick', ls='none')\n",
    "ax_sqrt_ts.grid()\n",
    "ax_sqrt_ts.set_xlabel('Livetime [h]')\n",
    "ax_sqrt_ts.set_ylabel(r'$\\sqrt{\\rm{TS}}$')\n",
    "ax_sqrt_ts.set_title('Sq. root of test statistic')\n",
    "\n",
    "plt.show()"
   ]
  },
  {
   "cell_type": "code",
   "execution_count": 22,
   "id": "b7bc8458",
   "metadata": {},
   "outputs": [
    {
     "data": {
      "image/png": "[encoded data removed]",
      "text/plain": [
       "<Figure size 1152x360 with 2 Axes>"
      ]
     },
     "metadata": {
      "needs_background": "light"
     },
     "output_type": "display_data"
    }
   ],
   "source": [
    "fig, (ax_excess, ax_sqrt_ts) = plt.subplots(1, 2, figsize=(16, 5))\n",
    "\n",
    "ax_excess.plot(info_table[:6]['livetime'].to(u.h), info_table[:6]['excess'], 'o', c='royalblue', ls='none')\n",
    "ax_excess.grid()\n",
    "ax_excess.set_xlabel('Livetime [h]')\n",
    "ax_excess.set_ylabel('Excess events')\n",
    "ax_excess.set_title('Excess')\n",
    "\n",
    "ax_sqrt_ts.plot(info_table[:6]['livetime'].to(u.h), info_table[:6]['sqrt_ts'], 'o', c='firebrick', ls='none')\n",
    "ax_sqrt_ts.grid()\n",
    "ax_sqrt_ts.set_xlabel('Livetime [h]')\n",
    "ax_sqrt_ts.set_ylabel(r'$\\sqrt{\\rm{TS}}$')\n",
    "ax_sqrt_ts.set_title('Sq. root of test statistic')\n",
    "\n",
    "plt.show()"
   ]
  },
  {
   "cell_type": "code",
   "execution_count": null,
   "id": "bdc6f0dc",
   "metadata": {},
   "outputs": [],
   "source": []
  },
  {
   "cell_type": "code",
   "execution_count": 23,
   "id": "abe98807",
   "metadata": {},
   "outputs": [],
   "source": [
    "spectral_model = LogParabolaSpectralModel.from_log10(amplitude=2.22e-5 / (u.m ** 2 * u.s * u.TeV), \n",
    "                                                     reference=0.2 * u.TeV, \n",
    "                                                     alpha=2.4, \n",
    "                                                     beta=1.8)"
   ]
  },
  {
   "cell_type": "code",
   "execution_count": 24,
   "id": "3fbc9ed4",
   "metadata": {},
   "outputs": [
    {
     "name": "stdout",
     "output_type": "stream",
     "text": [
      "LogParabolaSpectralModel\n",
      "\n",
      "  type      name     value         unit     ... max frozen is_norm link\n",
      "-------- --------- ---------- ------------- ... --- ------ ------- ----\n",
      "spectral amplitude 2.2200e-05 m-2 s-1 TeV-1 ... nan  False    True     \n",
      "spectral reference 2.0000e-01           TeV ... nan   True   False     \n",
      "spectral     alpha 2.4000e+00               ... nan  False   False     \n",
      "spectral      beta 7.8173e-01               ... nan  False   False     \n"
     ]
    }
   ],
   "source": [
    "print(spectral_model)"
   ]
  },
  {
   "cell_type": "code",
   "execution_count": null,
   "id": "8bd28e33",
   "metadata": {},
   "outputs": [],
   "source": []
  },
  {
   "cell_type": "code",
   "execution_count": null,
   "id": "b2924d7b",
   "metadata": {},
   "outputs": [],
   "source": []
  },
  {
   "cell_type": "code",
   "execution_count": 25,
   "id": "c2b2f7f1",
   "metadata": {},
   "outputs": [
    {
     "name": "stderr",
     "output_type": "stream",
     "text": [
      "/Users/Leo/opt/anaconda3/lib/python3.9/site-packages/numpy/core/fromnumeric.py:86: RuntimeWarning: overflow encountered in reduce\n",
      "  return ufunc.reduce(obj, axis, dtype, out, **passkwargs)\n",
      "/Users/Leo/opt/anaconda3/lib/python3.9/site-packages/gammapy/datasets/core.py:224: RuntimeWarning: overflow encountered in double_scalars\n",
      "  stat_sum += dataset.stat_sum()\n",
      "/Users/Leo/opt/anaconda3/lib/python3.9/site-packages/numpy/core/fromnumeric.py:86: RuntimeWarning: overflow encountered in reduce\n",
      "  return ufunc.reduce(obj, axis, dtype, out, **passkwargs)\n",
      "/Users/Leo/opt/anaconda3/lib/python3.9/site-packages/numpy/core/fromnumeric.py:86: RuntimeWarning: overflow encountered in reduce\n",
      "  return ufunc.reduce(obj, axis, dtype, out, **passkwargs)\n",
      "/Users/Leo/opt/anaconda3/lib/python3.9/site-packages/numpy/core/fromnumeric.py:86: RuntimeWarning: overflow encountered in reduce\n",
      "  return ufunc.reduce(obj, axis, dtype, out, **passkwargs)\n",
      "/Users/Leo/opt/anaconda3/lib/python3.9/site-packages/gammapy/stats/fit_statistics.py:209: RuntimeWarning: overflow encountered in square\n",
      "  D = np.sqrt(C**2 + 4 * alpha * (alpha + 1) * n_off * mu_sig)\n",
      "/Users/Leo/opt/anaconda3/lib/python3.9/site-packages/gammapy/stats/fit_statistics.py:189: RuntimeWarning: invalid value encountered in add\n",
      "  stat = 2 * (term1 + term2 + term3)\n",
      "/Users/Leo/opt/anaconda3/lib/python3.9/site-packages/gammapy/datasets/core.py:224: RuntimeWarning: overflow encountered in double_scalars\n",
      "  stat_sum += dataset.stat_sum()\n",
      "/Users/Leo/opt/anaconda3/lib/python3.9/site-packages/gammapy/stats/fit_statistics.py:209: RuntimeWarning: overflow encountered in square\n",
      "  D = np.sqrt(C**2 + 4 * alpha * (alpha + 1) * n_off * mu_sig)\n",
      "/Users/Leo/opt/anaconda3/lib/python3.9/site-packages/gammapy/stats/fit_statistics.py:189: RuntimeWarning: invalid value encountered in add\n",
      "  stat = 2 * (term1 + term2 + term3)\n"
     ]
    }
   ],
   "source": [
    "### ???\n",
    "\n",
    "model = SkyModel(spectral_model=spectral_model, name='BL Lacertae')\n",
    "datasets.models = [model]\n",
    "\n",
    "fit_joint = Fit()\n",
    "result_joint = fit_joint.run(datasets=datasets)\n",
    "model_best_joint = model.copy()"
   ]
  },
  {
   "cell_type": "code",
   "execution_count": null,
   "id": "1a7150f5",
   "metadata": {},
   "outputs": [],
   "source": []
  },
  {
   "cell_type": "code",
   "execution_count": 26,
   "id": "e0efd81b",
   "metadata": {},
   "outputs": [
    {
     "data": {
      "image/png": "[encoded data removed]",
      "text/plain": [
       "<Figure size 1080x576 with 2 Axes>"
      ]
     },
     "metadata": {
      "needs_background": "light"
     },
     "output_type": "display_data"
    }
   ],
   "source": [
    "plt.figure(figsize=(15, 8))\n",
    "\n",
    "ax_spectrum, ax_residuals = datasets[0].plot_fit()\n",
    "\n",
    "ax_spectrum.set_yscale('log')\n",
    "datasets[0].plot_masks(ax=ax_spectrum)\n",
    "ax_spectrum.set_title('BL Lacertae')\n",
    "\n",
    "plt.show()"
   ]
  },
  {
   "cell_type": "code",
   "execution_count": null,
   "id": "88f3e588",
   "metadata": {},
   "outputs": [],
   "source": []
  },
  {
   "cell_type": "code",
   "execution_count": null,
   "id": "8c87c582",
   "metadata": {},
   "outputs": [],
   "source": []
  },
  {
   "cell_type": "code",
   "execution_count": null,
   "id": "b9ca618c",
   "metadata": {},
   "outputs": [],
   "source": []
  },
  {
   "cell_type": "code",
   "execution_count": 27,
   "id": "1968180f",
   "metadata": {},
   "outputs": [],
   "source": [
    "e_min, e_max = 0.1, 2\n",
    "energy_edges = np.geomspace(e_min, e_max, 7) * u.TeV"
   ]
  },
  {
   "cell_type": "code",
   "execution_count": 28,
   "id": "76a22204",
   "metadata": {},
   "outputs": [],
   "source": [
    "fpe = FluxPointsEstimator(energy_edges=energy_edges, source='BL Lacertae', selection_optional='all')\n",
    "flux_points = fpe.run(datasets=datasets)"
   ]
  },
  {
   "cell_type": "code",
   "execution_count": 29,
   "id": "18de64df",
   "metadata": {},
   "outputs": [
    {
     "data": {
      "text/html": [
       "<i>Table length=6</i>\n",
       "<table id=\"table140518749937280-375929\" class=\"table-striped table-bordered table-condensed\">\n",
       "<thead><tr><th>idx</th><th>e_ref</th><th>e_min</th><th>e_max</th><th>dnde</th><th>dnde_err</th><th>dnde_errp</th><th>dnde_errn</th><th>dnde_ul</th><th>ts</th><th>sqrt_ts</th><th>npred [5]</th><th>npred_excess [5]</th><th>stat</th><th>is_ul</th><th>counts [5]</th><th>success</th><th>norm_scan [11]</th><th>stat_scan [11]</th></tr></thead>\n",
       "<thead><tr><th></th><th>TeV</th><th>TeV</th><th>TeV</th><th>1 / (m2 s TeV)</th><th>1 / (m2 s TeV)</th><th>1 / (m2 s TeV)</th><th>1 / (m2 s TeV)</th><th>1 / (m2 s TeV)</th><th></th><th></th><th></th><th></th><th></th><th></th><th></th><th></th><th></th><th></th></tr></thead>\n",
       "<tr><td>0</td><td>0.121</td><td>0.100</td><td>0.145</td><td>nan</td><td>nan</td><td>nan</td><td>nan</td><td>nan</td><td>nan</td><td>nan</td><td>nan .. nan</td><td>0.0 .. 0.0</td><td>0.000</td><td>False</td><td>0.0 .. 0.0</td><td>False</td><td>0.200 .. 5.000</td><td>nan .. nan</td></tr>\n",
       "<tr><td>1</td><td>0.211</td><td>0.145</td><td>0.308</td><td>-1.055e-09</td><td>1.582e-09</td><td>nan</td><td>nan</td><td>nan</td><td>0.357</td><td>-0.597</td><td>0.45386324774439246 .. 0.0</td><td>-0.24178892 .. 0.0</td><td>2.324</td><td>True</td><td>0.0 .. 0.0</td><td>True</td><td>0.200 .. 5.000</td><td>2.685 .. 2.799</td></tr>\n",
       "<tr><td>2</td><td>0.371</td><td>0.308</td><td>0.447</td><td>6.533e-09</td><td>1.571e-08</td><td>nan</td><td>nan</td><td>nan</td><td>0.209</td><td>0.457</td><td>1.0605406507679294 .. 0.8155750213830333</td><td>0.14749718 .. 0.14890836</td><td>8.354</td><td>True</td><td>0.0 .. 0.0</td><td>True</td><td>0.200 .. 5.000</td><td>8.520 .. 8.704</td></tr>\n",
       "<tr><td>3</td><td>0.539</td><td>0.447</td><td>0.650</td><td>5.953e-09</td><td>1.519e-08</td><td>1.815e-08</td><td>nan</td><td>4.869e-08</td><td>0.180</td><td>0.424</td><td>0.5182097195148707 .. 0.5527325101723197</td><td>0.13852799 .. 0.13594303</td><td>2.196</td><td>True</td><td>1.0 .. 1.0</td><td>True</td><td>0.200 .. 5.000</td><td>2.260 .. 7.378</td></tr>\n",
       "<tr><td>4</td><td>0.946</td><td>0.650</td><td>1.375</td><td>5.979e-09</td><td>4.258e-09</td><td>4.891e-09</td><td>3.686e-09</td><td>1.712e-08</td><td>3.315</td><td>1.821</td><td>1.1298656144532593 .. 0.9927021829074955</td><td>0.63714445 .. 0.6450597</td><td>9.148</td><td>True</td><td>1.0 .. 1.0</td><td>True</td><td>0.200 .. 5.000</td><td>11.297 .. 16.924</td></tr>\n",
       "<tr><td>5</td><td>1.659</td><td>1.375</td><td>2.000</td><td>3.370e-17</td><td>1.218e-13</td><td>2.273e-10</td><td>nan</td><td>nan</td><td>-0.000</td><td>0.000</td><td>1.351820236471535e-08 .. 0.030303047301649892</td><td>1.3518203e-08 .. 1.699862e-08</td><td>0.513</td><td>True</td><td>0.0 .. 0.0</td><td>True</td><td>0.200 .. 5.000</td><td>0.577 .. 2.119</td></tr>\n",
       "</table><style>table.dataTable {clear: both; width: auto !important; margin: 0 !important;}\n",
       ".dataTables_info, .dataTables_length, .dataTables_filter, .dataTables_paginate{\n",
       "display: inline-block; margin-right: 1em; }\n",
       ".paginate_button { margin-right: 5px; }\n",
       "</style>\n",
       "<script>\n",
       "\n",
       "var astropy_sort_num = function(a, b) {\n",
       "    var a_num = parseFloat(a);\n",
       "    var b_num = parseFloat(b);\n",
       "\n",
       "    if (isNaN(a_num) && isNaN(b_num))\n",
       "        return ((a < b) ? -1 : ((a > b) ? 1 : 0));\n",
       "    else if (!isNaN(a_num) && !isNaN(b_num))\n",
       "        return ((a_num < b_num) ? -1 : ((a_num > b_num) ? 1 : 0));\n",
       "    else\n",
       "        return isNaN(a_num) ? -1 : 1;\n",
       "}\n",
       "\n",
       "require.config({paths: {\n",
       "    datatables: 'https://cdn.datatables.net/1.10.12/js/jquery.dataTables.min'\n",
       "}});\n",
       "require([\"datatables\"], function(){\n",
       "    console.log(\"$('#table140518749937280-375929').dataTable()\");\n",
       "    \n",
       "jQuery.extend( jQuery.fn.dataTableExt.oSort, {\n",
       "    \"optionalnum-asc\": astropy_sort_num,\n",
       "    \"optionalnum-desc\": function (a,b) { return -astropy_sort_num(a, b); }\n",
       "});\n",
       "\n",
       "    $('#table140518749937280-375929').dataTable({\n",
       "        order: [],\n",
       "        pageLength: 50,\n",
       "        lengthMenu: [[10, 25, 50, 100, 500, 1000, -1], [10, 25, 50, 100, 500, 1000, 'All']],\n",
       "        pagingType: \"full_numbers\",\n",
       "        columnDefs: [{targets: [0, 1, 2, 3, 4, 5, 6, 7, 8, 9, 10, 11, 12, 13, 15, 17, 18], type: \"optionalnum\"}]\n",
       "    });\n",
       "});\n",
       "</script>\n"
      ],
      "text/plain": [
       "<IPython.core.display.HTML object>"
      ]
     },
     "execution_count": 29,
     "metadata": {},
     "output_type": "execute_result"
    }
   ],
   "source": [
    "flux_points.to_table(sed_type='dnde', formatted=True).show_in_notebook()"
   ]
  },
  {
   "cell_type": "code",
   "execution_count": null,
   "id": "f4e937aa",
   "metadata": {},
   "outputs": [],
   "source": []
  },
  {
   "cell_type": "code",
   "execution_count": 30,
   "id": "48bee433",
   "metadata": {},
   "outputs": [
    {
     "data": {
      "image/png": "[encoded data removed]",
      "text/plain": [
       "<Figure size 1080x576 with 2 Axes>"
      ]
     },
     "metadata": {
      "needs_background": "light"
     },
     "output_type": "display_data"
    }
   ],
   "source": [
    "fig, ax = plt.subplots(figsize=(15, 8))\n",
    "flux_points.plot(ax=ax, sed_type='dnde', c='fuchsia')\n",
    "flux_points.plot_ts_profiles(ax=ax, sed_type='dnde')\n",
    "ax.set_xscale('linear')\n",
    "plt.show()"
   ]
  },
  {
   "cell_type": "code",
   "execution_count": null,
   "id": "727cd124",
   "metadata": {},
   "outputs": [],
   "source": []
  },
  {
   "cell_type": "code",
   "execution_count": 31,
   "id": "d57669e7",
   "metadata": {},
   "outputs": [
    {
     "name": "stderr",
     "output_type": "stream",
     "text": [
      "/Users/Leo/opt/anaconda3/lib/python3.9/site-packages/matplotlib/axes/_base.py:2475: UserWarning: Warning: converting a masked element to nan.\n",
      "  xys = np.asarray(xys)\n",
      "<__array_function__ internals>:5: RuntimeWarning: All-NaN axis encountered\n",
      "<__array_function__ internals>:5: RuntimeWarning: All-NaN axis encountered\n"
     ]
    },
    {
     "ename": "ValueError",
     "evalue": "Axis limits cannot be NaN or Inf",
     "output_type": "error",
     "traceback": [
      "\u001b[0;31m---------------------------------------------------------------------------\u001b[0m",
      "\u001b[0;31mValueError\u001b[0m                                Traceback (most recent call last)",
      "Input \u001b[0;32mIn [31]\u001b[0m, in \u001b[0;36m<cell line: 3>\u001b[0;34m()\u001b[0m\n\u001b[1;32m      1\u001b[0m plt\u001b[38;5;241m.\u001b[39mfigure(figsize\u001b[38;5;241m=\u001b[39m(\u001b[38;5;241m15\u001b[39m, \u001b[38;5;241m8\u001b[39m))\n\u001b[1;32m      2\u001b[0m flux_points_dataset \u001b[38;5;241m=\u001b[39m FluxPointsDataset(data\u001b[38;5;241m=\u001b[39mflux_points, models\u001b[38;5;241m=\u001b[39mmodel_best_joint)\n\u001b[0;32m----> 3\u001b[0m \u001b[43mflux_points_dataset\u001b[49m\u001b[38;5;241;43m.\u001b[39;49m\u001b[43mplot_fit\u001b[49m\u001b[43m(\u001b[49m\u001b[43m)\u001b[49m\n",
      "File \u001b[0;32m~/opt/anaconda3/lib/python3.9/site-packages/gammapy/datasets/flux_points.py:371\u001b[0m, in \u001b[0;36mFluxPointsDataset.plot_fit\u001b[0;34m(self, ax_spectrum, ax_residuals, kwargs_spectrum, kwargs_residuals)\u001b[0m\n\u001b[1;32m    368\u001b[0m kwargs_residuals\u001b[38;5;241m.\u001b[39msetdefault(\u001b[38;5;124m\"\u001b[39m\u001b[38;5;124mmethod\u001b[39m\u001b[38;5;124m\"\u001b[39m, \u001b[38;5;124m\"\u001b[39m\u001b[38;5;124mdiff/model\u001b[39m\u001b[38;5;124m\"\u001b[39m)\n\u001b[1;32m    370\u001b[0m \u001b[38;5;28mself\u001b[39m\u001b[38;5;241m.\u001b[39mplot_spectrum(ax\u001b[38;5;241m=\u001b[39max_spectrum, \u001b[38;5;241m*\u001b[39m\u001b[38;5;241m*\u001b[39mkwargs_spectrum)\n\u001b[0;32m--> 371\u001b[0m \u001b[38;5;28;43mself\u001b[39;49m\u001b[38;5;241;43m.\u001b[39;49m\u001b[43mplot_residuals\u001b[49m\u001b[43m(\u001b[49m\u001b[43max\u001b[49m\u001b[38;5;241;43m=\u001b[39;49m\u001b[43max_residuals\u001b[49m\u001b[43m,\u001b[49m\u001b[43m \u001b[49m\u001b[38;5;241;43m*\u001b[39;49m\u001b[38;5;241;43m*\u001b[39;49m\u001b[43mkwargs_residuals\u001b[49m\u001b[43m)\u001b[49m\n\u001b[1;32m    372\u001b[0m \u001b[38;5;28;01mreturn\u001b[39;00m ax_spectrum, ax_residuals\n",
      "File \u001b[0;32m~/opt/anaconda3/lib/python3.9/site-packages/gammapy/datasets/flux_points.py:439\u001b[0m, in \u001b[0;36mFluxPointsDataset.plot_residuals\u001b[0;34m(self, ax, method, **kwargs)\u001b[0m\n\u001b[1;32m    437\u001b[0m ymax \u001b[38;5;241m=\u001b[39m np\u001b[38;5;241m.\u001b[39mnanmax(residuals \u001b[38;5;241m+\u001b[39m yerr[\u001b[38;5;241m1\u001b[39m])\n\u001b[1;32m    438\u001b[0m ymax \u001b[38;5;241m=\u001b[39m \u001b[38;5;28mmax\u001b[39m(\u001b[38;5;28mabs\u001b[39m(ymin), ymax)\n\u001b[0;32m--> 439\u001b[0m \u001b[43max\u001b[49m\u001b[38;5;241;43m.\u001b[39;49m\u001b[43mset_ylim\u001b[49m\u001b[43m(\u001b[49m\u001b[38;5;241;43m-\u001b[39;49m\u001b[38;5;241;43m1.05\u001b[39;49m\u001b[43m \u001b[49m\u001b[38;5;241;43m*\u001b[39;49m\u001b[43m \u001b[49m\u001b[43mymax\u001b[49m\u001b[43m,\u001b[49m\u001b[43m \u001b[49m\u001b[38;5;241;43m1.05\u001b[39;49m\u001b[43m \u001b[49m\u001b[38;5;241;43m*\u001b[39;49m\u001b[43m \u001b[49m\u001b[43mymax\u001b[49m\u001b[43m)\u001b[49m\n\u001b[1;32m    440\u001b[0m \u001b[38;5;28;01mreturn\u001b[39;00m ax\n",
      "File \u001b[0;32m~/opt/anaconda3/lib/python3.9/site-packages/matplotlib/axes/_base.py:4018\u001b[0m, in \u001b[0;36m_AxesBase.set_ylim\u001b[0;34m(self, bottom, top, emit, auto, ymin, ymax)\u001b[0m\n\u001b[1;32m   4015\u001b[0m     top \u001b[38;5;241m=\u001b[39m ymax\n\u001b[1;32m   4017\u001b[0m \u001b[38;5;28mself\u001b[39m\u001b[38;5;241m.\u001b[39m_process_unit_info([(\u001b[38;5;124m\"\u001b[39m\u001b[38;5;124my\u001b[39m\u001b[38;5;124m\"\u001b[39m, (bottom, top))], convert\u001b[38;5;241m=\u001b[39m\u001b[38;5;28;01mFalse\u001b[39;00m)\n\u001b[0;32m-> 4018\u001b[0m bottom \u001b[38;5;241m=\u001b[39m \u001b[38;5;28;43mself\u001b[39;49m\u001b[38;5;241;43m.\u001b[39;49m\u001b[43m_validate_converted_limits\u001b[49m\u001b[43m(\u001b[49m\u001b[43mbottom\u001b[49m\u001b[43m,\u001b[49m\u001b[43m \u001b[49m\u001b[38;5;28;43mself\u001b[39;49m\u001b[38;5;241;43m.\u001b[39;49m\u001b[43mconvert_yunits\u001b[49m\u001b[43m)\u001b[49m\n\u001b[1;32m   4019\u001b[0m top \u001b[38;5;241m=\u001b[39m \u001b[38;5;28mself\u001b[39m\u001b[38;5;241m.\u001b[39m_validate_converted_limits(top, \u001b[38;5;28mself\u001b[39m\u001b[38;5;241m.\u001b[39mconvert_yunits)\n\u001b[1;32m   4021\u001b[0m \u001b[38;5;28;01mif\u001b[39;00m bottom \u001b[38;5;129;01mis\u001b[39;00m \u001b[38;5;28;01mNone\u001b[39;00m \u001b[38;5;129;01mor\u001b[39;00m top \u001b[38;5;129;01mis\u001b[39;00m \u001b[38;5;28;01mNone\u001b[39;00m:\n\u001b[1;32m   4022\u001b[0m     \u001b[38;5;66;03m# Axes init calls set_ylim(0, 1) before get_ylim() can be called,\u001b[39;00m\n\u001b[1;32m   4023\u001b[0m     \u001b[38;5;66;03m# so only grab the limits if we really need them.\u001b[39;00m\n",
      "File \u001b[0;32m~/opt/anaconda3/lib/python3.9/site-packages/matplotlib/axes/_base.py:3605\u001b[0m, in \u001b[0;36m_AxesBase._validate_converted_limits\u001b[0;34m(self, limit, convert)\u001b[0m\n\u001b[1;32m   3602\u001b[0m converted_limit \u001b[38;5;241m=\u001b[39m convert(limit)\n\u001b[1;32m   3603\u001b[0m \u001b[38;5;28;01mif\u001b[39;00m (\u001b[38;5;28misinstance\u001b[39m(converted_limit, Real)\n\u001b[1;32m   3604\u001b[0m         \u001b[38;5;129;01mand\u001b[39;00m \u001b[38;5;129;01mnot\u001b[39;00m np\u001b[38;5;241m.\u001b[39misfinite(converted_limit)):\n\u001b[0;32m-> 3605\u001b[0m     \u001b[38;5;28;01mraise\u001b[39;00m \u001b[38;5;167;01mValueError\u001b[39;00m(\u001b[38;5;124m\"\u001b[39m\u001b[38;5;124mAxis limits cannot be NaN or Inf\u001b[39m\u001b[38;5;124m\"\u001b[39m)\n\u001b[1;32m   3606\u001b[0m \u001b[38;5;28;01mreturn\u001b[39;00m converted_limit\n",
      "\u001b[0;31mValueError\u001b[0m: Axis limits cannot be NaN or Inf"
     ]
    },
    {
     "data": {
      "text/plain": [
       "<Figure size 1080x576 with 0 Axes>"
      ]
     },
     "metadata": {},
     "output_type": "display_data"
    },
    {
     "data": {
      "image/png": "[encoded data removed]",
      "text/plain": [
       "<Figure size 648x504 with 2 Axes>"
      ]
     },
     "metadata": {
      "needs_background": "light"
     },
     "output_type": "display_data"
    }
   ],
   "source": [
    "plt.figure(figsize=(15, 8))\n",
    "flux_points_dataset = FluxPointsDataset(data=flux_points, models=model_best_joint)\n",
    "flux_points_dataset.plot_fit()"
   ]
  },
  {
   "cell_type": "code",
   "execution_count": 32,
   "id": "e51deb78",
   "metadata": {},
   "outputs": [
    {
     "data": {
      "image/png": "[encoded data removed]",
      "text/plain": [
       "<Figure size 1080x576 with 1 Axes>"
      ]
     },
     "metadata": {
      "needs_background": "light"
     },
     "output_type": "display_data"
    }
   ],
   "source": [
    "plt.figure(figsize=(15, 8))\n",
    "\n",
    "energy_bounds = [e_min, e_max] * u.TeV\n",
    "\n",
    "spectral_model.plot(energy_bounds, label='Log Parabola Fit', color='orangered', lw=2)\n",
    "spectral_model.plot_error(energy_bounds, alpha=0.2, color='deepskyblue')\n",
    "flux_points.plot(sed_type='dnde', color='k', markersize=5)\n",
    "\n",
    "plt.xlabel('Energy [TeV]', fontsize=12)\n",
    "plt.title('BL Lacertae 2016 gamma flare spectrum', fontsize=16)\n",
    "plt.grid()\n",
    "\n",
    "plt.show()"
   ]
  },
  {
   "cell_type": "code",
   "execution_count": null,
   "id": "6135907d",
   "metadata": {},
   "outputs": [],
   "source": []
  },
  {
   "cell_type": "code",
   "execution_count": 33,
   "id": "5e28f938",
   "metadata": {},
   "outputs": [
    {
     "data": {
      "text/html": [
       "<i>Table length=6</i>\n",
       "<table id=\"table140518701016352-744918\" class=\"table-striped table-bordered table-condensed\">\n",
       "<thead><tr><th>idx</th><th>e_ref</th><th>e_min</th><th>e_max</th><th>dnde</th><th>dnde_err</th><th>dnde_errp</th><th>dnde_errn</th><th>dnde_ul</th><th>ts</th><th>sqrt_ts</th><th>npred [5]</th><th>npred_excess [5]</th><th>stat</th><th>is_ul</th><th>counts [5]</th><th>success</th><th>norm_scan [11]</th><th>stat_scan [11]</th></tr></thead>\n",
       "<thead><tr><th></th><th>TeV</th><th>TeV</th><th>TeV</th><th>1 / (m2 s TeV)</th><th>1 / (m2 s TeV)</th><th>1 / (m2 s TeV)</th><th>1 / (m2 s TeV)</th><th>1 / (m2 s TeV)</th><th></th><th></th><th></th><th></th><th></th><th></th><th></th><th></th><th></th><th></th></tr></thead>\n",
       "<tr><td>0</td><td>0.12059085510306966</td><td>0.10000000000000002</td><td>0.1454215433448954</td><td>nan</td><td>nan</td><td>nan</td><td>nan</td><td>nan</td><td>nan</td><td>nan</td><td>nan .. nan</td><td>0.0 .. 0.0</td><td>0.0</td><td>False</td><td>0.0 .. 0.0</td><td>False</td><td>0.2 .. 4.999999999999999</td><td>nan .. nan</td></tr>\n",
       "<tr><td>1</td><td>0.21147425268811285</td><td>0.1454215433448954</td><td>0.30752912203613764</td><td>-1.0552303787268612e-09</td><td>1.5817735045352397e-09</td><td>nan</td><td>nan</td><td>nan</td><td>0.3565536366461828</td><td>-0.5971211239323081</td><td>0.45386324774439246 .. 0.0</td><td>-0.24178892 .. 0.0</td><td>2.324175628999889</td><td>True</td><td>0.0 .. 0.0</td><td>True</td><td>0.2 .. 4.999999999999999</td><td>2.6851977258033344 .. 2.7986853043025377</td></tr>\n",
       "<tr><td>2</td><td>0.37085199795434093</td><td>0.30752912203613764</td><td>0.447213595499958</td><td>6.53330979686643e-09</td><td>1.5708666429516552e-08</td><td>nan</td><td>nan</td><td>nan</td><td>0.20884043366354987</td><td>0.4569906275445371</td><td>1.0605406507679294 .. 0.8155750213830333</td><td>0.14749718 .. 0.14890836</td><td>8.354058084987368</td><td>True</td><td>0.0 .. 0.0</td><td>True</td><td>0.2 .. 4.999999999999999</td><td>8.519672298411862 .. 8.7039857961163</td></tr>\n",
       "<tr><td>3</td><td>0.5392986989505824</td><td>0.447213595499958</td><td>0.6503449126242364</td><td>5.953222063563015e-09</td><td>1.519353136943087e-08</td><td>1.8152915628923098e-08</td><td>nan</td><td>4.868736867823589e-08</td><td>0.17971714095918223</td><td>0.4239305850716391</td><td>0.5182097195148707 .. 0.5527325101723197</td><td>0.13852799 .. 0.13594303</td><td>2.195664542333267</td><td>True</td><td>1.0 .. 1.0</td><td>True</td><td>0.2 .. 4.999999999999999</td><td>2.260319253686623 .. 7.377804940199779</td></tr>\n",
       "<tr><td>4</td><td>0.9457416090031759</td><td>0.6503449126242364</td><td>1.3753120438672644</td><td>5.978934744953851e-09</td><td>4.257711351454899e-09</td><td>4.891353890539114e-09</td><td>3.6859661286267025e-09</td><td>1.7119767078739335e-08</td><td>3.3153233321079547</td><td>1.8208029360993339</td><td>1.1298656144532593 .. 0.9927021829074955</td><td>0.63714445 .. 0.6450597</td><td>9.147573299134102</td><td>True</td><td>1.0 .. 1.0</td><td>True</td><td>0.2 .. 4.999999999999999</td><td>11.297439575124908 .. 16.924295262933818</td></tr>\n",
       "<tr><td>5</td><td>1.6585005540350382</td><td>1.3753120438672644</td><td>2.0</td><td>3.370175637048757e-17</td><td>1.217854685031848e-13</td><td>2.2725686962033828e-10</td><td>nan</td><td>nan</td><td>-1.4829807604144207e-07</td><td>0.0</td><td>1.351820236471535e-08 .. 0.030303047301649892</td><td>1.3518203e-08 .. 1.699862e-08</td><td>0.512883993057109</td><td>True</td><td>0.0 .. 0.0</td><td>True</td><td>0.2 .. 4.999999999999999</td><td>0.5771229295491791 .. 2.1188609645126957</td></tr>\n",
       "</table><style>table.dataTable {clear: both; width: auto !important; margin: 0 !important;}\n",
       ".dataTables_info, .dataTables_length, .dataTables_filter, .dataTables_paginate{\n",
       "display: inline-block; margin-right: 1em; }\n",
       ".paginate_button { margin-right: 5px; }\n",
       "</style>\n",
       "<script>\n",
       "\n",
       "var astropy_sort_num = function(a, b) {\n",
       "    var a_num = parseFloat(a);\n",
       "    var b_num = parseFloat(b);\n",
       "\n",
       "    if (isNaN(a_num) && isNaN(b_num))\n",
       "        return ((a < b) ? -1 : ((a > b) ? 1 : 0));\n",
       "    else if (!isNaN(a_num) && !isNaN(b_num))\n",
       "        return ((a_num < b_num) ? -1 : ((a_num > b_num) ? 1 : 0));\n",
       "    else\n",
       "        return isNaN(a_num) ? -1 : 1;\n",
       "}\n",
       "\n",
       "require.config({paths: {\n",
       "    datatables: 'https://cdn.datatables.net/1.10.12/js/jquery.dataTables.min'\n",
       "}});\n",
       "require([\"datatables\"], function(){\n",
       "    console.log(\"$('#table140518701016352-744918').dataTable()\");\n",
       "    \n",
       "jQuery.extend( jQuery.fn.dataTableExt.oSort, {\n",
       "    \"optionalnum-asc\": astropy_sort_num,\n",
       "    \"optionalnum-desc\": function (a,b) { return -astropy_sort_num(a, b); }\n",
       "});\n",
       "\n",
       "    $('#table140518701016352-744918').dataTable({\n",
       "        order: [],\n",
       "        pageLength: 50,\n",
       "        lengthMenu: [[10, 25, 50, 100, 500, 1000, -1], [10, 25, 50, 100, 500, 1000, 'All']],\n",
       "        pagingType: \"full_numbers\",\n",
       "        columnDefs: [{targets: [0, 1, 2, 3, 4, 5, 6, 7, 8, 9, 10, 11, 12, 13, 15, 17, 18], type: \"optionalnum\"}]\n",
       "    });\n",
       "});\n",
       "</script>\n"
      ],
      "text/plain": [
       "<IPython.core.display.HTML object>"
      ]
     },
     "execution_count": 33,
     "metadata": {},
     "output_type": "execute_result"
    }
   ],
   "source": [
    "gammapy_flux = flux_points.to_table(sed_type='dnde')\n",
    "gammapy_flux.show_in_notebook()"
   ]
  },
  {
   "cell_type": "code",
   "execution_count": null,
   "id": "22959da0",
   "metadata": {},
   "outputs": [],
   "source": []
  },
  {
   "cell_type": "code",
   "execution_count": 34,
   "id": "de4579e6",
   "metadata": {},
   "outputs": [
    {
     "name": "stdout",
     "output_type": "stream",
     "text": [
      "nan 2\n"
     ]
    }
   ],
   "source": [
    "chi_sq, dof = reduced_chi_sq(gammapy_flux['dnde'], spectral_model(gammapy_flux['e_ref']), gammapy_flux['dnde_err'], 4)\n",
    "print(chi_sq, dof)"
   ]
  },
  {
   "cell_type": "code",
   "execution_count": null,
   "id": "af1be60b",
   "metadata": {},
   "outputs": [],
   "source": []
  },
  {
   "cell_type": "code",
   "execution_count": 36,
   "id": "a13a7235",
   "metadata": {},
   "outputs": [
    {
     "name": "stderr",
     "output_type": "stream",
     "text": [
      "WARNING: hdu= was not specified but multiple tables are present, reading in first available table (hdu=1) [astropy.io.fits.connect]\n"
     ]
    },
    {
     "data": {
      "text/html": [
       "<div><i>Table length=5</i>\n",
       "<table id=\"table140518754008320\" class=\"table-striped table-bordered table-condensed\">\n",
       "<thead><tr><th>E</th><th>dNdE</th><th>dNdE_errl</th><th>dNdE_erru</th><th>dNdE_ul</th><th>Hz</th><th>nuFnu</th><th>nuFnu_errl</th><th>nuFnu_erru</th><th>nuFnu_ul</th><th>Sigma</th></tr></thead>\n",
       "<thead><tr><th>TeV</th><th>1 / (cm2 s TeV)</th><th>1 / (cm2 s TeV)</th><th>1 / (cm2 s TeV)</th><th>1 / (cm2 s TeV)</th><th>Hz</th><th>erg / (cm2 s)</th><th>erg / (cm2 s)</th><th>erg / (cm2 s)</th><th>erg / (cm2 s)</th><th></th></tr></thead>\n",
       "<thead><tr><th>float64</th><th>float64</th><th>float64</th><th>float64</th><th>float64</th><th>float64</th><th>float64</th><th>float64</th><th>float64</th><th>float64</th><th>float64</th></tr></thead>\n",
       "<tr><td>0.39810717055349704</td><td>2.594568396658546e-10</td><td>1.7531998788451783e-11</td><td>1.8328744267171375e-11</td><td>0.0</td><td>9.626188555952215e+25</td><td>6.588332629467718e-11</td><td>4.451863355250235e-12</td><td>4.654179248775704e-12</td><td>0.0</td><td>0.0</td></tr>\n",
       "<tr><td>0.6309573444801928</td><td>6.225869491350621e-11</td><td>5.176365952855205e-12</td><td>5.47399791560092e-12</td><td>0.0</td><td>1.5256480711675739e+26</td><td>3.9710961850216795e-11</td><td>3.3016829402249626e-12</td><td>3.4915239180099986e-12</td><td>0.0</td><td>0.0</td></tr>\n",
       "<tr><td>0.9999999999999992</td><td>1.2755113059947644e-11</td><td>1.6137508116126233e-12</td><td>1.7578911604462704e-12</td><td>0.0</td><td>2.417989242084916e+26</td><td>2.043594410867632e-11</td><td>2.5855138434642765e-12</td><td>2.8164521423821543e-12</td><td>0.0</td><td>0.0</td></tr>\n",
       "<tr><td>1.584893192461112</td><td>1.7159468830440653e-12</td><td>4.112787859663585e-13</td><td>4.882137739821135e-13</td><td>0.0</td><td>3.83225468922459e+26</td><td>6.905803774837774e-12</td><td>1.655185612504906e-12</td><td>1.9648093752834976e-12</td><td>0.0</td><td>0.0</td></tr>\n",
       "<tr><td>2.5118864315095766</td><td>0.0</td><td>0.0</td><td>0.0</td><td>5.61924080180172e-13</td><td>6.0737143687292305e+26</td><td>0.0</td><td>0.0</td><td>0.0</td><td>5.680519265456438e-12</td><td>0.0</td></tr>\n",
       "</table></div>"
      ],
      "text/plain": [
       "<Table length=5>\n",
       "         E                   dNdE          ...        nuFnu_ul        Sigma \n",
       "        TeV            1 / (cm2 s TeV)     ...     erg / (cm2 s)            \n",
       "      float64              float64         ...        float64        float64\n",
       "------------------- ---------------------- ... --------------------- -------\n",
       "0.39810717055349704  2.594568396658546e-10 ...                   0.0     0.0\n",
       " 0.6309573444801928  6.225869491350621e-11 ...                   0.0     0.0\n",
       " 0.9999999999999992 1.2755113059947644e-11 ...                   0.0     0.0\n",
       "  1.584893192461112 1.7159468830440653e-12 ...                   0.0     0.0\n",
       " 2.5118864315095766                    0.0 ... 5.680519265456438e-12     0.0"
      ]
     },
     "execution_count": 36,
     "metadata": {},
     "output_type": "execute_result"
    }
   ],
   "source": [
    "paper = Table.read('/Users/Leo/Documents/McGill/Summer Intro to VERITAS/BL Lacertae/bl_combine.fits', \n",
    "                   format='fits')\n",
    "paper"
   ]
  },
  {
   "cell_type": "code",
   "execution_count": null,
   "id": "89c6ee4c",
   "metadata": {},
   "outputs": [],
   "source": []
  },
  {
   "cell_type": "code",
   "execution_count": 41,
   "id": "bf8571d3",
   "metadata": {},
   "outputs": [
    {
     "data": {
      "image/png": "[encoded data removed]",
      "text/plain": [
       "<Figure size 1080x576 with 1 Axes>"
      ]
     },
     "metadata": {
      "needs_background": "light"
     },
     "output_type": "display_data"
    }
   ],
   "source": [
    "fig, ax = plt.subplots(figsize=(15, 8))\n",
    "\n",
    "plt.errorbar(paper['E'], paper['dNdE'] * 1.602, yerr=paper['dNdE_errl'] * 1.602, \n",
    "             color='orangered', ls='', marker='o', label='Paper')\n",
    "\n",
    "flux_points.plot(ax=ax, sed_type=\"dnde\", color=\"k\", label='Gammapy')\n",
    "\n",
    "spectral_model.plot(energy_bounds, sed_type='dnde', label='Log Parabola Fit')\n",
    "spectral_model.plot_error(energy_bounds, sed_type='dnde', alpha=0.2)\n",
    "\n",
    "ax.set_xscale('log')\n",
    "ax.grid(which='minor')\n",
    "ax.grid(which='major')\n",
    "ax.legend()\n",
    "\n",
    "plt.title('BL Lacertae 2016 gamma flare spectrum', fontsize=16)\n",
    "\n",
    "plt.show()"
   ]
  },
  {
   "cell_type": "code",
   "execution_count": null,
   "id": "67d62443",
   "metadata": {},
   "outputs": [],
   "source": []
  },
  {
   "cell_type": "code",
   "execution_count": null,
   "id": "ff1b63b5",
   "metadata": {},
   "outputs": [],
   "source": []
  },
  {
   "cell_type": "code",
   "execution_count": 50,
   "id": "b830ada1",
   "metadata": {},
   "outputs": [
    {
     "name": "stdout",
     "output_type": "stream",
     "text": [
      "2016-10-05 03:57:36.000\n"
     ]
    }
   ],
   "source": [
    "start_mjd = Time(57666.165, format='mjd')\n",
    "print(start_mjd.iso)"
   ]
  },
  {
   "cell_type": "code",
   "execution_count": 54,
   "id": "8aeb3eca",
   "metadata": {},
   "outputs": [],
   "source": [
    "t0 = Time('2016-10-05T03:57:36.000')\n",
    "\n",
    "duration = 200 * u.min\n",
    "n_time_bins = 6\n",
    "times = t0 + np.arange(n_time_bins) * duration\n",
    "time_intervals = [Time([tstart, tstop]) for tstart, tstop in zip(times[:-1], times[1:])]"
   ]
  },
  {
   "cell_type": "code",
   "execution_count": null,
   "id": "584bebe8",
   "metadata": {},
   "outputs": [],
   "source": []
  },
  {
   "cell_type": "code",
   "execution_count": 55,
   "id": "65eb5444",
   "metadata": {},
   "outputs": [
    {
     "name": "stdout",
     "output_type": "stream",
     "text": [
      "Number of observations after time filtering: 5\n",
      "\n",
      "GTI info:\n",
      "- Number of GTIs: 1\n",
      "- Duration: 1801.0 s\n",
      "- Start: 368425591.8900612 s MET\n",
      "- Start: 2016-10-05T04:26:27.890 (time standard: UTC)\n",
      "- Stop: 368427392.8900612 s MET\n",
      "- Stop: 2016-10-05T04:56:28.890 (time standard: UTC)\n",
      "\n"
     ]
    }
   ],
   "source": [
    "short_observations = observations.select_time(time_intervals)\n",
    "\n",
    "print(f\"Number of observations after time filtering: {len(short_observations)}\\n\")\n",
    "print(short_observations[1].gti)"
   ]
  },
  {
   "cell_type": "code",
   "execution_count": null,
   "id": "625afdf4",
   "metadata": {},
   "outputs": [],
   "source": []
  },
  {
   "cell_type": "code",
   "execution_count": 59,
   "id": "13892d72",
   "metadata": {},
   "outputs": [],
   "source": [
    "#redo?\n",
    "\n",
    "dataset_maker = SpectrumDatasetMaker(containment_correction=False, selection=[\"counts\", \"exposure\", \"edisp\"])\n",
    "bkg_maker = ReflectedRegionsBackgroundMaker()\n",
    "safe_mask_masker = SafeMaskMaker(methods=[\"aeff-max\"], aeff_percent=10)\n",
    "\n",
    "datasets = Datasets()\n",
    "\n",
    "dataset_empty = SpectrumDataset.create(geom=geom, energy_axis_true=energy_axis_true)\n",
    "\n",
    "for obs in short_observations:\n",
    "    dataset = dataset_maker.run(dataset_empty.copy(), obs)\n",
    "    dataset_on_off = bkg_maker.run(dataset, obs)\n",
    "    dataset_on_off = safe_mask_masker.run(dataset_on_off, obs)\n",
    "    datasets.append(dataset_on_off)"
   ]
  },
  {
   "cell_type": "code",
   "execution_count": 60,
   "id": "2bd063f7",
   "metadata": {},
   "outputs": [],
   "source": [
    "spectral_model.parameters.frozen = False\n",
    "sky_model = SkyModel(spatial_model=None, spectral_model=spectral_model, name=\"BL Lacertae\")"
   ]
  },
  {
   "cell_type": "code",
   "execution_count": null,
   "id": "792c3012",
   "metadata": {},
   "outputs": [],
   "source": []
  },
  {
   "cell_type": "code",
   "execution_count": 61,
   "id": "4031949f",
   "metadata": {},
   "outputs": [],
   "source": [
    "datasets.models = sky_model"
   ]
  },
  {
   "cell_type": "code",
   "execution_count": null,
   "id": "ff740565",
   "metadata": {},
   "outputs": [],
   "source": []
  },
  {
   "cell_type": "code",
   "execution_count": 62,
   "id": "4a1aa5a8",
   "metadata": {},
   "outputs": [],
   "source": [
    "lc_maker_1d = LightCurveEstimator(energy_edges=[0.2, 5] * u.TeV, source=0, \n",
    "                                  time_intervals=time_intervals, selection_optional=None)"
   ]
  },
  {
   "cell_type": "code",
   "execution_count": 63,
   "id": "54d148ba",
   "metadata": {},
   "outputs": [],
   "source": [
    "lc_1d = lc_maker_1d.run(datasets)"
   ]
  },
  {
   "cell_type": "code",
   "execution_count": null,
   "id": "aeeed4fa",
   "metadata": {},
   "outputs": [],
   "source": []
  },
  {
   "cell_type": "code",
   "execution_count": 64,
   "id": "6b1882dc",
   "metadata": {},
   "outputs": [],
   "source": [
    "header=\"\"\"# %ECSV 1.0\n",
    "# ---\n",
    "# datatype:\n",
    "# - {name: time_min, datatype: float64}\n",
    "# - {name: time_max, datatype: float64}\n",
    "# - {name: e_ref, unit: TeV, datatype: string, subtype: 'float64[1]'}\n",
    "# - {name: e_min, unit: TeV, datatype: string, subtype: 'float64[1]'}\n",
    "# - {name: e_max, unit: TeV, datatype: string, subtype: 'float64[1]'}\n",
    "# - {name: flux, unit: 1 / (m2 s), datatype: string, subtype: 'float64[1]'}\n",
    "# - {name: flux_err, unit: 1 / (m2 s), datatype: string, subtype: 'float64[1]'}\n",
    "# - {name: ts, unit: '', datatype: string, subtype: 'float64[1]'}\n",
    "# - {name: sqrt_ts, unit: '', datatype: string, subtype: 'float64[1]'}\n",
    "# - {name: npred, unit: '', datatype: string, subtype: 'float64[1,44]'}\n",
    "# - {name: npred_excess, unit: '', datatype: string, subtype: 'float64[1,44]'}\n",
    "# - {name: stat, unit: '', datatype: string, subtype: 'float64[1]'}\n",
    "# - {name: is_ul, datatype: string, subtype: 'bool[1]'}\n",
    "# - {name: counts, unit: '', datatype: string, subtype: 'float64[1,44]'}\n",
    "# - {name: success, unit: '', datatype: string, subtype: 'bool[1]'}\n",
    "# schema: astropy-2.0\n",
    "time_min time_max e_ref e_min e_max flux flux_err ts sqrt_ts npred npred_excess stat is_ul counts success\"\"\""
   ]
  },
  {
   "cell_type": "code",
   "execution_count": null,
   "id": "92eee20f",
   "metadata": {},
   "outputs": [],
   "source": []
  },
  {
   "cell_type": "code",
   "execution_count": 65,
   "id": "f7685bed",
   "metadata": {},
   "outputs": [
    {
     "name": "stderr",
     "output_type": "stream",
     "text": [
      "WARNING: hdu= was not specified but multiple tables are present, reading in first available table (hdu=1) [astropy.io.fits.connect]\n"
     ]
    },
    {
     "ename": "KeyError",
     "evalue": "'e_cut'",
     "output_type": "error",
     "traceback": [
      "\u001b[0;31m---------------------------------------------------------------------------\u001b[0m",
      "\u001b[0;31mKeyError\u001b[0m                                  Traceback (most recent call last)",
      "Input \u001b[0;32mIn [65]\u001b[0m, in \u001b[0;36m<cell line: 8>\u001b[0;34m()\u001b[0m\n\u001b[1;32m      4\u001b[0m filename \u001b[38;5;241m=\u001b[39m \u001b[38;5;124m'\u001b[39m\u001b[38;5;124m/Users/Leo/Documents/McGill/Summer Intro to VERITAS/BL Lacertae/bl_combine.fits\u001b[39m\u001b[38;5;124m'\u001b[39m\n\u001b[1;32m      6\u001b[0m imp_tab \u001b[38;5;241m=\u001b[39m Table\u001b[38;5;241m.\u001b[39mread(filename)\n\u001b[0;32m----> 8\u001b[0m imp_tab[\u001b[38;5;124m\"\u001b[39m\u001b[38;5;124me_max\u001b[39m\u001b[38;5;124m\"\u001b[39m] \u001b[38;5;241m=\u001b[39m \u001b[43mimp_tab\u001b[49m\u001b[43m[\u001b[49m\u001b[38;5;124;43m\"\u001b[39;49m\u001b[38;5;124;43me_cut\u001b[39;49m\u001b[38;5;124;43m\"\u001b[39;49m\u001b[43m]\u001b[49m\n\u001b[1;32m      9\u001b[0m imp_tab[\u001b[38;5;124m\"\u001b[39m\u001b[38;5;124me_ref\u001b[39m\u001b[38;5;124m\"\u001b[39m] \u001b[38;5;241m=\u001b[39m np\u001b[38;5;241m.\u001b[39mexp(np\u001b[38;5;241m.\u001b[39mlog(imp_tab[\u001b[38;5;124m\"\u001b[39m\u001b[38;5;124me_min\u001b[39m\u001b[38;5;124m\"\u001b[39m]) \u001b[38;5;241m+\u001b[39m np\u001b[38;5;241m.\u001b[39mlog(imp_tab[\u001b[38;5;124m\"\u001b[39m\u001b[38;5;124me_max\u001b[39m\u001b[38;5;124m\"\u001b[39m]) \u001b[38;5;241m/\u001b[39m \u001b[38;5;241m2\u001b[39m)\n\u001b[1;32m     11\u001b[0m imp_tab[\u001b[38;5;124m\"\u001b[39m\u001b[38;5;124mtime_min\u001b[39m\u001b[38;5;124m\"\u001b[39m] \u001b[38;5;241m=\u001b[39m imp_tab[\u001b[38;5;124m\"\u001b[39m\u001b[38;5;124me_cut\u001b[39m\u001b[38;5;124m\"\u001b[39m]\n",
      "File \u001b[0;32m~/opt/anaconda3/lib/python3.9/site-packages/astropy/table/table.py:1882\u001b[0m, in \u001b[0;36mTable.__getitem__\u001b[0;34m(self, item)\u001b[0m\n\u001b[1;32m   1880\u001b[0m \u001b[38;5;28;01mdef\u001b[39;00m \u001b[38;5;21m__getitem__\u001b[39m(\u001b[38;5;28mself\u001b[39m, item):\n\u001b[1;32m   1881\u001b[0m     \u001b[38;5;28;01mif\u001b[39;00m \u001b[38;5;28misinstance\u001b[39m(item, \u001b[38;5;28mstr\u001b[39m):\n\u001b[0;32m-> 1882\u001b[0m         \u001b[38;5;28;01mreturn\u001b[39;00m \u001b[38;5;28;43mself\u001b[39;49m\u001b[38;5;241;43m.\u001b[39;49m\u001b[43mcolumns\u001b[49m\u001b[43m[\u001b[49m\u001b[43mitem\u001b[49m\u001b[43m]\u001b[49m\n\u001b[1;32m   1883\u001b[0m     \u001b[38;5;28;01melif\u001b[39;00m \u001b[38;5;28misinstance\u001b[39m(item, (\u001b[38;5;28mint\u001b[39m, np\u001b[38;5;241m.\u001b[39minteger)):\n\u001b[1;32m   1884\u001b[0m         \u001b[38;5;28;01mreturn\u001b[39;00m \u001b[38;5;28mself\u001b[39m\u001b[38;5;241m.\u001b[39mRow(\u001b[38;5;28mself\u001b[39m, item)\n",
      "File \u001b[0;32m~/opt/anaconda3/lib/python3.9/site-packages/astropy/table/table.py:247\u001b[0m, in \u001b[0;36mTableColumns.__getitem__\u001b[0;34m(self, item)\u001b[0m\n\u001b[1;32m    237\u001b[0m \u001b[38;5;124;03m\"\"\"Get items from a TableColumns object.\u001b[39;00m\n\u001b[1;32m    238\u001b[0m \u001b[38;5;124;03m::\u001b[39;00m\n\u001b[1;32m    239\u001b[0m \n\u001b[0;32m   (...)\u001b[0m\n\u001b[1;32m    244\u001b[0m \u001b[38;5;124;03m  tc[1:3] # <TableColumns names=('b', 'c')>\u001b[39;00m\n\u001b[1;32m    245\u001b[0m \u001b[38;5;124;03m\"\"\"\u001b[39;00m\n\u001b[1;32m    246\u001b[0m \u001b[38;5;28;01mif\u001b[39;00m \u001b[38;5;28misinstance\u001b[39m(item, \u001b[38;5;28mstr\u001b[39m):\n\u001b[0;32m--> 247\u001b[0m     \u001b[38;5;28;01mreturn\u001b[39;00m \u001b[43mOrderedDict\u001b[49m\u001b[38;5;241;43m.\u001b[39;49m\u001b[38;5;21;43m__getitem__\u001b[39;49m\u001b[43m(\u001b[49m\u001b[38;5;28;43mself\u001b[39;49m\u001b[43m,\u001b[49m\u001b[43m \u001b[49m\u001b[43mitem\u001b[49m\u001b[43m)\u001b[49m\n\u001b[1;32m    248\u001b[0m \u001b[38;5;28;01melif\u001b[39;00m \u001b[38;5;28misinstance\u001b[39m(item, (\u001b[38;5;28mint\u001b[39m, np\u001b[38;5;241m.\u001b[39minteger)):\n\u001b[1;32m    249\u001b[0m     \u001b[38;5;28;01mreturn\u001b[39;00m \u001b[38;5;28mlist\u001b[39m(\u001b[38;5;28mself\u001b[39m\u001b[38;5;241m.\u001b[39mvalues())[item]\n",
      "\u001b[0;31mKeyError\u001b[0m: 'e_cut'"
     ]
    }
   ],
   "source": [
    "with open(\"temptest.ecsv\", \"w\") as myfile:\n",
    "    myfile.write(header)\n",
    "\n",
    "filename = '/Users/Leo/Documents/McGill/Summer Intro to VERITAS/BL Lacertae/bl_combine.fits'\n",
    "\n",
    "imp_tab = Table.read(filename)\n",
    "\n",
    "imp_tab[\"e_max\"] = imp_tab[\"e_cut\"]\n",
    "imp_tab[\"e_ref\"] = np.exp(np.log(imp_tab[\"e_min\"]) + np.log(imp_tab[\"e_max\"]) / 2)\n",
    "\n",
    "imp_tab[\"time_min\"] = imp_tab[\"e_cut\"]\n",
    "imp_tab[\"time_max\"] = imp_tab[\"time\"] + (imp_tab[\"time_bin\"] / 2.01)\n",
    "imp_tab[\"time_min\"] = imp_tab[\"time\"] - (imp_tab[\"time_bin\"] / 2.01)\n",
    "\n",
    "extend = '[[NaN,NaN,NaN,NaN,NaN,NaN,NaN,NaN,NaN,NaN,NaN,NaN,NaN,NaN,NaN,NaN,NaN,NaN,' \\\n",
    "+ 'NaN,NaN,NaN,NaN,NaN,NaN,NaN,NaN,NaN,NaN,NaN,NaN,NaN,NaN,NaN,NaN,NaN,NaN,NaN,NaN,NaN,NaN,NaN,NaN,NaN,NaN]] ' \\\n",
    "+ '[[NaN,NaN,NaN,NaN,NaN,NaN,NaN,NaN,NaN,NaN,NaN,NaN,NaN,NaN,NaN,NaN,NaN,NaN,NaN,NaN,NaN,NaN,NaN,NaN,NaN,NaN,' \\\n",
    "+ 'NaN,NaN,NaN,NaN,NaN,NaN,NaN,NaN,NaN,NaN,NaN,NaN,NaN,NaN,NaN,NaN,NaN,NaN]] [0.0] [false] ' \\\n",
    "+ '[[NaN,NaN,NaN,NaN,NaN,NaN,NaN,NaN,NaN,NaN,NaN,NaN,NaN,NaN,NaN,NaN,NaN,NaN,NaN,NaN,NaN,NaN,NaN,NaN,NaN,NaN,' \\\n",
    "+ 'NaN,NaN,NaN,NaN,NaN,NaN,NaN,NaN,NaN,NaN,NaN,NaN,NaN,NaN,NaN,NaN,NaN,NaN]] [true]'\n",
    "\n",
    "for i in range(len(imp_tab)):\n",
    "\n",
    "    with open(\"temptest.ecsv\", \"a\") as myfile:\n",
    "        myfile.write(f'\\n{imp_tab[i][\"time_min\"]} {imp_tab[i][\"time_max\"]} [{imp_tab[i][\"e_ref\"]}] ' \\\n",
    "                     + f'[{imp_tab[i][\"e_min\"]}] [{imp_tab[i][\"e_max\"]}] [{imp_tab[i][\"flux\"]}] ' \\\n",
    "                     + f'[{imp_tab[i][\"flux_err\"]}] [0] [0] {extend}')\n",
    "\n",
    "lc_test=FluxPoints.read('temptest.ecsv', reference_model=spectral_model, sed_type='flux', format='lightcurve')"
   ]
  },
  {
   "cell_type": "code",
   "execution_count": null,
   "id": "2167548f",
   "metadata": {},
   "outputs": [],
   "source": [
    "plt.figure(figsize=(15, 8))\n",
    "lc_test.plot(sed_type='dnde', marker=\"o\")\n",
    "plt.show()"
   ]
  },
  {
   "cell_type": "code",
   "execution_count": null,
   "id": "4ac66bda",
   "metadata": {},
   "outputs": [],
   "source": []
  },
  {
   "cell_type": "code",
   "execution_count": 67,
   "id": "33e91d3b",
   "metadata": {},
   "outputs": [
    {
     "ename": "NameError",
     "evalue": "name 'lc_test' is not defined",
     "output_type": "error",
     "traceback": [
      "\u001b[0;31m---------------------------------------------------------------------------\u001b[0m",
      "\u001b[0;31mNameError\u001b[0m                                 Traceback (most recent call last)",
      "Input \u001b[0;32mIn [67]\u001b[0m, in \u001b[0;36m<cell line: 5>\u001b[0;34m()\u001b[0m\n\u001b[1;32m      3\u001b[0m plt\u001b[38;5;241m.\u001b[39mylabel(\u001b[38;5;124mr\u001b[39m\u001b[38;5;124m'\u001b[39m\u001b[38;5;124m$dN/dE$ [cm$^\u001b[39m\u001b[38;5;124m{\u001b[39m\u001b[38;5;124m-2}$ s$^\u001b[39m\u001b[38;5;124m{\u001b[39m\u001b[38;5;124m-1}$ TeV$^\u001b[39m\u001b[38;5;124m{\u001b[39m\u001b[38;5;124m-1}$]  for $E$ > 200 GeV\u001b[39m\u001b[38;5;124m'\u001b[39m)\n\u001b[1;32m      4\u001b[0m lc_1d\u001b[38;5;241m.\u001b[39mplot(marker\u001b[38;5;241m=\u001b[39m\u001b[38;5;124m\"\u001b[39m\u001b[38;5;124mo\u001b[39m\u001b[38;5;124m\"\u001b[39m, color\u001b[38;5;241m=\u001b[39m\u001b[38;5;124m'\u001b[39m\u001b[38;5;124mg\u001b[39m\u001b[38;5;124m'\u001b[39m,label\u001b[38;5;241m=\u001b[39m\u001b[38;5;124m'\u001b[39m\u001b[38;5;124mGammapy\u001b[39m\u001b[38;5;124m'\u001b[39m)\n\u001b[0;32m----> 5\u001b[0m \u001b[43mlc_test\u001b[49m\u001b[38;5;241m.\u001b[39mplot(sed_type\u001b[38;5;241m=\u001b[39m\u001b[38;5;124m'\u001b[39m\u001b[38;5;124mdnde\u001b[39m\u001b[38;5;124m'\u001b[39m, marker\u001b[38;5;241m=\u001b[39m\u001b[38;5;124m\"\u001b[39m\u001b[38;5;124mo\u001b[39m\u001b[38;5;124m\"\u001b[39m, color\u001b[38;5;241m=\u001b[39m\u001b[38;5;124m'\u001b[39m\u001b[38;5;124mdarkgoldenrod\u001b[39m\u001b[38;5;124m'\u001b[39m)\n\u001b[1;32m      7\u001b[0m \u001b[38;5;66;03m#lc_test2.plot(sed_type='dnde',marker=\"o\",label='Eventdisplay')\u001b[39;00m\n\u001b[1;32m      9\u001b[0m plt\u001b[38;5;241m.\u001b[39mtitle(\u001b[38;5;124m'\u001b[39m\u001b[38;5;124mBL Lacertae 2016 gamma flare lightcurve\u001b[39m\u001b[38;5;124m'\u001b[39m)\n",
      "\u001b[0;31mNameError\u001b[0m: name 'lc_test' is not defined"
     ]
    },
    {
     "data": {
      "image/png": "[encoded data removed]",
      "text/plain": [
       "<Figure size 1080x576 with 1 Axes>"
      ]
     },
     "metadata": {
      "needs_background": "light"
     },
     "output_type": "display_data"
    }
   ],
   "source": [
    "plt.figure(figsize=(15, 8))\n",
    "lc_1d.plot(marker=\"o\", color='g',label='Gammapy')\n",
    "lc_test.plot(sed_type='dnde', marker=\"o\", color='darkgoldenrod')\n",
    "\n",
    "#lc_test2.plot(sed_type='dnde',marker=\"o\",label='Eventdisplay')\n",
    "plt.ylabel(r'$dN/dE$ [cm$^{-2}$ s$^{-1}$ TeV$^{-1}$]  for $E$ > 200 GeV')\n",
    "plt.title('BL Lacertae 2016 gamma flare lightcurve')\n",
    "plt.grid()\n",
    "\n",
    "plt.show()"
   ]
  },
  {
   "cell_type": "code",
   "execution_count": null,
   "id": "d2dfaed5",
   "metadata": {},
   "outputs": [],
   "source": []
  }
 ],
 "metadata": {
  "kernelspec": {
   "display_name": "Python 3 (ipykernel)",
   "language": "python",
   "name": "python3"
  },
  "language_info": {
   "codemirror_mode": {
    "name": "ipython",
    "version": 3
   },
   "file_extension": ".py",
   "mimetype": "text/x-python",
   "name": "python",
   "nbconvert_exporter": "python",
   "pygments_lexer": "ipython3",
   "version": "3.9.12"
  }
 },
 "nbformat": 4,
 "nbformat_minor": 5
}
